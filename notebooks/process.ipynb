{
 "cells": [
  {
   "cell_type": "code",
   "execution_count": 787,
   "metadata": {},
   "outputs": [],
   "source": [
    "from IPython.display import display\n",
    "\n",
    "import pandas as pd\n",
    "import numpy as np\n",
    "\n",
    "import seaborn as sns\n",
    "from matplotlib import pyplot as plt\n",
    "%matplotlib inline\n",
    "\n",
    "from functools import wraps\n",
    "from omegaconf import OmegaConf\n",
    "\n",
    "from sklearn.model_selection import train_test_split\n",
    "from sklearn.metrics import mutual_info_score, accuracy_score\n",
    "from sklearn.feature_extraction import DictVectorizer\n",
    "from sklearn.linear_model import LogisticRegression"
   ]
  },
  {
   "cell_type": "markdown",
   "metadata": {},
   "source": [
    "Load config file"
   ]
  },
  {
   "cell_type": "code",
   "execution_count": 678,
   "metadata": {},
   "outputs": [],
   "source": [
    "def with_config(config_name):\n",
    "    def decorator(func):\n",
    "        @wraps(func)\n",
    "        def wrapper(*args, **kwargs):\n",
    "            with open(f\"../config/{config_name}\", \"rb\") as f:\n",
    "                cfg = OmegaConf.load(f)\n",
    "            config = cfg\n",
    "            return func(config, *args, **kwargs)\n",
    "        return wrapper\n",
    "    return decorator"
   ]
  },
  {
   "cell_type": "markdown",
   "metadata": {},
   "source": [
    "Initial data preparation"
   ]
  },
  {
   "cell_type": "code",
   "execution_count": 679,
   "metadata": {},
   "outputs": [],
   "source": [
    "@with_config(\"main.yaml\")\n",
    "def load_data(cfg) -> pd.DataFrame:\n",
    "    \"\"\"This funtion loads the data in a pandas DataFrame\"\"\"\n",
    "    return pd.read_csv(cfg.data.raw)"
   ]
  },
  {
   "cell_type": "code",
   "execution_count": 680,
   "metadata": {},
   "outputs": [
    {
     "data": {
      "text/html": [
       "<div>\n",
       "<style scoped>\n",
       "    .dataframe tbody tr th:only-of-type {\n",
       "        vertical-align: middle;\n",
       "    }\n",
       "\n",
       "    .dataframe tbody tr th {\n",
       "        vertical-align: top;\n",
       "    }\n",
       "\n",
       "    .dataframe thead th {\n",
       "        text-align: right;\n",
       "    }\n",
       "</style>\n",
       "<table border=\"1\" class=\"dataframe\">\n",
       "  <thead>\n",
       "    <tr style=\"text-align: right;\">\n",
       "      <th></th>\n",
       "      <th>customerID</th>\n",
       "      <th>gender</th>\n",
       "      <th>SeniorCitizen</th>\n",
       "      <th>Partner</th>\n",
       "      <th>Dependents</th>\n",
       "      <th>tenure</th>\n",
       "      <th>PhoneService</th>\n",
       "      <th>MultipleLines</th>\n",
       "      <th>InternetService</th>\n",
       "      <th>OnlineSecurity</th>\n",
       "      <th>...</th>\n",
       "      <th>DeviceProtection</th>\n",
       "      <th>TechSupport</th>\n",
       "      <th>StreamingTV</th>\n",
       "      <th>StreamingMovies</th>\n",
       "      <th>Contract</th>\n",
       "      <th>PaperlessBilling</th>\n",
       "      <th>PaymentMethod</th>\n",
       "      <th>MonthlyCharges</th>\n",
       "      <th>TotalCharges</th>\n",
       "      <th>Churn</th>\n",
       "    </tr>\n",
       "  </thead>\n",
       "  <tbody>\n",
       "    <tr>\n",
       "      <th>0</th>\n",
       "      <td>7590-VHVEG</td>\n",
       "      <td>Female</td>\n",
       "      <td>0</td>\n",
       "      <td>Yes</td>\n",
       "      <td>No</td>\n",
       "      <td>1</td>\n",
       "      <td>No</td>\n",
       "      <td>No phone service</td>\n",
       "      <td>DSL</td>\n",
       "      <td>No</td>\n",
       "      <td>...</td>\n",
       "      <td>No</td>\n",
       "      <td>No</td>\n",
       "      <td>No</td>\n",
       "      <td>No</td>\n",
       "      <td>Month-to-month</td>\n",
       "      <td>Yes</td>\n",
       "      <td>Electronic check</td>\n",
       "      <td>29.85</td>\n",
       "      <td>29.85</td>\n",
       "      <td>No</td>\n",
       "    </tr>\n",
       "    <tr>\n",
       "      <th>1</th>\n",
       "      <td>5575-GNVDE</td>\n",
       "      <td>Male</td>\n",
       "      <td>0</td>\n",
       "      <td>No</td>\n",
       "      <td>No</td>\n",
       "      <td>34</td>\n",
       "      <td>Yes</td>\n",
       "      <td>No</td>\n",
       "      <td>DSL</td>\n",
       "      <td>Yes</td>\n",
       "      <td>...</td>\n",
       "      <td>Yes</td>\n",
       "      <td>No</td>\n",
       "      <td>No</td>\n",
       "      <td>No</td>\n",
       "      <td>One year</td>\n",
       "      <td>No</td>\n",
       "      <td>Mailed check</td>\n",
       "      <td>56.95</td>\n",
       "      <td>1889.5</td>\n",
       "      <td>No</td>\n",
       "    </tr>\n",
       "    <tr>\n",
       "      <th>2</th>\n",
       "      <td>3668-QPYBK</td>\n",
       "      <td>Male</td>\n",
       "      <td>0</td>\n",
       "      <td>No</td>\n",
       "      <td>No</td>\n",
       "      <td>2</td>\n",
       "      <td>Yes</td>\n",
       "      <td>No</td>\n",
       "      <td>DSL</td>\n",
       "      <td>Yes</td>\n",
       "      <td>...</td>\n",
       "      <td>No</td>\n",
       "      <td>No</td>\n",
       "      <td>No</td>\n",
       "      <td>No</td>\n",
       "      <td>Month-to-month</td>\n",
       "      <td>Yes</td>\n",
       "      <td>Mailed check</td>\n",
       "      <td>53.85</td>\n",
       "      <td>108.15</td>\n",
       "      <td>Yes</td>\n",
       "    </tr>\n",
       "    <tr>\n",
       "      <th>3</th>\n",
       "      <td>7795-CFOCW</td>\n",
       "      <td>Male</td>\n",
       "      <td>0</td>\n",
       "      <td>No</td>\n",
       "      <td>No</td>\n",
       "      <td>45</td>\n",
       "      <td>No</td>\n",
       "      <td>No phone service</td>\n",
       "      <td>DSL</td>\n",
       "      <td>Yes</td>\n",
       "      <td>...</td>\n",
       "      <td>Yes</td>\n",
       "      <td>Yes</td>\n",
       "      <td>No</td>\n",
       "      <td>No</td>\n",
       "      <td>One year</td>\n",
       "      <td>No</td>\n",
       "      <td>Bank transfer (automatic)</td>\n",
       "      <td>42.30</td>\n",
       "      <td>1840.75</td>\n",
       "      <td>No</td>\n",
       "    </tr>\n",
       "    <tr>\n",
       "      <th>4</th>\n",
       "      <td>9237-HQITU</td>\n",
       "      <td>Female</td>\n",
       "      <td>0</td>\n",
       "      <td>No</td>\n",
       "      <td>No</td>\n",
       "      <td>2</td>\n",
       "      <td>Yes</td>\n",
       "      <td>No</td>\n",
       "      <td>Fiber optic</td>\n",
       "      <td>No</td>\n",
       "      <td>...</td>\n",
       "      <td>No</td>\n",
       "      <td>No</td>\n",
       "      <td>No</td>\n",
       "      <td>No</td>\n",
       "      <td>Month-to-month</td>\n",
       "      <td>Yes</td>\n",
       "      <td>Electronic check</td>\n",
       "      <td>70.70</td>\n",
       "      <td>151.65</td>\n",
       "      <td>Yes</td>\n",
       "    </tr>\n",
       "  </tbody>\n",
       "</table>\n",
       "<p>5 rows × 21 columns</p>\n",
       "</div>"
      ],
      "text/plain": [
       "   customerID  gender  SeniorCitizen Partner Dependents  tenure PhoneService  \\\n",
       "0  7590-VHVEG  Female              0     Yes         No       1           No   \n",
       "1  5575-GNVDE    Male              0      No         No      34          Yes   \n",
       "2  3668-QPYBK    Male              0      No         No       2          Yes   \n",
       "3  7795-CFOCW    Male              0      No         No      45           No   \n",
       "4  9237-HQITU  Female              0      No         No       2          Yes   \n",
       "\n",
       "      MultipleLines InternetService OnlineSecurity  ... DeviceProtection  \\\n",
       "0  No phone service             DSL             No  ...               No   \n",
       "1                No             DSL            Yes  ...              Yes   \n",
       "2                No             DSL            Yes  ...               No   \n",
       "3  No phone service             DSL            Yes  ...              Yes   \n",
       "4                No     Fiber optic             No  ...               No   \n",
       "\n",
       "  TechSupport StreamingTV StreamingMovies        Contract PaperlessBilling  \\\n",
       "0          No          No              No  Month-to-month              Yes   \n",
       "1          No          No              No        One year               No   \n",
       "2          No          No              No  Month-to-month              Yes   \n",
       "3         Yes          No              No        One year               No   \n",
       "4          No          No              No  Month-to-month              Yes   \n",
       "\n",
       "               PaymentMethod MonthlyCharges  TotalCharges Churn  \n",
       "0           Electronic check          29.85         29.85    No  \n",
       "1               Mailed check          56.95        1889.5    No  \n",
       "2               Mailed check          53.85        108.15   Yes  \n",
       "3  Bank transfer (automatic)          42.30       1840.75    No  \n",
       "4           Electronic check          70.70        151.65   Yes  \n",
       "\n",
       "[5 rows x 21 columns]"
      ]
     },
     "execution_count": 680,
     "metadata": {},
     "output_type": "execute_result"
    }
   ],
   "source": [
    "load_data().head()"
   ]
  },
  {
   "cell_type": "code",
   "execution_count": 681,
   "metadata": {},
   "outputs": [],
   "source": [
    "df = load_data()"
   ]
  },
  {
   "cell_type": "code",
   "execution_count": 682,
   "metadata": {},
   "outputs": [
    {
     "data": {
      "text/plain": [
       "0        No\n",
       "1        No\n",
       "2       Yes\n",
       "3        No\n",
       "4       Yes\n",
       "       ... \n",
       "7038     No\n",
       "7039     No\n",
       "7040     No\n",
       "7041    Yes\n",
       "7042     No\n",
       "Name: Churn, Length: 7043, dtype: object"
      ]
     },
     "execution_count": 682,
     "metadata": {},
     "output_type": "execute_result"
    }
   ],
   "source": [
    "df['Churn']"
   ]
  },
  {
   "cell_type": "code",
   "execution_count": 683,
   "metadata": {},
   "outputs": [],
   "source": [
    "def number_of_rows() -> int:\n",
    "    \"\"\"This function returns the number of rows in the dataframe\"\"\"\n",
    "    return len(load_data())"
   ]
  },
  {
   "cell_type": "code",
   "execution_count": 684,
   "metadata": {},
   "outputs": [
    {
     "data": {
      "text/plain": [
       "7043"
      ]
     },
     "execution_count": 684,
     "metadata": {},
     "output_type": "execute_result"
    }
   ],
   "source": [
    "number_of_rows()"
   ]
  },
  {
   "cell_type": "code",
   "execution_count": 685,
   "metadata": {},
   "outputs": [],
   "source": [
    "def column_transpose() -> pd.DataFrame:\n",
    "    \"\"\"This function gives an overview of the columns and values the represent\"\"\"\n",
    "    return df.head().T"
   ]
  },
  {
   "cell_type": "code",
   "execution_count": 686,
   "metadata": {},
   "outputs": [
    {
     "data": {
      "text/html": [
       "<div>\n",
       "<style scoped>\n",
       "    .dataframe tbody tr th:only-of-type {\n",
       "        vertical-align: middle;\n",
       "    }\n",
       "\n",
       "    .dataframe tbody tr th {\n",
       "        vertical-align: top;\n",
       "    }\n",
       "\n",
       "    .dataframe thead th {\n",
       "        text-align: right;\n",
       "    }\n",
       "</style>\n",
       "<table border=\"1\" class=\"dataframe\">\n",
       "  <thead>\n",
       "    <tr style=\"text-align: right;\">\n",
       "      <th></th>\n",
       "      <th>0</th>\n",
       "      <th>1</th>\n",
       "      <th>2</th>\n",
       "      <th>3</th>\n",
       "      <th>4</th>\n",
       "    </tr>\n",
       "  </thead>\n",
       "  <tbody>\n",
       "    <tr>\n",
       "      <th>customerID</th>\n",
       "      <td>7590-VHVEG</td>\n",
       "      <td>5575-GNVDE</td>\n",
       "      <td>3668-QPYBK</td>\n",
       "      <td>7795-CFOCW</td>\n",
       "      <td>9237-HQITU</td>\n",
       "    </tr>\n",
       "    <tr>\n",
       "      <th>gender</th>\n",
       "      <td>Female</td>\n",
       "      <td>Male</td>\n",
       "      <td>Male</td>\n",
       "      <td>Male</td>\n",
       "      <td>Female</td>\n",
       "    </tr>\n",
       "    <tr>\n",
       "      <th>SeniorCitizen</th>\n",
       "      <td>0</td>\n",
       "      <td>0</td>\n",
       "      <td>0</td>\n",
       "      <td>0</td>\n",
       "      <td>0</td>\n",
       "    </tr>\n",
       "    <tr>\n",
       "      <th>Partner</th>\n",
       "      <td>Yes</td>\n",
       "      <td>No</td>\n",
       "      <td>No</td>\n",
       "      <td>No</td>\n",
       "      <td>No</td>\n",
       "    </tr>\n",
       "    <tr>\n",
       "      <th>Dependents</th>\n",
       "      <td>No</td>\n",
       "      <td>No</td>\n",
       "      <td>No</td>\n",
       "      <td>No</td>\n",
       "      <td>No</td>\n",
       "    </tr>\n",
       "    <tr>\n",
       "      <th>tenure</th>\n",
       "      <td>1</td>\n",
       "      <td>34</td>\n",
       "      <td>2</td>\n",
       "      <td>45</td>\n",
       "      <td>2</td>\n",
       "    </tr>\n",
       "    <tr>\n",
       "      <th>PhoneService</th>\n",
       "      <td>No</td>\n",
       "      <td>Yes</td>\n",
       "      <td>Yes</td>\n",
       "      <td>No</td>\n",
       "      <td>Yes</td>\n",
       "    </tr>\n",
       "    <tr>\n",
       "      <th>MultipleLines</th>\n",
       "      <td>No phone service</td>\n",
       "      <td>No</td>\n",
       "      <td>No</td>\n",
       "      <td>No phone service</td>\n",
       "      <td>No</td>\n",
       "    </tr>\n",
       "    <tr>\n",
       "      <th>InternetService</th>\n",
       "      <td>DSL</td>\n",
       "      <td>DSL</td>\n",
       "      <td>DSL</td>\n",
       "      <td>DSL</td>\n",
       "      <td>Fiber optic</td>\n",
       "    </tr>\n",
       "    <tr>\n",
       "      <th>OnlineSecurity</th>\n",
       "      <td>No</td>\n",
       "      <td>Yes</td>\n",
       "      <td>Yes</td>\n",
       "      <td>Yes</td>\n",
       "      <td>No</td>\n",
       "    </tr>\n",
       "    <tr>\n",
       "      <th>OnlineBackup</th>\n",
       "      <td>Yes</td>\n",
       "      <td>No</td>\n",
       "      <td>Yes</td>\n",
       "      <td>No</td>\n",
       "      <td>No</td>\n",
       "    </tr>\n",
       "    <tr>\n",
       "      <th>DeviceProtection</th>\n",
       "      <td>No</td>\n",
       "      <td>Yes</td>\n",
       "      <td>No</td>\n",
       "      <td>Yes</td>\n",
       "      <td>No</td>\n",
       "    </tr>\n",
       "    <tr>\n",
       "      <th>TechSupport</th>\n",
       "      <td>No</td>\n",
       "      <td>No</td>\n",
       "      <td>No</td>\n",
       "      <td>Yes</td>\n",
       "      <td>No</td>\n",
       "    </tr>\n",
       "    <tr>\n",
       "      <th>StreamingTV</th>\n",
       "      <td>No</td>\n",
       "      <td>No</td>\n",
       "      <td>No</td>\n",
       "      <td>No</td>\n",
       "      <td>No</td>\n",
       "    </tr>\n",
       "    <tr>\n",
       "      <th>StreamingMovies</th>\n",
       "      <td>No</td>\n",
       "      <td>No</td>\n",
       "      <td>No</td>\n",
       "      <td>No</td>\n",
       "      <td>No</td>\n",
       "    </tr>\n",
       "    <tr>\n",
       "      <th>Contract</th>\n",
       "      <td>Month-to-month</td>\n",
       "      <td>One year</td>\n",
       "      <td>Month-to-month</td>\n",
       "      <td>One year</td>\n",
       "      <td>Month-to-month</td>\n",
       "    </tr>\n",
       "    <tr>\n",
       "      <th>PaperlessBilling</th>\n",
       "      <td>Yes</td>\n",
       "      <td>No</td>\n",
       "      <td>Yes</td>\n",
       "      <td>No</td>\n",
       "      <td>Yes</td>\n",
       "    </tr>\n",
       "    <tr>\n",
       "      <th>PaymentMethod</th>\n",
       "      <td>Electronic check</td>\n",
       "      <td>Mailed check</td>\n",
       "      <td>Mailed check</td>\n",
       "      <td>Bank transfer (automatic)</td>\n",
       "      <td>Electronic check</td>\n",
       "    </tr>\n",
       "    <tr>\n",
       "      <th>MonthlyCharges</th>\n",
       "      <td>29.85</td>\n",
       "      <td>56.95</td>\n",
       "      <td>53.85</td>\n",
       "      <td>42.3</td>\n",
       "      <td>70.7</td>\n",
       "    </tr>\n",
       "    <tr>\n",
       "      <th>TotalCharges</th>\n",
       "      <td>29.85</td>\n",
       "      <td>1889.5</td>\n",
       "      <td>108.15</td>\n",
       "      <td>1840.75</td>\n",
       "      <td>151.65</td>\n",
       "    </tr>\n",
       "    <tr>\n",
       "      <th>Churn</th>\n",
       "      <td>No</td>\n",
       "      <td>No</td>\n",
       "      <td>Yes</td>\n",
       "      <td>No</td>\n",
       "      <td>Yes</td>\n",
       "    </tr>\n",
       "  </tbody>\n",
       "</table>\n",
       "</div>"
      ],
      "text/plain": [
       "                                 0             1               2  \\\n",
       "customerID              7590-VHVEG    5575-GNVDE      3668-QPYBK   \n",
       "gender                      Female          Male            Male   \n",
       "SeniorCitizen                    0             0               0   \n",
       "Partner                        Yes            No              No   \n",
       "Dependents                      No            No              No   \n",
       "tenure                           1            34               2   \n",
       "PhoneService                    No           Yes             Yes   \n",
       "MultipleLines     No phone service            No              No   \n",
       "InternetService                DSL           DSL             DSL   \n",
       "OnlineSecurity                  No           Yes             Yes   \n",
       "OnlineBackup                   Yes            No             Yes   \n",
       "DeviceProtection                No           Yes              No   \n",
       "TechSupport                     No            No              No   \n",
       "StreamingTV                     No            No              No   \n",
       "StreamingMovies                 No            No              No   \n",
       "Contract            Month-to-month      One year  Month-to-month   \n",
       "PaperlessBilling               Yes            No             Yes   \n",
       "PaymentMethod     Electronic check  Mailed check    Mailed check   \n",
       "MonthlyCharges               29.85         56.95           53.85   \n",
       "TotalCharges                 29.85        1889.5          108.15   \n",
       "Churn                           No            No             Yes   \n",
       "\n",
       "                                          3                 4  \n",
       "customerID                       7795-CFOCW        9237-HQITU  \n",
       "gender                                 Male            Female  \n",
       "SeniorCitizen                             0                 0  \n",
       "Partner                                  No                No  \n",
       "Dependents                               No                No  \n",
       "tenure                                   45                 2  \n",
       "PhoneService                             No               Yes  \n",
       "MultipleLines              No phone service                No  \n",
       "InternetService                         DSL       Fiber optic  \n",
       "OnlineSecurity                          Yes                No  \n",
       "OnlineBackup                             No                No  \n",
       "DeviceProtection                        Yes                No  \n",
       "TechSupport                             Yes                No  \n",
       "StreamingTV                              No                No  \n",
       "StreamingMovies                          No                No  \n",
       "Contract                           One year    Month-to-month  \n",
       "PaperlessBilling                         No               Yes  \n",
       "PaymentMethod     Bank transfer (automatic)  Electronic check  \n",
       "MonthlyCharges                         42.3              70.7  \n",
       "TotalCharges                        1840.75            151.65  \n",
       "Churn                                    No               Yes  "
      ]
     },
     "execution_count": 686,
     "metadata": {},
     "output_type": "execute_result"
    }
   ],
   "source": [
    "column_transpose()"
   ]
  },
  {
   "cell_type": "code",
   "execution_count": 687,
   "metadata": {},
   "outputs": [],
   "source": [
    "def check_column_type() -> pd.Series:\n",
    "    \"\"\"This function checks the value data types contained in the different columns\"\"\"\n",
    "    return df.dtypes"
   ]
  },
  {
   "cell_type": "code",
   "execution_count": 688,
   "metadata": {},
   "outputs": [
    {
     "data": {
      "text/plain": [
       "customerID           object\n",
       "gender               object\n",
       "SeniorCitizen         int64\n",
       "Partner              object\n",
       "Dependents           object\n",
       "tenure                int64\n",
       "PhoneService         object\n",
       "MultipleLines        object\n",
       "InternetService      object\n",
       "OnlineSecurity       object\n",
       "OnlineBackup         object\n",
       "DeviceProtection     object\n",
       "TechSupport          object\n",
       "StreamingTV          object\n",
       "StreamingMovies      object\n",
       "Contract             object\n",
       "PaperlessBilling     object\n",
       "PaymentMethod        object\n",
       "MonthlyCharges      float64\n",
       "TotalCharges         object\n",
       "Churn                object\n",
       "dtype: object"
      ]
     },
     "execution_count": 688,
     "metadata": {},
     "output_type": "execute_result"
    }
   ],
   "source": [
    "check_column_type()"
   ]
  },
  {
   "cell_type": "code",
   "execution_count": 689,
   "metadata": {},
   "outputs": [],
   "source": [
    "total_charges = pd.to_numeric(df.TotalCharges, errors='coerce')"
   ]
  },
  {
   "cell_type": "code",
   "execution_count": 690,
   "metadata": {},
   "outputs": [
    {
     "data": {
      "text/html": [
       "<div>\n",
       "<style scoped>\n",
       "    .dataframe tbody tr th:only-of-type {\n",
       "        vertical-align: middle;\n",
       "    }\n",
       "\n",
       "    .dataframe tbody tr th {\n",
       "        vertical-align: top;\n",
       "    }\n",
       "\n",
       "    .dataframe thead th {\n",
       "        text-align: right;\n",
       "    }\n",
       "</style>\n",
       "<table border=\"1\" class=\"dataframe\">\n",
       "  <thead>\n",
       "    <tr style=\"text-align: right;\">\n",
       "      <th></th>\n",
       "      <th>customerID</th>\n",
       "      <th>TotalCharges</th>\n",
       "    </tr>\n",
       "  </thead>\n",
       "  <tbody>\n",
       "    <tr>\n",
       "      <th>488</th>\n",
       "      <td>4472-LVYGI</td>\n",
       "      <td></td>\n",
       "    </tr>\n",
       "    <tr>\n",
       "      <th>753</th>\n",
       "      <td>3115-CZMZD</td>\n",
       "      <td></td>\n",
       "    </tr>\n",
       "    <tr>\n",
       "      <th>936</th>\n",
       "      <td>5709-LVOEQ</td>\n",
       "      <td></td>\n",
       "    </tr>\n",
       "    <tr>\n",
       "      <th>1082</th>\n",
       "      <td>4367-NUYAO</td>\n",
       "      <td></td>\n",
       "    </tr>\n",
       "    <tr>\n",
       "      <th>1340</th>\n",
       "      <td>1371-DWPAZ</td>\n",
       "      <td></td>\n",
       "    </tr>\n",
       "    <tr>\n",
       "      <th>3331</th>\n",
       "      <td>7644-OMVMY</td>\n",
       "      <td></td>\n",
       "    </tr>\n",
       "    <tr>\n",
       "      <th>3826</th>\n",
       "      <td>3213-VVOLG</td>\n",
       "      <td></td>\n",
       "    </tr>\n",
       "    <tr>\n",
       "      <th>4380</th>\n",
       "      <td>2520-SGTTA</td>\n",
       "      <td></td>\n",
       "    </tr>\n",
       "    <tr>\n",
       "      <th>5218</th>\n",
       "      <td>2923-ARZLG</td>\n",
       "      <td></td>\n",
       "    </tr>\n",
       "    <tr>\n",
       "      <th>6670</th>\n",
       "      <td>4075-WKNIU</td>\n",
       "      <td></td>\n",
       "    </tr>\n",
       "    <tr>\n",
       "      <th>6754</th>\n",
       "      <td>2775-SEFEE</td>\n",
       "      <td></td>\n",
       "    </tr>\n",
       "  </tbody>\n",
       "</table>\n",
       "</div>"
      ],
      "text/plain": [
       "      customerID TotalCharges\n",
       "488   4472-LVYGI             \n",
       "753   3115-CZMZD             \n",
       "936   5709-LVOEQ             \n",
       "1082  4367-NUYAO             \n",
       "1340  1371-DWPAZ             \n",
       "3331  7644-OMVMY             \n",
       "3826  3213-VVOLG             \n",
       "4380  2520-SGTTA             \n",
       "5218  2923-ARZLG             \n",
       "6670  4075-WKNIU             \n",
       "6754  2775-SEFEE             "
      ]
     },
     "execution_count": 690,
     "metadata": {},
     "output_type": "execute_result"
    }
   ],
   "source": [
    "df[total_charges.isnull()][['customerID', 'TotalCharges']]"
   ]
  },
  {
   "cell_type": "code",
   "execution_count": 691,
   "metadata": {},
   "outputs": [],
   "source": [
    "def fill_missing_total_charge() -> None:\n",
    "    \"\"\"This function fills the empty spaces with NAN in the Total charge column\"\"\"\n",
    "    df.TotalCharges = pd.to_numeric(df.TotalCharges, errors='coerce')\n",
    "    df.TotalCharges = df.TotalCharges.fillna(0)"
   ]
  },
  {
   "cell_type": "code",
   "execution_count": 692,
   "metadata": {},
   "outputs": [],
   "source": [
    "fill_missing_total_charge()"
   ]
  },
  {
   "cell_type": "code",
   "execution_count": 693,
   "metadata": {},
   "outputs": [],
   "source": [
    "def make_columns_uniform() -> None:\n",
    "    \"\"\"This function makes column names lowercase and replaces spaces with underscore\"\"\"\n",
    "    df.columns = df.columns.str.lower().str.replace(\" \", \"_\")"
   ]
  },
  {
   "cell_type": "code",
   "execution_count": 694,
   "metadata": {},
   "outputs": [],
   "source": [
    "make_columns_uniform()"
   ]
  },
  {
   "cell_type": "code",
   "execution_count": 695,
   "metadata": {},
   "outputs": [],
   "source": [
    "def make_values_uniform() -> None:\n",
    "    \"\"\"This function makes all string value lowercase and replaces spaces with underscore\"\"\"\n",
    "    string_columns = list(df.dtypes[df.dtypes == 'object'].index)\n",
    "    for col in string_columns:\n",
    "        df[col] = df[col].str.lower().str.replace(\" \", \"_\")"
   ]
  },
  {
   "cell_type": "code",
   "execution_count": 696,
   "metadata": {},
   "outputs": [],
   "source": [
    "make_values_uniform()"
   ]
  },
  {
   "cell_type": "code",
   "execution_count": 697,
   "metadata": {},
   "outputs": [
    {
     "data": {
      "text/html": [
       "<div>\n",
       "<style scoped>\n",
       "    .dataframe tbody tr th:only-of-type {\n",
       "        vertical-align: middle;\n",
       "    }\n",
       "\n",
       "    .dataframe tbody tr th {\n",
       "        vertical-align: top;\n",
       "    }\n",
       "\n",
       "    .dataframe thead th {\n",
       "        text-align: right;\n",
       "    }\n",
       "</style>\n",
       "<table border=\"1\" class=\"dataframe\">\n",
       "  <thead>\n",
       "    <tr style=\"text-align: right;\">\n",
       "      <th></th>\n",
       "      <th>0</th>\n",
       "      <th>1</th>\n",
       "      <th>2</th>\n",
       "      <th>3</th>\n",
       "      <th>4</th>\n",
       "    </tr>\n",
       "  </thead>\n",
       "  <tbody>\n",
       "    <tr>\n",
       "      <th>customerid</th>\n",
       "      <td>7590-vhveg</td>\n",
       "      <td>5575-gnvde</td>\n",
       "      <td>3668-qpybk</td>\n",
       "      <td>7795-cfocw</td>\n",
       "      <td>9237-hqitu</td>\n",
       "    </tr>\n",
       "    <tr>\n",
       "      <th>gender</th>\n",
       "      <td>female</td>\n",
       "      <td>male</td>\n",
       "      <td>male</td>\n",
       "      <td>male</td>\n",
       "      <td>female</td>\n",
       "    </tr>\n",
       "    <tr>\n",
       "      <th>seniorcitizen</th>\n",
       "      <td>0</td>\n",
       "      <td>0</td>\n",
       "      <td>0</td>\n",
       "      <td>0</td>\n",
       "      <td>0</td>\n",
       "    </tr>\n",
       "    <tr>\n",
       "      <th>partner</th>\n",
       "      <td>yes</td>\n",
       "      <td>no</td>\n",
       "      <td>no</td>\n",
       "      <td>no</td>\n",
       "      <td>no</td>\n",
       "    </tr>\n",
       "    <tr>\n",
       "      <th>dependents</th>\n",
       "      <td>no</td>\n",
       "      <td>no</td>\n",
       "      <td>no</td>\n",
       "      <td>no</td>\n",
       "      <td>no</td>\n",
       "    </tr>\n",
       "    <tr>\n",
       "      <th>tenure</th>\n",
       "      <td>1</td>\n",
       "      <td>34</td>\n",
       "      <td>2</td>\n",
       "      <td>45</td>\n",
       "      <td>2</td>\n",
       "    </tr>\n",
       "    <tr>\n",
       "      <th>phoneservice</th>\n",
       "      <td>no</td>\n",
       "      <td>yes</td>\n",
       "      <td>yes</td>\n",
       "      <td>no</td>\n",
       "      <td>yes</td>\n",
       "    </tr>\n",
       "    <tr>\n",
       "      <th>multiplelines</th>\n",
       "      <td>no_phone_service</td>\n",
       "      <td>no</td>\n",
       "      <td>no</td>\n",
       "      <td>no_phone_service</td>\n",
       "      <td>no</td>\n",
       "    </tr>\n",
       "    <tr>\n",
       "      <th>internetservice</th>\n",
       "      <td>dsl</td>\n",
       "      <td>dsl</td>\n",
       "      <td>dsl</td>\n",
       "      <td>dsl</td>\n",
       "      <td>fiber_optic</td>\n",
       "    </tr>\n",
       "    <tr>\n",
       "      <th>onlinesecurity</th>\n",
       "      <td>no</td>\n",
       "      <td>yes</td>\n",
       "      <td>yes</td>\n",
       "      <td>yes</td>\n",
       "      <td>no</td>\n",
       "    </tr>\n",
       "    <tr>\n",
       "      <th>onlinebackup</th>\n",
       "      <td>yes</td>\n",
       "      <td>no</td>\n",
       "      <td>yes</td>\n",
       "      <td>no</td>\n",
       "      <td>no</td>\n",
       "    </tr>\n",
       "    <tr>\n",
       "      <th>deviceprotection</th>\n",
       "      <td>no</td>\n",
       "      <td>yes</td>\n",
       "      <td>no</td>\n",
       "      <td>yes</td>\n",
       "      <td>no</td>\n",
       "    </tr>\n",
       "    <tr>\n",
       "      <th>techsupport</th>\n",
       "      <td>no</td>\n",
       "      <td>no</td>\n",
       "      <td>no</td>\n",
       "      <td>yes</td>\n",
       "      <td>no</td>\n",
       "    </tr>\n",
       "    <tr>\n",
       "      <th>streamingtv</th>\n",
       "      <td>no</td>\n",
       "      <td>no</td>\n",
       "      <td>no</td>\n",
       "      <td>no</td>\n",
       "      <td>no</td>\n",
       "    </tr>\n",
       "    <tr>\n",
       "      <th>streamingmovies</th>\n",
       "      <td>no</td>\n",
       "      <td>no</td>\n",
       "      <td>no</td>\n",
       "      <td>no</td>\n",
       "      <td>no</td>\n",
       "    </tr>\n",
       "    <tr>\n",
       "      <th>contract</th>\n",
       "      <td>month-to-month</td>\n",
       "      <td>one_year</td>\n",
       "      <td>month-to-month</td>\n",
       "      <td>one_year</td>\n",
       "      <td>month-to-month</td>\n",
       "    </tr>\n",
       "    <tr>\n",
       "      <th>paperlessbilling</th>\n",
       "      <td>yes</td>\n",
       "      <td>no</td>\n",
       "      <td>yes</td>\n",
       "      <td>no</td>\n",
       "      <td>yes</td>\n",
       "    </tr>\n",
       "    <tr>\n",
       "      <th>paymentmethod</th>\n",
       "      <td>electronic_check</td>\n",
       "      <td>mailed_check</td>\n",
       "      <td>mailed_check</td>\n",
       "      <td>bank_transfer_(automatic)</td>\n",
       "      <td>electronic_check</td>\n",
       "    </tr>\n",
       "    <tr>\n",
       "      <th>monthlycharges</th>\n",
       "      <td>29.85</td>\n",
       "      <td>56.95</td>\n",
       "      <td>53.85</td>\n",
       "      <td>42.3</td>\n",
       "      <td>70.7</td>\n",
       "    </tr>\n",
       "    <tr>\n",
       "      <th>totalcharges</th>\n",
       "      <td>29.85</td>\n",
       "      <td>1889.5</td>\n",
       "      <td>108.15</td>\n",
       "      <td>1840.75</td>\n",
       "      <td>151.65</td>\n",
       "    </tr>\n",
       "    <tr>\n",
       "      <th>churn</th>\n",
       "      <td>no</td>\n",
       "      <td>no</td>\n",
       "      <td>yes</td>\n",
       "      <td>no</td>\n",
       "      <td>yes</td>\n",
       "    </tr>\n",
       "  </tbody>\n",
       "</table>\n",
       "</div>"
      ],
      "text/plain": [
       "                                 0             1               2  \\\n",
       "customerid              7590-vhveg    5575-gnvde      3668-qpybk   \n",
       "gender                      female          male            male   \n",
       "seniorcitizen                    0             0               0   \n",
       "partner                        yes            no              no   \n",
       "dependents                      no            no              no   \n",
       "tenure                           1            34               2   \n",
       "phoneservice                    no           yes             yes   \n",
       "multiplelines     no_phone_service            no              no   \n",
       "internetservice                dsl           dsl             dsl   \n",
       "onlinesecurity                  no           yes             yes   \n",
       "onlinebackup                   yes            no             yes   \n",
       "deviceprotection                no           yes              no   \n",
       "techsupport                     no            no              no   \n",
       "streamingtv                     no            no              no   \n",
       "streamingmovies                 no            no              no   \n",
       "contract            month-to-month      one_year  month-to-month   \n",
       "paperlessbilling               yes            no             yes   \n",
       "paymentmethod     electronic_check  mailed_check    mailed_check   \n",
       "monthlycharges               29.85         56.95           53.85   \n",
       "totalcharges                 29.85        1889.5          108.15   \n",
       "churn                           no            no             yes   \n",
       "\n",
       "                                          3                 4  \n",
       "customerid                       7795-cfocw        9237-hqitu  \n",
       "gender                                 male            female  \n",
       "seniorcitizen                             0                 0  \n",
       "partner                                  no                no  \n",
       "dependents                               no                no  \n",
       "tenure                                   45                 2  \n",
       "phoneservice                             no               yes  \n",
       "multiplelines              no_phone_service                no  \n",
       "internetservice                         dsl       fiber_optic  \n",
       "onlinesecurity                          yes                no  \n",
       "onlinebackup                             no                no  \n",
       "deviceprotection                        yes                no  \n",
       "techsupport                             yes                no  \n",
       "streamingtv                              no                no  \n",
       "streamingmovies                          no                no  \n",
       "contract                           one_year    month-to-month  \n",
       "paperlessbilling                         no               yes  \n",
       "paymentmethod     bank_transfer_(automatic)  electronic_check  \n",
       "monthlycharges                         42.3              70.7  \n",
       "totalcharges                        1840.75            151.65  \n",
       "churn                                    no               yes  "
      ]
     },
     "execution_count": 697,
     "metadata": {},
     "output_type": "execute_result"
    }
   ],
   "source": [
    "df.head().T"
   ]
  },
  {
   "cell_type": "code",
   "execution_count": 698,
   "metadata": {},
   "outputs": [],
   "source": [
    "@with_config(\"main.yaml\")\n",
    "def encode_target_variable(config) -> None:\n",
    "    \"\"\"This function encodes the target variable into boolean 1 and 0 for yes and no values respectively\"\"\"\n",
    "    df.churn = (df[config.churn.target] == \"yes\").astype(int)"
   ]
  },
  {
   "cell_type": "code",
   "execution_count": 699,
   "metadata": {},
   "outputs": [],
   "source": [
    "encode_target_variable()"
   ]
  },
  {
   "cell_type": "code",
   "execution_count": 700,
   "metadata": {},
   "outputs": [
    {
     "data": {
      "text/plain": [
       "0       0\n",
       "1       0\n",
       "2       1\n",
       "3       0\n",
       "4       1\n",
       "       ..\n",
       "7038    0\n",
       "7039    0\n",
       "7040    0\n",
       "7041    1\n",
       "7042    0\n",
       "Name: churn, Length: 7043, dtype: int64"
      ]
     },
     "execution_count": 700,
     "metadata": {},
     "output_type": "execute_result"
    }
   ],
   "source": [
    "df.churn"
   ]
  },
  {
   "cell_type": "markdown",
   "metadata": {},
   "source": [
    "split data"
   ]
  },
  {
   "cell_type": "code",
   "execution_count": 701,
   "metadata": {},
   "outputs": [
    {
     "data": {
      "text/plain": [
       "7043"
      ]
     },
     "execution_count": 701,
     "metadata": {},
     "output_type": "execute_result"
    }
   ],
   "source": [
    "len(df)"
   ]
  },
  {
   "cell_type": "code",
   "execution_count": 702,
   "metadata": {},
   "outputs": [],
   "source": [
    "def split_data() -> None:\n",
    "    \"\"\"This function splits data into training, validation and test sets\"\"\"\n",
    "    df_full_train, df_test = train_test_split(df, test_size=0.2, random_state=1)\n",
    "    df_train, df_val = train_test_split(df_full_train, test_size=0.33, random_state=1)\n",
    "    return df_full_train, df_train, df_val, df_test"
   ]
  },
  {
   "cell_type": "code",
   "execution_count": 703,
   "metadata": {},
   "outputs": [],
   "source": [
    "df_full_train, df_train, df_val, df_test = split_data()"
   ]
  },
  {
   "cell_type": "code",
   "execution_count": 704,
   "metadata": {},
   "outputs": [
    {
     "data": {
      "text/plain": [
       "array([0, 1, 0, ..., 1, 0, 1])"
      ]
     },
     "execution_count": 704,
     "metadata": {},
     "output_type": "execute_result"
    }
   ],
   "source": [
    "df_train['churn'].values"
   ]
  },
  {
   "cell_type": "code",
   "execution_count": 705,
   "metadata": {},
   "outputs": [],
   "source": [
    "@with_config('main.yaml')\n",
    "def extract_target(config) -> tuple[np.ndarray, np.ndarray, np.ndarray]:\n",
    "    \"\"\"Thisfunction extracts the target variable from the df and resturns it as separate arrays\"\"\"\n",
    "    y_train = df_train[config.churn.target].values\n",
    "    y_val = df_val[config.churn.target].values\n",
    "    y_test = df_test[config.churn.target].values\n",
    "    return y_train, y_val, y_test"
   ]
  },
  {
   "cell_type": "code",
   "execution_count": 706,
   "metadata": {},
   "outputs": [],
   "source": [
    "y_train, y_val, y_test = extract_target()"
   ]
  },
  {
   "cell_type": "code",
   "execution_count": 707,
   "metadata": {},
   "outputs": [],
   "source": [
    "@with_config(\"main.yaml\")\n",
    "def remove_target(config) -> None:\n",
    "    \"\"\"This function removes the target variable from the df\"\"\"\n",
    "    del df_train[config.churn.target]\n",
    "    del df_val[config.churn.target]\n",
    "    del df_test[config.churn.target]"
   ]
  },
  {
   "cell_type": "code",
   "execution_count": 708,
   "metadata": {},
   "outputs": [],
   "source": [
    "remove_target()"
   ]
  },
  {
   "cell_type": "markdown",
   "metadata": {},
   "source": [
    "Exploratory data analysis"
   ]
  },
  {
   "cell_type": "code",
   "execution_count": 709,
   "metadata": {},
   "outputs": [
    {
     "data": {
      "text/plain": [
       "customerid          0\n",
       "gender              0\n",
       "seniorcitizen       0\n",
       "partner             0\n",
       "dependents          0\n",
       "tenure              0\n",
       "phoneservice        0\n",
       "multiplelines       0\n",
       "internetservice     0\n",
       "onlinesecurity      0\n",
       "onlinebackup        0\n",
       "deviceprotection    0\n",
       "techsupport         0\n",
       "streamingtv         0\n",
       "streamingmovies     0\n",
       "contract            0\n",
       "paperlessbilling    0\n",
       "paymentmethod       0\n",
       "monthlycharges      0\n",
       "totalcharges        0\n",
       "churn               0\n",
       "dtype: int64"
      ]
     },
     "execution_count": 709,
     "metadata": {},
     "output_type": "execute_result"
    }
   ],
   "source": [
    "# check missing values\n",
    "df_full_train.isnull().sum()"
   ]
  },
  {
   "cell_type": "code",
   "execution_count": 710,
   "metadata": {},
   "outputs": [
    {
     "data": {
      "text/plain": [
       "1521"
      ]
     },
     "execution_count": 710,
     "metadata": {},
     "output_type": "execute_result"
    }
   ],
   "source": [
    "# Propotion of target variable\n",
    "len(df_full_train[df_full_train.churn==1])"
   ]
  },
  {
   "cell_type": "code",
   "execution_count": 711,
   "metadata": {},
   "outputs": [
    {
     "data": {
      "text/plain": [
       "0.26996805111821087"
      ]
     },
     "execution_count": 711,
     "metadata": {},
     "output_type": "execute_result"
    }
   ],
   "source": [
    "df_full_train.churn.mean()"
   ]
  },
  {
   "cell_type": "code",
   "execution_count": 712,
   "metadata": {},
   "outputs": [],
   "source": [
    "categoricals = list(df_full_train.dtypes[df_full_train.dtypes==\"object\"].index)"
   ]
  },
  {
   "cell_type": "code",
   "execution_count": 713,
   "metadata": {},
   "outputs": [],
   "source": [
    "categoricals.append('seniorcitizen')"
   ]
  },
  {
   "cell_type": "code",
   "execution_count": 714,
   "metadata": {},
   "outputs": [
    {
     "data": {
      "text/plain": [
       "['customerid',\n",
       " 'gender',\n",
       " 'partner',\n",
       " 'dependents',\n",
       " 'phoneservice',\n",
       " 'multiplelines',\n",
       " 'internetservice',\n",
       " 'onlinesecurity',\n",
       " 'onlinebackup',\n",
       " 'deviceprotection',\n",
       " 'techsupport',\n",
       " 'streamingtv',\n",
       " 'streamingmovies',\n",
       " 'contract',\n",
       " 'paperlessbilling',\n",
       " 'paymentmethod',\n",
       " 'seniorcitizen']"
      ]
     },
     "execution_count": 714,
     "metadata": {},
     "output_type": "execute_result"
    }
   ],
   "source": [
    "categoricals"
   ]
  },
  {
   "cell_type": "code",
   "execution_count": 715,
   "metadata": {},
   "outputs": [],
   "source": [
    "categoricals.remove('customerid')"
   ]
  },
  {
   "cell_type": "code",
   "execution_count": 716,
   "metadata": {},
   "outputs": [
    {
     "data": {
      "text/plain": [
       "Index(['gender', 'partner', 'dependents', 'phoneservice', 'multiplelines',\n",
       "       'internetservice', 'onlinesecurity', 'onlinebackup', 'deviceprotection',\n",
       "       'techsupport', 'streamingtv', 'streamingmovies', 'contract',\n",
       "       'paperlessbilling', 'paymentmethod', 'seniorcitizen'],\n",
       "      dtype='object')"
      ]
     },
     "execution_count": 716,
     "metadata": {},
     "output_type": "execute_result"
    }
   ],
   "source": [
    "df_full_train[categoricals].columns"
   ]
  },
  {
   "cell_type": "code",
   "execution_count": 717,
   "metadata": {},
   "outputs": [
    {
     "data": {
      "text/plain": [
       "['churn', 'customerid', 'monthlycharges', 'tenure', 'totalcharges']"
      ]
     },
     "execution_count": 717,
     "metadata": {},
     "output_type": "execute_result"
    }
   ],
   "source": [
    "list(df_full_train.columns.difference(categoricals))"
   ]
  },
  {
   "cell_type": "code",
   "execution_count": 718,
   "metadata": {},
   "outputs": [],
   "source": [
    "numericals = list(df_full_train.columns.difference(categoricals))\n"
   ]
  },
  {
   "cell_type": "code",
   "execution_count": 719,
   "metadata": {},
   "outputs": [
    {
     "data": {
      "text/plain": [
       "gender              2\n",
       "partner             2\n",
       "dependents          2\n",
       "phoneservice        2\n",
       "multiplelines       3\n",
       "internetservice     3\n",
       "onlinesecurity      3\n",
       "onlinebackup        3\n",
       "deviceprotection    3\n",
       "techsupport         3\n",
       "streamingtv         3\n",
       "streamingmovies     3\n",
       "contract            3\n",
       "paperlessbilling    2\n",
       "paymentmethod       4\n",
       "seniorcitizen       2\n",
       "dtype: int64"
      ]
     },
     "execution_count": 719,
     "metadata": {},
     "output_type": "execute_result"
    }
   ],
   "source": [
    "df_full_train[categoricals].nunique()"
   ]
  },
  {
   "cell_type": "markdown",
   "metadata": {},
   "source": [
    "Feature importance analysis"
   ]
  },
  {
   "cell_type": "markdown",
   "metadata": {},
   "source": [
    "Churn rate\n",
    " "
   ]
  },
  {
   "cell_type": "code",
   "execution_count": 720,
   "metadata": {},
   "outputs": [
    {
     "data": {
      "text/plain": [
       "0.27"
      ]
     },
     "execution_count": 720,
     "metadata": {},
     "output_type": "execute_result"
    }
   ],
   "source": [
    "global_churn = df_full_train.churn.mean()\n",
    "round(global_churn, 3)"
   ]
  },
  {
   "cell_type": "code",
   "execution_count": 721,
   "metadata": {},
   "outputs": [
    {
     "name": "stdout",
     "output_type": "stream",
     "text": [
      "female_churn: 0.277\n",
      "male_churn: 0.263\n",
      "partner_yes: 0.205\n",
      "partner_no: 0.33\n"
     ]
    }
   ],
   "source": [
    "female_churn = df_full_train.churn[df_full_train.gender == 'female'].mean()\n",
    "\n",
    "print(\"female_churn:\", round(female_churn, 3))\n",
    "\n",
    "male_churn = df_full_train.churn[df_full_train.gender == 'male'].mean()\n",
    "\n",
    "print(\"male_churn:\", round(male_churn, 3))\n",
    "\n",
    "partner_yes = df_full_train.churn[df_full_train.partner == 'yes'].mean()\n",
    "\n",
    "print(\"partner_yes:\", round(partner_yes, 3))\n",
    "partner_no = df_full_train.churn[df_full_train.partner == 'no'].mean()\n",
    "\n",
    "print(\"partner_no:\", round(partner_no, 3))"
   ]
  },
  {
   "cell_type": "markdown",
   "metadata": {},
   "source": [
    "Risk ratio"
   ]
  },
  {
   "cell_type": "code",
   "execution_count": 722,
   "metadata": {},
   "outputs": [],
   "source": [
    "gloabal_mean = df_full_train.churn.mean()"
   ]
  },
  {
   "cell_type": "code",
   "execution_count": 723,
   "metadata": {},
   "outputs": [],
   "source": [
    "df_group = df_full_train.groupby(by='gender').churn.agg(['mean'])"
   ]
  },
  {
   "cell_type": "code",
   "execution_count": 724,
   "metadata": {},
   "outputs": [],
   "source": [
    "df_group['diff'] = df_group - gloabal_mean"
   ]
  },
  {
   "cell_type": "code",
   "execution_count": 725,
   "metadata": {},
   "outputs": [],
   "source": [
    "df_group['risk'] = df_group['mean'] / gloabal_mean"
   ]
  },
  {
   "cell_type": "code",
   "execution_count": 726,
   "metadata": {},
   "outputs": [
    {
     "data": {
      "text/html": [
       "<div>\n",
       "<style scoped>\n",
       "    .dataframe tbody tr th:only-of-type {\n",
       "        vertical-align: middle;\n",
       "    }\n",
       "\n",
       "    .dataframe tbody tr th {\n",
       "        vertical-align: top;\n",
       "    }\n",
       "\n",
       "    .dataframe thead th {\n",
       "        text-align: right;\n",
       "    }\n",
       "</style>\n",
       "<table border=\"1\" class=\"dataframe\">\n",
       "  <thead>\n",
       "    <tr style=\"text-align: right;\">\n",
       "      <th></th>\n",
       "      <th>mean</th>\n",
       "      <th>diff</th>\n",
       "      <th>risk</th>\n",
       "    </tr>\n",
       "    <tr>\n",
       "      <th>gender</th>\n",
       "      <th></th>\n",
       "      <th></th>\n",
       "      <th></th>\n",
       "    </tr>\n",
       "  </thead>\n",
       "  <tbody>\n",
       "    <tr>\n",
       "      <th>female</th>\n",
       "      <td>0.276824</td>\n",
       "      <td>0.006856</td>\n",
       "      <td>1.025396</td>\n",
       "    </tr>\n",
       "    <tr>\n",
       "      <th>male</th>\n",
       "      <td>0.263214</td>\n",
       "      <td>-0.006755</td>\n",
       "      <td>0.974980</td>\n",
       "    </tr>\n",
       "  </tbody>\n",
       "</table>\n",
       "</div>"
      ],
      "text/plain": [
       "            mean      diff      risk\n",
       "gender                              \n",
       "female  0.276824  0.006856  1.025396\n",
       "male    0.263214 -0.006755  0.974980"
      ]
     },
     "execution_count": 726,
     "metadata": {},
     "output_type": "execute_result"
    }
   ],
   "source": [
    "df_group"
   ]
  },
  {
   "cell_type": "code",
   "execution_count": 727,
   "metadata": {},
   "outputs": [
    {
     "data": {
      "text/html": [
       "<div>\n",
       "<style scoped>\n",
       "    .dataframe tbody tr th:only-of-type {\n",
       "        vertical-align: middle;\n",
       "    }\n",
       "\n",
       "    .dataframe tbody tr th {\n",
       "        vertical-align: top;\n",
       "    }\n",
       "\n",
       "    .dataframe thead th {\n",
       "        text-align: right;\n",
       "    }\n",
       "</style>\n",
       "<table border=\"1\" class=\"dataframe\">\n",
       "  <thead>\n",
       "    <tr style=\"text-align: right;\">\n",
       "      <th></th>\n",
       "      <th>mean</th>\n",
       "      <th>diff</th>\n",
       "      <th>risk</th>\n",
       "    </tr>\n",
       "    <tr>\n",
       "      <th>gender</th>\n",
       "      <th></th>\n",
       "      <th></th>\n",
       "      <th></th>\n",
       "    </tr>\n",
       "  </thead>\n",
       "  <tbody>\n",
       "    <tr>\n",
       "      <th>female</th>\n",
       "      <td>0.276824</td>\n",
       "      <td>0.006856</td>\n",
       "      <td>1.025396</td>\n",
       "    </tr>\n",
       "    <tr>\n",
       "      <th>male</th>\n",
       "      <td>0.263214</td>\n",
       "      <td>-0.006755</td>\n",
       "      <td>0.974980</td>\n",
       "    </tr>\n",
       "  </tbody>\n",
       "</table>\n",
       "</div>"
      ],
      "text/plain": [
       "            mean      diff      risk\n",
       "gender                              \n",
       "female  0.276824  0.006856  1.025396\n",
       "male    0.263214 -0.006755  0.974980"
      ]
     },
     "metadata": {},
     "output_type": "display_data"
    },
    {
     "data": {
      "text/html": [
       "<div>\n",
       "<style scoped>\n",
       "    .dataframe tbody tr th:only-of-type {\n",
       "        vertical-align: middle;\n",
       "    }\n",
       "\n",
       "    .dataframe tbody tr th {\n",
       "        vertical-align: top;\n",
       "    }\n",
       "\n",
       "    .dataframe thead th {\n",
       "        text-align: right;\n",
       "    }\n",
       "</style>\n",
       "<table border=\"1\" class=\"dataframe\">\n",
       "  <thead>\n",
       "    <tr style=\"text-align: right;\">\n",
       "      <th></th>\n",
       "      <th>mean</th>\n",
       "      <th>diff</th>\n",
       "      <th>risk</th>\n",
       "    </tr>\n",
       "    <tr>\n",
       "      <th>partner</th>\n",
       "      <th></th>\n",
       "      <th></th>\n",
       "      <th></th>\n",
       "    </tr>\n",
       "  </thead>\n",
       "  <tbody>\n",
       "    <tr>\n",
       "      <th>no</th>\n",
       "      <td>0.329809</td>\n",
       "      <td>0.059841</td>\n",
       "      <td>1.221659</td>\n",
       "    </tr>\n",
       "    <tr>\n",
       "      <th>yes</th>\n",
       "      <td>0.205033</td>\n",
       "      <td>-0.064935</td>\n",
       "      <td>0.759472</td>\n",
       "    </tr>\n",
       "  </tbody>\n",
       "</table>\n",
       "</div>"
      ],
      "text/plain": [
       "             mean      diff      risk\n",
       "partner                              \n",
       "no       0.329809  0.059841  1.221659\n",
       "yes      0.205033 -0.064935  0.759472"
      ]
     },
     "metadata": {},
     "output_type": "display_data"
    },
    {
     "data": {
      "text/html": [
       "<div>\n",
       "<style scoped>\n",
       "    .dataframe tbody tr th:only-of-type {\n",
       "        vertical-align: middle;\n",
       "    }\n",
       "\n",
       "    .dataframe tbody tr th {\n",
       "        vertical-align: top;\n",
       "    }\n",
       "\n",
       "    .dataframe thead th {\n",
       "        text-align: right;\n",
       "    }\n",
       "</style>\n",
       "<table border=\"1\" class=\"dataframe\">\n",
       "  <thead>\n",
       "    <tr style=\"text-align: right;\">\n",
       "      <th></th>\n",
       "      <th>mean</th>\n",
       "      <th>diff</th>\n",
       "      <th>risk</th>\n",
       "    </tr>\n",
       "    <tr>\n",
       "      <th>dependents</th>\n",
       "      <th></th>\n",
       "      <th></th>\n",
       "      <th></th>\n",
       "    </tr>\n",
       "  </thead>\n",
       "  <tbody>\n",
       "    <tr>\n",
       "      <th>no</th>\n",
       "      <td>0.313760</td>\n",
       "      <td>0.043792</td>\n",
       "      <td>1.162212</td>\n",
       "    </tr>\n",
       "    <tr>\n",
       "      <th>yes</th>\n",
       "      <td>0.165666</td>\n",
       "      <td>-0.104302</td>\n",
       "      <td>0.613651</td>\n",
       "    </tr>\n",
       "  </tbody>\n",
       "</table>\n",
       "</div>"
      ],
      "text/plain": [
       "                mean      diff      risk\n",
       "dependents                              \n",
       "no          0.313760  0.043792  1.162212\n",
       "yes         0.165666 -0.104302  0.613651"
      ]
     },
     "metadata": {},
     "output_type": "display_data"
    },
    {
     "data": {
      "text/html": [
       "<div>\n",
       "<style scoped>\n",
       "    .dataframe tbody tr th:only-of-type {\n",
       "        vertical-align: middle;\n",
       "    }\n",
       "\n",
       "    .dataframe tbody tr th {\n",
       "        vertical-align: top;\n",
       "    }\n",
       "\n",
       "    .dataframe thead th {\n",
       "        text-align: right;\n",
       "    }\n",
       "</style>\n",
       "<table border=\"1\" class=\"dataframe\">\n",
       "  <thead>\n",
       "    <tr style=\"text-align: right;\">\n",
       "      <th></th>\n",
       "      <th>mean</th>\n",
       "      <th>diff</th>\n",
       "      <th>risk</th>\n",
       "    </tr>\n",
       "    <tr>\n",
       "      <th>phoneservice</th>\n",
       "      <th></th>\n",
       "      <th></th>\n",
       "      <th></th>\n",
       "    </tr>\n",
       "  </thead>\n",
       "  <tbody>\n",
       "    <tr>\n",
       "      <th>no</th>\n",
       "      <td>0.241316</td>\n",
       "      <td>-0.028652</td>\n",
       "      <td>0.893870</td>\n",
       "    </tr>\n",
       "    <tr>\n",
       "      <th>yes</th>\n",
       "      <td>0.273049</td>\n",
       "      <td>0.003081</td>\n",
       "      <td>1.011412</td>\n",
       "    </tr>\n",
       "  </tbody>\n",
       "</table>\n",
       "</div>"
      ],
      "text/plain": [
       "                  mean      diff      risk\n",
       "phoneservice                              \n",
       "no            0.241316 -0.028652  0.893870\n",
       "yes           0.273049  0.003081  1.011412"
      ]
     },
     "metadata": {},
     "output_type": "display_data"
    },
    {
     "data": {
      "text/html": [
       "<div>\n",
       "<style scoped>\n",
       "    .dataframe tbody tr th:only-of-type {\n",
       "        vertical-align: middle;\n",
       "    }\n",
       "\n",
       "    .dataframe tbody tr th {\n",
       "        vertical-align: top;\n",
       "    }\n",
       "\n",
       "    .dataframe thead th {\n",
       "        text-align: right;\n",
       "    }\n",
       "</style>\n",
       "<table border=\"1\" class=\"dataframe\">\n",
       "  <thead>\n",
       "    <tr style=\"text-align: right;\">\n",
       "      <th></th>\n",
       "      <th>mean</th>\n",
       "      <th>diff</th>\n",
       "      <th>risk</th>\n",
       "    </tr>\n",
       "    <tr>\n",
       "      <th>multiplelines</th>\n",
       "      <th></th>\n",
       "      <th></th>\n",
       "      <th></th>\n",
       "    </tr>\n",
       "  </thead>\n",
       "  <tbody>\n",
       "    <tr>\n",
       "      <th>no</th>\n",
       "      <td>0.257407</td>\n",
       "      <td>-0.012561</td>\n",
       "      <td>0.953474</td>\n",
       "    </tr>\n",
       "    <tr>\n",
       "      <th>no_phone_service</th>\n",
       "      <td>0.241316</td>\n",
       "      <td>-0.028652</td>\n",
       "      <td>0.893870</td>\n",
       "    </tr>\n",
       "    <tr>\n",
       "      <th>yes</th>\n",
       "      <td>0.290742</td>\n",
       "      <td>0.020773</td>\n",
       "      <td>1.076948</td>\n",
       "    </tr>\n",
       "  </tbody>\n",
       "</table>\n",
       "</div>"
      ],
      "text/plain": [
       "                      mean      diff      risk\n",
       "multiplelines                                 \n",
       "no                0.257407 -0.012561  0.953474\n",
       "no_phone_service  0.241316 -0.028652  0.893870\n",
       "yes               0.290742  0.020773  1.076948"
      ]
     },
     "metadata": {},
     "output_type": "display_data"
    },
    {
     "data": {
      "text/html": [
       "<div>\n",
       "<style scoped>\n",
       "    .dataframe tbody tr th:only-of-type {\n",
       "        vertical-align: middle;\n",
       "    }\n",
       "\n",
       "    .dataframe tbody tr th {\n",
       "        vertical-align: top;\n",
       "    }\n",
       "\n",
       "    .dataframe thead th {\n",
       "        text-align: right;\n",
       "    }\n",
       "</style>\n",
       "<table border=\"1\" class=\"dataframe\">\n",
       "  <thead>\n",
       "    <tr style=\"text-align: right;\">\n",
       "      <th></th>\n",
       "      <th>mean</th>\n",
       "      <th>diff</th>\n",
       "      <th>risk</th>\n",
       "    </tr>\n",
       "    <tr>\n",
       "      <th>internetservice</th>\n",
       "      <th></th>\n",
       "      <th></th>\n",
       "      <th></th>\n",
       "    </tr>\n",
       "  </thead>\n",
       "  <tbody>\n",
       "    <tr>\n",
       "      <th>dsl</th>\n",
       "      <td>0.192347</td>\n",
       "      <td>-0.077621</td>\n",
       "      <td>0.712482</td>\n",
       "    </tr>\n",
       "    <tr>\n",
       "      <th>fiber_optic</th>\n",
       "      <td>0.425171</td>\n",
       "      <td>0.155203</td>\n",
       "      <td>1.574895</td>\n",
       "    </tr>\n",
       "    <tr>\n",
       "      <th>no</th>\n",
       "      <td>0.077805</td>\n",
       "      <td>-0.192163</td>\n",
       "      <td>0.288201</td>\n",
       "    </tr>\n",
       "  </tbody>\n",
       "</table>\n",
       "</div>"
      ],
      "text/plain": [
       "                     mean      diff      risk\n",
       "internetservice                              \n",
       "dsl              0.192347 -0.077621  0.712482\n",
       "fiber_optic      0.425171  0.155203  1.574895\n",
       "no               0.077805 -0.192163  0.288201"
      ]
     },
     "metadata": {},
     "output_type": "display_data"
    },
    {
     "data": {
      "text/html": [
       "<div>\n",
       "<style scoped>\n",
       "    .dataframe tbody tr th:only-of-type {\n",
       "        vertical-align: middle;\n",
       "    }\n",
       "\n",
       "    .dataframe tbody tr th {\n",
       "        vertical-align: top;\n",
       "    }\n",
       "\n",
       "    .dataframe thead th {\n",
       "        text-align: right;\n",
       "    }\n",
       "</style>\n",
       "<table border=\"1\" class=\"dataframe\">\n",
       "  <thead>\n",
       "    <tr style=\"text-align: right;\">\n",
       "      <th></th>\n",
       "      <th>mean</th>\n",
       "      <th>diff</th>\n",
       "      <th>risk</th>\n",
       "    </tr>\n",
       "    <tr>\n",
       "      <th>onlinesecurity</th>\n",
       "      <th></th>\n",
       "      <th></th>\n",
       "      <th></th>\n",
       "    </tr>\n",
       "  </thead>\n",
       "  <tbody>\n",
       "    <tr>\n",
       "      <th>no</th>\n",
       "      <td>0.420921</td>\n",
       "      <td>0.150953</td>\n",
       "      <td>1.559152</td>\n",
       "    </tr>\n",
       "    <tr>\n",
       "      <th>no_internet_service</th>\n",
       "      <td>0.077805</td>\n",
       "      <td>-0.192163</td>\n",
       "      <td>0.288201</td>\n",
       "    </tr>\n",
       "    <tr>\n",
       "      <th>yes</th>\n",
       "      <td>0.153226</td>\n",
       "      <td>-0.116742</td>\n",
       "      <td>0.567570</td>\n",
       "    </tr>\n",
       "  </tbody>\n",
       "</table>\n",
       "</div>"
      ],
      "text/plain": [
       "                         mean      diff      risk\n",
       "onlinesecurity                                   \n",
       "no                   0.420921  0.150953  1.559152\n",
       "no_internet_service  0.077805 -0.192163  0.288201\n",
       "yes                  0.153226 -0.116742  0.567570"
      ]
     },
     "metadata": {},
     "output_type": "display_data"
    },
    {
     "data": {
      "text/html": [
       "<div>\n",
       "<style scoped>\n",
       "    .dataframe tbody tr th:only-of-type {\n",
       "        vertical-align: middle;\n",
       "    }\n",
       "\n",
       "    .dataframe tbody tr th {\n",
       "        vertical-align: top;\n",
       "    }\n",
       "\n",
       "    .dataframe thead th {\n",
       "        text-align: right;\n",
       "    }\n",
       "</style>\n",
       "<table border=\"1\" class=\"dataframe\">\n",
       "  <thead>\n",
       "    <tr style=\"text-align: right;\">\n",
       "      <th></th>\n",
       "      <th>mean</th>\n",
       "      <th>diff</th>\n",
       "      <th>risk</th>\n",
       "    </tr>\n",
       "    <tr>\n",
       "      <th>onlinebackup</th>\n",
       "      <th></th>\n",
       "      <th></th>\n",
       "      <th></th>\n",
       "    </tr>\n",
       "  </thead>\n",
       "  <tbody>\n",
       "    <tr>\n",
       "      <th>no</th>\n",
       "      <td>0.404323</td>\n",
       "      <td>0.134355</td>\n",
       "      <td>1.497672</td>\n",
       "    </tr>\n",
       "    <tr>\n",
       "      <th>no_internet_service</th>\n",
       "      <td>0.077805</td>\n",
       "      <td>-0.192163</td>\n",
       "      <td>0.288201</td>\n",
       "    </tr>\n",
       "    <tr>\n",
       "      <th>yes</th>\n",
       "      <td>0.217232</td>\n",
       "      <td>-0.052736</td>\n",
       "      <td>0.804660</td>\n",
       "    </tr>\n",
       "  </tbody>\n",
       "</table>\n",
       "</div>"
      ],
      "text/plain": [
       "                         mean      diff      risk\n",
       "onlinebackup                                     \n",
       "no                   0.404323  0.134355  1.497672\n",
       "no_internet_service  0.077805 -0.192163  0.288201\n",
       "yes                  0.217232 -0.052736  0.804660"
      ]
     },
     "metadata": {},
     "output_type": "display_data"
    },
    {
     "data": {
      "text/html": [
       "<div>\n",
       "<style scoped>\n",
       "    .dataframe tbody tr th:only-of-type {\n",
       "        vertical-align: middle;\n",
       "    }\n",
       "\n",
       "    .dataframe tbody tr th {\n",
       "        vertical-align: top;\n",
       "    }\n",
       "\n",
       "    .dataframe thead th {\n",
       "        text-align: right;\n",
       "    }\n",
       "</style>\n",
       "<table border=\"1\" class=\"dataframe\">\n",
       "  <thead>\n",
       "    <tr style=\"text-align: right;\">\n",
       "      <th></th>\n",
       "      <th>mean</th>\n",
       "      <th>diff</th>\n",
       "      <th>risk</th>\n",
       "    </tr>\n",
       "    <tr>\n",
       "      <th>deviceprotection</th>\n",
       "      <th></th>\n",
       "      <th></th>\n",
       "      <th></th>\n",
       "    </tr>\n",
       "  </thead>\n",
       "  <tbody>\n",
       "    <tr>\n",
       "      <th>no</th>\n",
       "      <td>0.395875</td>\n",
       "      <td>0.125907</td>\n",
       "      <td>1.466379</td>\n",
       "    </tr>\n",
       "    <tr>\n",
       "      <th>no_internet_service</th>\n",
       "      <td>0.077805</td>\n",
       "      <td>-0.192163</td>\n",
       "      <td>0.288201</td>\n",
       "    </tr>\n",
       "    <tr>\n",
       "      <th>yes</th>\n",
       "      <td>0.230412</td>\n",
       "      <td>-0.039556</td>\n",
       "      <td>0.853480</td>\n",
       "    </tr>\n",
       "  </tbody>\n",
       "</table>\n",
       "</div>"
      ],
      "text/plain": [
       "                         mean      diff      risk\n",
       "deviceprotection                                 \n",
       "no                   0.395875  0.125907  1.466379\n",
       "no_internet_service  0.077805 -0.192163  0.288201\n",
       "yes                  0.230412 -0.039556  0.853480"
      ]
     },
     "metadata": {},
     "output_type": "display_data"
    },
    {
     "data": {
      "text/html": [
       "<div>\n",
       "<style scoped>\n",
       "    .dataframe tbody tr th:only-of-type {\n",
       "        vertical-align: middle;\n",
       "    }\n",
       "\n",
       "    .dataframe tbody tr th {\n",
       "        vertical-align: top;\n",
       "    }\n",
       "\n",
       "    .dataframe thead th {\n",
       "        text-align: right;\n",
       "    }\n",
       "</style>\n",
       "<table border=\"1\" class=\"dataframe\">\n",
       "  <thead>\n",
       "    <tr style=\"text-align: right;\">\n",
       "      <th></th>\n",
       "      <th>mean</th>\n",
       "      <th>diff</th>\n",
       "      <th>risk</th>\n",
       "    </tr>\n",
       "    <tr>\n",
       "      <th>techsupport</th>\n",
       "      <th></th>\n",
       "      <th></th>\n",
       "      <th></th>\n",
       "    </tr>\n",
       "  </thead>\n",
       "  <tbody>\n",
       "    <tr>\n",
       "      <th>no</th>\n",
       "      <td>0.418914</td>\n",
       "      <td>0.148946</td>\n",
       "      <td>1.551717</td>\n",
       "    </tr>\n",
       "    <tr>\n",
       "      <th>no_internet_service</th>\n",
       "      <td>0.077805</td>\n",
       "      <td>-0.192163</td>\n",
       "      <td>0.288201</td>\n",
       "    </tr>\n",
       "    <tr>\n",
       "      <th>yes</th>\n",
       "      <td>0.159926</td>\n",
       "      <td>-0.110042</td>\n",
       "      <td>0.592390</td>\n",
       "    </tr>\n",
       "  </tbody>\n",
       "</table>\n",
       "</div>"
      ],
      "text/plain": [
       "                         mean      diff      risk\n",
       "techsupport                                      \n",
       "no                   0.418914  0.148946  1.551717\n",
       "no_internet_service  0.077805 -0.192163  0.288201\n",
       "yes                  0.159926 -0.110042  0.592390"
      ]
     },
     "metadata": {},
     "output_type": "display_data"
    },
    {
     "data": {
      "text/html": [
       "<div>\n",
       "<style scoped>\n",
       "    .dataframe tbody tr th:only-of-type {\n",
       "        vertical-align: middle;\n",
       "    }\n",
       "\n",
       "    .dataframe tbody tr th {\n",
       "        vertical-align: top;\n",
       "    }\n",
       "\n",
       "    .dataframe thead th {\n",
       "        text-align: right;\n",
       "    }\n",
       "</style>\n",
       "<table border=\"1\" class=\"dataframe\">\n",
       "  <thead>\n",
       "    <tr style=\"text-align: right;\">\n",
       "      <th></th>\n",
       "      <th>mean</th>\n",
       "      <th>diff</th>\n",
       "      <th>risk</th>\n",
       "    </tr>\n",
       "    <tr>\n",
       "      <th>streamingtv</th>\n",
       "      <th></th>\n",
       "      <th></th>\n",
       "      <th></th>\n",
       "    </tr>\n",
       "  </thead>\n",
       "  <tbody>\n",
       "    <tr>\n",
       "      <th>no</th>\n",
       "      <td>0.342832</td>\n",
       "      <td>0.072864</td>\n",
       "      <td>1.269897</td>\n",
       "    </tr>\n",
       "    <tr>\n",
       "      <th>no_internet_service</th>\n",
       "      <td>0.077805</td>\n",
       "      <td>-0.192163</td>\n",
       "      <td>0.288201</td>\n",
       "    </tr>\n",
       "    <tr>\n",
       "      <th>yes</th>\n",
       "      <td>0.302723</td>\n",
       "      <td>0.032755</td>\n",
       "      <td>1.121328</td>\n",
       "    </tr>\n",
       "  </tbody>\n",
       "</table>\n",
       "</div>"
      ],
      "text/plain": [
       "                         mean      diff      risk\n",
       "streamingtv                                      \n",
       "no                   0.342832  0.072864  1.269897\n",
       "no_internet_service  0.077805 -0.192163  0.288201\n",
       "yes                  0.302723  0.032755  1.121328"
      ]
     },
     "metadata": {},
     "output_type": "display_data"
    },
    {
     "data": {
      "text/html": [
       "<div>\n",
       "<style scoped>\n",
       "    .dataframe tbody tr th:only-of-type {\n",
       "        vertical-align: middle;\n",
       "    }\n",
       "\n",
       "    .dataframe tbody tr th {\n",
       "        vertical-align: top;\n",
       "    }\n",
       "\n",
       "    .dataframe thead th {\n",
       "        text-align: right;\n",
       "    }\n",
       "</style>\n",
       "<table border=\"1\" class=\"dataframe\">\n",
       "  <thead>\n",
       "    <tr style=\"text-align: right;\">\n",
       "      <th></th>\n",
       "      <th>mean</th>\n",
       "      <th>diff</th>\n",
       "      <th>risk</th>\n",
       "    </tr>\n",
       "    <tr>\n",
       "      <th>streamingmovies</th>\n",
       "      <th></th>\n",
       "      <th></th>\n",
       "      <th></th>\n",
       "    </tr>\n",
       "  </thead>\n",
       "  <tbody>\n",
       "    <tr>\n",
       "      <th>no</th>\n",
       "      <td>0.338906</td>\n",
       "      <td>0.068938</td>\n",
       "      <td>1.255358</td>\n",
       "    </tr>\n",
       "    <tr>\n",
       "      <th>no_internet_service</th>\n",
       "      <td>0.077805</td>\n",
       "      <td>-0.192163</td>\n",
       "      <td>0.288201</td>\n",
       "    </tr>\n",
       "    <tr>\n",
       "      <th>yes</th>\n",
       "      <td>0.307273</td>\n",
       "      <td>0.037305</td>\n",
       "      <td>1.138182</td>\n",
       "    </tr>\n",
       "  </tbody>\n",
       "</table>\n",
       "</div>"
      ],
      "text/plain": [
       "                         mean      diff      risk\n",
       "streamingmovies                                  \n",
       "no                   0.338906  0.068938  1.255358\n",
       "no_internet_service  0.077805 -0.192163  0.288201\n",
       "yes                  0.307273  0.037305  1.138182"
      ]
     },
     "metadata": {},
     "output_type": "display_data"
    },
    {
     "data": {
      "text/html": [
       "<div>\n",
       "<style scoped>\n",
       "    .dataframe tbody tr th:only-of-type {\n",
       "        vertical-align: middle;\n",
       "    }\n",
       "\n",
       "    .dataframe tbody tr th {\n",
       "        vertical-align: top;\n",
       "    }\n",
       "\n",
       "    .dataframe thead th {\n",
       "        text-align: right;\n",
       "    }\n",
       "</style>\n",
       "<table border=\"1\" class=\"dataframe\">\n",
       "  <thead>\n",
       "    <tr style=\"text-align: right;\">\n",
       "      <th></th>\n",
       "      <th>mean</th>\n",
       "      <th>diff</th>\n",
       "      <th>risk</th>\n",
       "    </tr>\n",
       "    <tr>\n",
       "      <th>contract</th>\n",
       "      <th></th>\n",
       "      <th></th>\n",
       "      <th></th>\n",
       "    </tr>\n",
       "  </thead>\n",
       "  <tbody>\n",
       "    <tr>\n",
       "      <th>month-to-month</th>\n",
       "      <td>0.431701</td>\n",
       "      <td>0.161733</td>\n",
       "      <td>1.599082</td>\n",
       "    </tr>\n",
       "    <tr>\n",
       "      <th>one_year</th>\n",
       "      <td>0.120573</td>\n",
       "      <td>-0.149395</td>\n",
       "      <td>0.446621</td>\n",
       "    </tr>\n",
       "    <tr>\n",
       "      <th>two_year</th>\n",
       "      <td>0.028274</td>\n",
       "      <td>-0.241694</td>\n",
       "      <td>0.104730</td>\n",
       "    </tr>\n",
       "  </tbody>\n",
       "</table>\n",
       "</div>"
      ],
      "text/plain": [
       "                    mean      diff      risk\n",
       "contract                                    \n",
       "month-to-month  0.431701  0.161733  1.599082\n",
       "one_year        0.120573 -0.149395  0.446621\n",
       "two_year        0.028274 -0.241694  0.104730"
      ]
     },
     "metadata": {},
     "output_type": "display_data"
    },
    {
     "data": {
      "text/html": [
       "<div>\n",
       "<style scoped>\n",
       "    .dataframe tbody tr th:only-of-type {\n",
       "        vertical-align: middle;\n",
       "    }\n",
       "\n",
       "    .dataframe tbody tr th {\n",
       "        vertical-align: top;\n",
       "    }\n",
       "\n",
       "    .dataframe thead th {\n",
       "        text-align: right;\n",
       "    }\n",
       "</style>\n",
       "<table border=\"1\" class=\"dataframe\">\n",
       "  <thead>\n",
       "    <tr style=\"text-align: right;\">\n",
       "      <th></th>\n",
       "      <th>mean</th>\n",
       "      <th>diff</th>\n",
       "      <th>risk</th>\n",
       "    </tr>\n",
       "    <tr>\n",
       "      <th>paperlessbilling</th>\n",
       "      <th></th>\n",
       "      <th></th>\n",
       "      <th></th>\n",
       "    </tr>\n",
       "  </thead>\n",
       "  <tbody>\n",
       "    <tr>\n",
       "      <th>no</th>\n",
       "      <td>0.172071</td>\n",
       "      <td>-0.097897</td>\n",
       "      <td>0.637375</td>\n",
       "    </tr>\n",
       "    <tr>\n",
       "      <th>yes</th>\n",
       "      <td>0.338151</td>\n",
       "      <td>0.068183</td>\n",
       "      <td>1.252560</td>\n",
       "    </tr>\n",
       "  </tbody>\n",
       "</table>\n",
       "</div>"
      ],
      "text/plain": [
       "                      mean      diff      risk\n",
       "paperlessbilling                              \n",
       "no                0.172071 -0.097897  0.637375\n",
       "yes               0.338151  0.068183  1.252560"
      ]
     },
     "metadata": {},
     "output_type": "display_data"
    },
    {
     "data": {
      "text/html": [
       "<div>\n",
       "<style scoped>\n",
       "    .dataframe tbody tr th:only-of-type {\n",
       "        vertical-align: middle;\n",
       "    }\n",
       "\n",
       "    .dataframe tbody tr th {\n",
       "        vertical-align: top;\n",
       "    }\n",
       "\n",
       "    .dataframe thead th {\n",
       "        text-align: right;\n",
       "    }\n",
       "</style>\n",
       "<table border=\"1\" class=\"dataframe\">\n",
       "  <thead>\n",
       "    <tr style=\"text-align: right;\">\n",
       "      <th></th>\n",
       "      <th>mean</th>\n",
       "      <th>diff</th>\n",
       "      <th>risk</th>\n",
       "    </tr>\n",
       "    <tr>\n",
       "      <th>paymentmethod</th>\n",
       "      <th></th>\n",
       "      <th></th>\n",
       "      <th></th>\n",
       "    </tr>\n",
       "  </thead>\n",
       "  <tbody>\n",
       "    <tr>\n",
       "      <th>bank_transfer_(automatic)</th>\n",
       "      <td>0.168171</td>\n",
       "      <td>-0.101797</td>\n",
       "      <td>0.622928</td>\n",
       "    </tr>\n",
       "    <tr>\n",
       "      <th>credit_card_(automatic)</th>\n",
       "      <td>0.164339</td>\n",
       "      <td>-0.105630</td>\n",
       "      <td>0.608733</td>\n",
       "    </tr>\n",
       "    <tr>\n",
       "      <th>electronic_check</th>\n",
       "      <td>0.455890</td>\n",
       "      <td>0.185922</td>\n",
       "      <td>1.688682</td>\n",
       "    </tr>\n",
       "    <tr>\n",
       "      <th>mailed_check</th>\n",
       "      <td>0.193870</td>\n",
       "      <td>-0.076098</td>\n",
       "      <td>0.718121</td>\n",
       "    </tr>\n",
       "  </tbody>\n",
       "</table>\n",
       "</div>"
      ],
      "text/plain": [
       "                               mean      diff      risk\n",
       "paymentmethod                                          \n",
       "bank_transfer_(automatic)  0.168171 -0.101797  0.622928\n",
       "credit_card_(automatic)    0.164339 -0.105630  0.608733\n",
       "electronic_check           0.455890  0.185922  1.688682\n",
       "mailed_check               0.193870 -0.076098  0.718121"
      ]
     },
     "metadata": {},
     "output_type": "display_data"
    },
    {
     "data": {
      "text/html": [
       "<div>\n",
       "<style scoped>\n",
       "    .dataframe tbody tr th:only-of-type {\n",
       "        vertical-align: middle;\n",
       "    }\n",
       "\n",
       "    .dataframe tbody tr th {\n",
       "        vertical-align: top;\n",
       "    }\n",
       "\n",
       "    .dataframe thead th {\n",
       "        text-align: right;\n",
       "    }\n",
       "</style>\n",
       "<table border=\"1\" class=\"dataframe\">\n",
       "  <thead>\n",
       "    <tr style=\"text-align: right;\">\n",
       "      <th></th>\n",
       "      <th>mean</th>\n",
       "      <th>diff</th>\n",
       "      <th>risk</th>\n",
       "    </tr>\n",
       "    <tr>\n",
       "      <th>seniorcitizen</th>\n",
       "      <th></th>\n",
       "      <th></th>\n",
       "      <th></th>\n",
       "    </tr>\n",
       "  </thead>\n",
       "  <tbody>\n",
       "    <tr>\n",
       "      <th>0</th>\n",
       "      <td>0.242270</td>\n",
       "      <td>-0.027698</td>\n",
       "      <td>0.897403</td>\n",
       "    </tr>\n",
       "    <tr>\n",
       "      <th>1</th>\n",
       "      <td>0.413377</td>\n",
       "      <td>0.143409</td>\n",
       "      <td>1.531208</td>\n",
       "    </tr>\n",
       "  </tbody>\n",
       "</table>\n",
       "</div>"
      ],
      "text/plain": [
       "                   mean      diff      risk\n",
       "seniorcitizen                              \n",
       "0              0.242270 -0.027698  0.897403\n",
       "1              0.413377  0.143409  1.531208"
      ]
     },
     "metadata": {},
     "output_type": "display_data"
    }
   ],
   "source": [
    "for col in categoricals:\n",
    "    df_group = df_group = df_full_train.groupby(by=col).churn.agg(['mean'])\n",
    "    df_group['diff'] = df_group - gloabal_mean\n",
    "    df_group['risk'] = df_group['mean'] / gloabal_mean\n",
    "    display(df_group)"
   ]
  },
  {
   "cell_type": "markdown",
   "metadata": {},
   "source": [
    "Mutual information"
   ]
  },
  {
   "cell_type": "code",
   "execution_count": 728,
   "metadata": {},
   "outputs": [],
   "source": [
    "def calculate_mi(series) -> pd.Series:\n",
    "    \"\"\"This function calculated the mutual information score between variables\"\"\"\n",
    "    return mutual_info_score(series, df_full_train.churn)"
   ]
  },
  {
   "cell_type": "code",
   "execution_count": 729,
   "metadata": {},
   "outputs": [],
   "source": [
    "df_mi = df_full_train[categoricals].apply(calculate_mi)"
   ]
  },
  {
   "cell_type": "code",
   "execution_count": 730,
   "metadata": {},
   "outputs": [],
   "source": [
    "df_mi = df_mi.sort_values(ascending=False).to_frame(name='MI')"
   ]
  },
  {
   "cell_type": "code",
   "execution_count": 731,
   "metadata": {},
   "outputs": [
    {
     "data": {
      "text/html": [
       "<div>\n",
       "<style scoped>\n",
       "    .dataframe tbody tr th:only-of-type {\n",
       "        vertical-align: middle;\n",
       "    }\n",
       "\n",
       "    .dataframe tbody tr th {\n",
       "        vertical-align: top;\n",
       "    }\n",
       "\n",
       "    .dataframe thead th {\n",
       "        text-align: right;\n",
       "    }\n",
       "</style>\n",
       "<table border=\"1\" class=\"dataframe\">\n",
       "  <thead>\n",
       "    <tr style=\"text-align: right;\">\n",
       "      <th></th>\n",
       "      <th>MI</th>\n",
       "    </tr>\n",
       "  </thead>\n",
       "  <tbody>\n",
       "    <tr>\n",
       "      <th>contract</th>\n",
       "      <td>0.098320</td>\n",
       "    </tr>\n",
       "    <tr>\n",
       "      <th>onlinesecurity</th>\n",
       "      <td>0.063085</td>\n",
       "    </tr>\n",
       "    <tr>\n",
       "      <th>techsupport</th>\n",
       "      <td>0.061032</td>\n",
       "    </tr>\n",
       "    <tr>\n",
       "      <th>internetservice</th>\n",
       "      <td>0.055868</td>\n",
       "    </tr>\n",
       "    <tr>\n",
       "      <th>onlinebackup</th>\n",
       "      <td>0.046923</td>\n",
       "    </tr>\n",
       "    <tr>\n",
       "      <th>deviceprotection</th>\n",
       "      <td>0.043453</td>\n",
       "    </tr>\n",
       "    <tr>\n",
       "      <th>paymentmethod</th>\n",
       "      <td>0.043210</td>\n",
       "    </tr>\n",
       "    <tr>\n",
       "      <th>streamingtv</th>\n",
       "      <td>0.031853</td>\n",
       "    </tr>\n",
       "    <tr>\n",
       "      <th>streamingmovies</th>\n",
       "      <td>0.031581</td>\n",
       "    </tr>\n",
       "    <tr>\n",
       "      <th>paperlessbilling</th>\n",
       "      <td>0.017589</td>\n",
       "    </tr>\n",
       "    <tr>\n",
       "      <th>dependents</th>\n",
       "      <td>0.012346</td>\n",
       "    </tr>\n",
       "    <tr>\n",
       "      <th>partner</th>\n",
       "      <td>0.009968</td>\n",
       "    </tr>\n",
       "    <tr>\n",
       "      <th>seniorcitizen</th>\n",
       "      <td>0.009410</td>\n",
       "    </tr>\n",
       "    <tr>\n",
       "      <th>multiplelines</th>\n",
       "      <td>0.000857</td>\n",
       "    </tr>\n",
       "    <tr>\n",
       "      <th>phoneservice</th>\n",
       "      <td>0.000229</td>\n",
       "    </tr>\n",
       "    <tr>\n",
       "      <th>gender</th>\n",
       "      <td>0.000117</td>\n",
       "    </tr>\n",
       "  </tbody>\n",
       "</table>\n",
       "</div>"
      ],
      "text/plain": [
       "                        MI\n",
       "contract          0.098320\n",
       "onlinesecurity    0.063085\n",
       "techsupport       0.061032\n",
       "internetservice   0.055868\n",
       "onlinebackup      0.046923\n",
       "deviceprotection  0.043453\n",
       "paymentmethod     0.043210\n",
       "streamingtv       0.031853\n",
       "streamingmovies   0.031581\n",
       "paperlessbilling  0.017589\n",
       "dependents        0.012346\n",
       "partner           0.009968\n",
       "seniorcitizen     0.009410\n",
       "multiplelines     0.000857\n",
       "phoneservice      0.000229\n",
       "gender            0.000117"
      ]
     },
     "execution_count": 731,
     "metadata": {},
     "output_type": "execute_result"
    }
   ],
   "source": [
    "df_mi"
   ]
  },
  {
   "cell_type": "markdown",
   "metadata": {},
   "source": [
    "Measure correlation for numerical variable"
   ]
  },
  {
   "cell_type": "code",
   "execution_count": 732,
   "metadata": {},
   "outputs": [],
   "source": [
    "numericals.remove('customerid')"
   ]
  },
  {
   "cell_type": "code",
   "execution_count": 733,
   "metadata": {},
   "outputs": [
    {
     "data": {
      "text/html": [
       "<div>\n",
       "<style scoped>\n",
       "    .dataframe tbody tr th:only-of-type {\n",
       "        vertical-align: middle;\n",
       "    }\n",
       "\n",
       "    .dataframe tbody tr th {\n",
       "        vertical-align: top;\n",
       "    }\n",
       "\n",
       "    .dataframe thead th {\n",
       "        text-align: right;\n",
       "    }\n",
       "</style>\n",
       "<table border=\"1\" class=\"dataframe\">\n",
       "  <thead>\n",
       "    <tr style=\"text-align: right;\">\n",
       "      <th></th>\n",
       "      <th>churn</th>\n",
       "      <th>monthlycharges</th>\n",
       "      <th>tenure</th>\n",
       "      <th>totalcharges</th>\n",
       "    </tr>\n",
       "  </thead>\n",
       "  <tbody>\n",
       "    <tr>\n",
       "      <th>1814</th>\n",
       "      <td>0</td>\n",
       "      <td>19.70</td>\n",
       "      <td>12</td>\n",
       "      <td>258.35</td>\n",
       "    </tr>\n",
       "    <tr>\n",
       "      <th>5946</th>\n",
       "      <td>1</td>\n",
       "      <td>73.90</td>\n",
       "      <td>42</td>\n",
       "      <td>3160.55</td>\n",
       "    </tr>\n",
       "    <tr>\n",
       "      <th>3881</th>\n",
       "      <td>0</td>\n",
       "      <td>65.15</td>\n",
       "      <td>71</td>\n",
       "      <td>4681.75</td>\n",
       "    </tr>\n",
       "    <tr>\n",
       "      <th>2389</th>\n",
       "      <td>0</td>\n",
       "      <td>85.45</td>\n",
       "      <td>71</td>\n",
       "      <td>6300.85</td>\n",
       "    </tr>\n",
       "    <tr>\n",
       "      <th>3676</th>\n",
       "      <td>0</td>\n",
       "      <td>70.40</td>\n",
       "      <td>30</td>\n",
       "      <td>2044.75</td>\n",
       "    </tr>\n",
       "    <tr>\n",
       "      <th>...</th>\n",
       "      <td>...</td>\n",
       "      <td>...</td>\n",
       "      <td>...</td>\n",
       "      <td>...</td>\n",
       "    </tr>\n",
       "    <tr>\n",
       "      <th>905</th>\n",
       "      <td>1</td>\n",
       "      <td>100.50</td>\n",
       "      <td>9</td>\n",
       "      <td>918.60</td>\n",
       "    </tr>\n",
       "    <tr>\n",
       "      <th>5192</th>\n",
       "      <td>0</td>\n",
       "      <td>19.95</td>\n",
       "      <td>60</td>\n",
       "      <td>1189.90</td>\n",
       "    </tr>\n",
       "    <tr>\n",
       "      <th>3980</th>\n",
       "      <td>1</td>\n",
       "      <td>105.70</td>\n",
       "      <td>28</td>\n",
       "      <td>2979.50</td>\n",
       "    </tr>\n",
       "    <tr>\n",
       "      <th>235</th>\n",
       "      <td>1</td>\n",
       "      <td>54.40</td>\n",
       "      <td>2</td>\n",
       "      <td>114.10</td>\n",
       "    </tr>\n",
       "    <tr>\n",
       "      <th>5157</th>\n",
       "      <td>0</td>\n",
       "      <td>68.25</td>\n",
       "      <td>16</td>\n",
       "      <td>1114.85</td>\n",
       "    </tr>\n",
       "  </tbody>\n",
       "</table>\n",
       "<p>5634 rows × 4 columns</p>\n",
       "</div>"
      ],
      "text/plain": [
       "      churn  monthlycharges  tenure  totalcharges\n",
       "1814      0           19.70      12        258.35\n",
       "5946      1           73.90      42       3160.55\n",
       "3881      0           65.15      71       4681.75\n",
       "2389      0           85.45      71       6300.85\n",
       "3676      0           70.40      30       2044.75\n",
       "...     ...             ...     ...           ...\n",
       "905       1          100.50       9        918.60\n",
       "5192      0           19.95      60       1189.90\n",
       "3980      1          105.70      28       2979.50\n",
       "235       1           54.40       2        114.10\n",
       "5157      0           68.25      16       1114.85\n",
       "\n",
       "[5634 rows x 4 columns]"
      ]
     },
     "execution_count": 733,
     "metadata": {},
     "output_type": "execute_result"
    }
   ],
   "source": [
    "df_full_train[numericals]"
   ]
  },
  {
   "cell_type": "code",
   "execution_count": 734,
   "metadata": {},
   "outputs": [
    {
     "data": {
      "text/plain": [
       "churn             1.000000\n",
       "monthlycharges    0.196805\n",
       "tenure           -0.351885\n",
       "totalcharges     -0.196353\n",
       "dtype: float64"
      ]
     },
     "execution_count": 734,
     "metadata": {},
     "output_type": "execute_result"
    }
   ],
   "source": [
    "df_full_train[numericals].corrwith(df_full_train.churn)"
   ]
  },
  {
   "cell_type": "code",
   "execution_count": 735,
   "metadata": {},
   "outputs": [
    {
     "data": {
      "text/plain": [
       "1814    12\n",
       "5946    42\n",
       "3881    71\n",
       "2389    71\n",
       "3676    30\n",
       "        ..\n",
       "905      9\n",
       "5192    60\n",
       "3980    28\n",
       "235      2\n",
       "5157    16\n",
       "Name: tenure, Length: 5634, dtype: int64"
      ]
     },
     "execution_count": 735,
     "metadata": {},
     "output_type": "execute_result"
    }
   ],
   "source": [
    "df_full_train.tenure"
   ]
  },
  {
   "cell_type": "code",
   "execution_count": 736,
   "metadata": {},
   "outputs": [],
   "source": [
    "train_dict = df_train.to_dict(orient='records')"
   ]
  },
  {
   "cell_type": "code",
   "execution_count": 737,
   "metadata": {},
   "outputs": [],
   "source": [
    "dv = DictVectorizer(sparse=False)"
   ]
  },
  {
   "cell_type": "code",
   "execution_count": 738,
   "metadata": {},
   "outputs": [
    {
     "data": {
      "text/html": [
       "<style>#sk-container-id-26 {color: black;}#sk-container-id-26 pre{padding: 0;}#sk-container-id-26 div.sk-toggleable {background-color: white;}#sk-container-id-26 label.sk-toggleable__label {cursor: pointer;display: block;width: 100%;margin-bottom: 0;padding: 0.3em;box-sizing: border-box;text-align: center;}#sk-container-id-26 label.sk-toggleable__label-arrow:before {content: \"▸\";float: left;margin-right: 0.25em;color: #696969;}#sk-container-id-26 label.sk-toggleable__label-arrow:hover:before {color: black;}#sk-container-id-26 div.sk-estimator:hover label.sk-toggleable__label-arrow:before {color: black;}#sk-container-id-26 div.sk-toggleable__content {max-height: 0;max-width: 0;overflow: hidden;text-align: left;background-color: #f0f8ff;}#sk-container-id-26 div.sk-toggleable__content pre {margin: 0.2em;color: black;border-radius: 0.25em;background-color: #f0f8ff;}#sk-container-id-26 input.sk-toggleable__control:checked~div.sk-toggleable__content {max-height: 200px;max-width: 100%;overflow: auto;}#sk-container-id-26 input.sk-toggleable__control:checked~label.sk-toggleable__label-arrow:before {content: \"▾\";}#sk-container-id-26 div.sk-estimator input.sk-toggleable__control:checked~label.sk-toggleable__label {background-color: #d4ebff;}#sk-container-id-26 div.sk-label input.sk-toggleable__control:checked~label.sk-toggleable__label {background-color: #d4ebff;}#sk-container-id-26 input.sk-hidden--visually {border: 0;clip: rect(1px 1px 1px 1px);clip: rect(1px, 1px, 1px, 1px);height: 1px;margin: -1px;overflow: hidden;padding: 0;position: absolute;width: 1px;}#sk-container-id-26 div.sk-estimator {font-family: monospace;background-color: #f0f8ff;border: 1px dotted black;border-radius: 0.25em;box-sizing: border-box;margin-bottom: 0.5em;}#sk-container-id-26 div.sk-estimator:hover {background-color: #d4ebff;}#sk-container-id-26 div.sk-parallel-item::after {content: \"\";width: 100%;border-bottom: 1px solid gray;flex-grow: 1;}#sk-container-id-26 div.sk-label:hover label.sk-toggleable__label {background-color: #d4ebff;}#sk-container-id-26 div.sk-serial::before {content: \"\";position: absolute;border-left: 1px solid gray;box-sizing: border-box;top: 0;bottom: 0;left: 50%;z-index: 0;}#sk-container-id-26 div.sk-serial {display: flex;flex-direction: column;align-items: center;background-color: white;padding-right: 0.2em;padding-left: 0.2em;position: relative;}#sk-container-id-26 div.sk-item {position: relative;z-index: 1;}#sk-container-id-26 div.sk-parallel {display: flex;align-items: stretch;justify-content: center;background-color: white;position: relative;}#sk-container-id-26 div.sk-item::before, #sk-container-id-26 div.sk-parallel-item::before {content: \"\";position: absolute;border-left: 1px solid gray;box-sizing: border-box;top: 0;bottom: 0;left: 50%;z-index: -1;}#sk-container-id-26 div.sk-parallel-item {display: flex;flex-direction: column;z-index: 1;position: relative;background-color: white;}#sk-container-id-26 div.sk-parallel-item:first-child::after {align-self: flex-end;width: 50%;}#sk-container-id-26 div.sk-parallel-item:last-child::after {align-self: flex-start;width: 50%;}#sk-container-id-26 div.sk-parallel-item:only-child::after {width: 0;}#sk-container-id-26 div.sk-dashed-wrapped {border: 1px dashed gray;margin: 0 0.4em 0.5em 0.4em;box-sizing: border-box;padding-bottom: 0.4em;background-color: white;}#sk-container-id-26 div.sk-label label {font-family: monospace;font-weight: bold;display: inline-block;line-height: 1.2em;}#sk-container-id-26 div.sk-label-container {text-align: center;}#sk-container-id-26 div.sk-container {/* jupyter's `normalize.less` sets `[hidden] { display: none; }` but bootstrap.min.css set `[hidden] { display: none !important; }` so we also need the `!important` here to be able to override the default hidden behavior on the sphinx rendered scikit-learn.org. See: https://github.com/scikit-learn/scikit-learn/issues/21755 */display: inline-block !important;position: relative;}#sk-container-id-26 div.sk-text-repr-fallback {display: none;}</style><div id=\"sk-container-id-26\" class=\"sk-top-container\"><div class=\"sk-text-repr-fallback\"><pre>DictVectorizer(sparse=False)</pre><b>In a Jupyter environment, please rerun this cell to show the HTML representation or trust the notebook. <br />On GitHub, the HTML representation is unable to render, please try loading this page with nbviewer.org.</b></div><div class=\"sk-container\" hidden><div class=\"sk-item\"><div class=\"sk-estimator sk-toggleable\"><input class=\"sk-toggleable__control sk-hidden--visually\" id=\"sk-estimator-id-26\" type=\"checkbox\" checked><label for=\"sk-estimator-id-26\" class=\"sk-toggleable__label sk-toggleable__label-arrow\">DictVectorizer</label><div class=\"sk-toggleable__content\"><pre>DictVectorizer(sparse=False)</pre></div></div></div></div></div>"
      ],
      "text/plain": [
       "DictVectorizer(sparse=False)"
      ]
     },
     "execution_count": 738,
     "metadata": {},
     "output_type": "execute_result"
    }
   ],
   "source": [
    "dv.fit(train_dict)"
   ]
  },
  {
   "cell_type": "code",
   "execution_count": 739,
   "metadata": {},
   "outputs": [],
   "source": [
    "X_train = dv.transform(train_dict)"
   ]
  },
  {
   "cell_type": "code",
   "execution_count": 740,
   "metadata": {},
   "outputs": [
    {
     "data": {
      "text/plain": [
       "array([  1. ,   0. ,   0. , ...,   0. ,   5. , 408.5])"
      ]
     },
     "execution_count": 740,
     "metadata": {},
     "output_type": "execute_result"
    }
   ],
   "source": [
    "X_train[0]"
   ]
  },
  {
   "cell_type": "code",
   "execution_count": 741,
   "metadata": {},
   "outputs": [
    {
     "data": {
      "text/plain": [
       "array(['contract=month-to-month', 'contract=one_year',\n",
       "       'contract=two_year', ..., 'techsupport=yes', 'tenure',\n",
       "       'totalcharges'], dtype=object)"
      ]
     },
     "execution_count": 741,
     "metadata": {},
     "output_type": "execute_result"
    }
   ],
   "source": [
    "dv.get_feature_names_out()"
   ]
  },
  {
   "cell_type": "code",
   "execution_count": 742,
   "metadata": {},
   "outputs": [
    {
     "data": {
      "text/plain": [
       "array([0, 1, 0, ..., 1, 0, 1])"
      ]
     },
     "execution_count": 742,
     "metadata": {},
     "output_type": "execute_result"
    }
   ],
   "source": [
    "y_train"
   ]
  },
  {
   "cell_type": "code",
   "execution_count": 743,
   "metadata": {},
   "outputs": [],
   "source": [
    "model = LogisticRegression(solver='liblinear', random_state=1)"
   ]
  },
  {
   "cell_type": "code",
   "execution_count": 744,
   "metadata": {},
   "outputs": [
    {
     "data": {
      "text/html": [
       "<style>#sk-container-id-27 {color: black;}#sk-container-id-27 pre{padding: 0;}#sk-container-id-27 div.sk-toggleable {background-color: white;}#sk-container-id-27 label.sk-toggleable__label {cursor: pointer;display: block;width: 100%;margin-bottom: 0;padding: 0.3em;box-sizing: border-box;text-align: center;}#sk-container-id-27 label.sk-toggleable__label-arrow:before {content: \"▸\";float: left;margin-right: 0.25em;color: #696969;}#sk-container-id-27 label.sk-toggleable__label-arrow:hover:before {color: black;}#sk-container-id-27 div.sk-estimator:hover label.sk-toggleable__label-arrow:before {color: black;}#sk-container-id-27 div.sk-toggleable__content {max-height: 0;max-width: 0;overflow: hidden;text-align: left;background-color: #f0f8ff;}#sk-container-id-27 div.sk-toggleable__content pre {margin: 0.2em;color: black;border-radius: 0.25em;background-color: #f0f8ff;}#sk-container-id-27 input.sk-toggleable__control:checked~div.sk-toggleable__content {max-height: 200px;max-width: 100%;overflow: auto;}#sk-container-id-27 input.sk-toggleable__control:checked~label.sk-toggleable__label-arrow:before {content: \"▾\";}#sk-container-id-27 div.sk-estimator input.sk-toggleable__control:checked~label.sk-toggleable__label {background-color: #d4ebff;}#sk-container-id-27 div.sk-label input.sk-toggleable__control:checked~label.sk-toggleable__label {background-color: #d4ebff;}#sk-container-id-27 input.sk-hidden--visually {border: 0;clip: rect(1px 1px 1px 1px);clip: rect(1px, 1px, 1px, 1px);height: 1px;margin: -1px;overflow: hidden;padding: 0;position: absolute;width: 1px;}#sk-container-id-27 div.sk-estimator {font-family: monospace;background-color: #f0f8ff;border: 1px dotted black;border-radius: 0.25em;box-sizing: border-box;margin-bottom: 0.5em;}#sk-container-id-27 div.sk-estimator:hover {background-color: #d4ebff;}#sk-container-id-27 div.sk-parallel-item::after {content: \"\";width: 100%;border-bottom: 1px solid gray;flex-grow: 1;}#sk-container-id-27 div.sk-label:hover label.sk-toggleable__label {background-color: #d4ebff;}#sk-container-id-27 div.sk-serial::before {content: \"\";position: absolute;border-left: 1px solid gray;box-sizing: border-box;top: 0;bottom: 0;left: 50%;z-index: 0;}#sk-container-id-27 div.sk-serial {display: flex;flex-direction: column;align-items: center;background-color: white;padding-right: 0.2em;padding-left: 0.2em;position: relative;}#sk-container-id-27 div.sk-item {position: relative;z-index: 1;}#sk-container-id-27 div.sk-parallel {display: flex;align-items: stretch;justify-content: center;background-color: white;position: relative;}#sk-container-id-27 div.sk-item::before, #sk-container-id-27 div.sk-parallel-item::before {content: \"\";position: absolute;border-left: 1px solid gray;box-sizing: border-box;top: 0;bottom: 0;left: 50%;z-index: -1;}#sk-container-id-27 div.sk-parallel-item {display: flex;flex-direction: column;z-index: 1;position: relative;background-color: white;}#sk-container-id-27 div.sk-parallel-item:first-child::after {align-self: flex-end;width: 50%;}#sk-container-id-27 div.sk-parallel-item:last-child::after {align-self: flex-start;width: 50%;}#sk-container-id-27 div.sk-parallel-item:only-child::after {width: 0;}#sk-container-id-27 div.sk-dashed-wrapped {border: 1px dashed gray;margin: 0 0.4em 0.5em 0.4em;box-sizing: border-box;padding-bottom: 0.4em;background-color: white;}#sk-container-id-27 div.sk-label label {font-family: monospace;font-weight: bold;display: inline-block;line-height: 1.2em;}#sk-container-id-27 div.sk-label-container {text-align: center;}#sk-container-id-27 div.sk-container {/* jupyter's `normalize.less` sets `[hidden] { display: none; }` but bootstrap.min.css set `[hidden] { display: none !important; }` so we also need the `!important` here to be able to override the default hidden behavior on the sphinx rendered scikit-learn.org. See: https://github.com/scikit-learn/scikit-learn/issues/21755 */display: inline-block !important;position: relative;}#sk-container-id-27 div.sk-text-repr-fallback {display: none;}</style><div id=\"sk-container-id-27\" class=\"sk-top-container\"><div class=\"sk-text-repr-fallback\"><pre>LogisticRegression(random_state=1, solver=&#x27;liblinear&#x27;)</pre><b>In a Jupyter environment, please rerun this cell to show the HTML representation or trust the notebook. <br />On GitHub, the HTML representation is unable to render, please try loading this page with nbviewer.org.</b></div><div class=\"sk-container\" hidden><div class=\"sk-item\"><div class=\"sk-estimator sk-toggleable\"><input class=\"sk-toggleable__control sk-hidden--visually\" id=\"sk-estimator-id-27\" type=\"checkbox\" checked><label for=\"sk-estimator-id-27\" class=\"sk-toggleable__label sk-toggleable__label-arrow\">LogisticRegression</label><div class=\"sk-toggleable__content\"><pre>LogisticRegression(random_state=1, solver=&#x27;liblinear&#x27;)</pre></div></div></div></div></div>"
      ],
      "text/plain": [
       "LogisticRegression(random_state=1, solver='liblinear')"
      ]
     },
     "execution_count": 744,
     "metadata": {},
     "output_type": "execute_result"
    }
   ],
   "source": [
    "model.fit(X_train, y_train)"
   ]
  },
  {
   "cell_type": "code",
   "execution_count": null,
   "metadata": {},
   "outputs": [],
   "source": []
  },
  {
   "cell_type": "code",
   "execution_count": 745,
   "metadata": {},
   "outputs": [],
   "source": [
    "numericals = [col for col in numericals if col not in ['churn', 'customerid']]"
   ]
  },
  {
   "cell_type": "code",
   "execution_count": 746,
   "metadata": {},
   "outputs": [],
   "source": [
    "df_val_copy = df_val.copy()"
   ]
  },
  {
   "cell_type": "code",
   "execution_count": 747,
   "metadata": {},
   "outputs": [],
   "source": [
    "df_val_copy = df_val_copy.drop('customerid', axis=1)"
   ]
  },
  {
   "cell_type": "code",
   "execution_count": 748,
   "metadata": {},
   "outputs": [],
   "source": [
    "val_dict = df_val_copy.to_dict(orient='records')"
   ]
  },
  {
   "cell_type": "code",
   "execution_count": 749,
   "metadata": {},
   "outputs": [],
   "source": [
    "X_val = dv.transform(val_dict)"
   ]
  },
  {
   "cell_type": "code",
   "execution_count": 750,
   "metadata": {},
   "outputs": [
    {
     "data": {
      "text/plain": [
       "array([[0.0000e+00, 0.0000e+00, 1.0000e+00, ..., 1.0000e+00, 7.1000e+01,\n",
       "        4.9734e+03],\n",
       "       [1.0000e+00, 0.0000e+00, 0.0000e+00, ..., 0.0000e+00, 1.0000e+00,\n",
       "        2.0750e+01],\n",
       "       [1.0000e+00, 0.0000e+00, 0.0000e+00, ..., 0.0000e+00, 1.0000e+00,\n",
       "        2.0350e+01],\n",
       "       ...,\n",
       "       [1.0000e+00, 0.0000e+00, 0.0000e+00, ..., 0.0000e+00, 3.0000e+00,\n",
       "        2.2230e+02],\n",
       "       [1.0000e+00, 0.0000e+00, 0.0000e+00, ..., 0.0000e+00, 1.0000e+01,\n",
       "        1.9305e+02],\n",
       "       [1.0000e+00, 0.0000e+00, 0.0000e+00, ..., 0.0000e+00, 1.2000e+01,\n",
       "        2.2035e+02]])"
      ]
     },
     "execution_count": 750,
     "metadata": {},
     "output_type": "execute_result"
    }
   ],
   "source": [
    "X_val"
   ]
  },
  {
   "cell_type": "code",
   "execution_count": 751,
   "metadata": {},
   "outputs": [],
   "source": [
    "y_pred = model.predict_proba(X_val)[:, 1]"
   ]
  },
  {
   "cell_type": "code",
   "execution_count": 752,
   "metadata": {},
   "outputs": [],
   "source": [
    "churn = y_pred > 0.5"
   ]
  },
  {
   "cell_type": "markdown",
   "metadata": {},
   "source": [
    "calculating the model accuracy"
   ]
  },
  {
   "cell_type": "code",
   "execution_count": 753,
   "metadata": {},
   "outputs": [
    {
     "data": {
      "text/plain": [
       "0.8059139784946237"
      ]
     },
     "execution_count": 753,
     "metadata": {},
     "output_type": "execute_result"
    }
   ],
   "source": [
    "(churn == y_val).mean()"
   ]
  },
  {
   "cell_type": "markdown",
   "metadata": {},
   "source": [
    "Model intepretation"
   ]
  },
  {
   "cell_type": "code",
   "execution_count": 754,
   "metadata": {},
   "outputs": [
    {
     "data": {
      "text/plain": [
       "-0.10077239849636606"
      ]
     },
     "execution_count": 754,
     "metadata": {},
     "output_type": "execute_result"
    }
   ],
   "source": [
    "# Bias term\n",
    "model.intercept_[0]"
   ]
  },
  {
   "cell_type": "code",
   "execution_count": 755,
   "metadata": {},
   "outputs": [
    {
     "data": {
      "text/plain": [
       "array([ 5.35237743e-01, -6.87374655e-02, -5.67272676e-01, ...,\n",
       "       -1.68500794e-01, -6.98855465e-02,  3.84821894e-04])"
      ]
     },
     "execution_count": 755,
     "metadata": {},
     "output_type": "execute_result"
    }
   ],
   "source": [
    "# Weights generated by the model\n",
    "model.coef_[0]"
   ]
  },
  {
   "cell_type": "code",
   "execution_count": 756,
   "metadata": {},
   "outputs": [
    {
     "data": {
      "text/plain": [
       "{'contract=month-to-month': 0.5352377433156302,\n",
       " 'contract=one_year': -0.06873746550914847,\n",
       " 'contract=two_year': -0.5672726763028277,\n",
       " 'customerid=0002-orfbo': -0.006309454879863347,\n",
       " 'customerid=0011-igkff': 0.007995813529351787,\n",
       " 'customerid=0013-exchz': 0.009425967455697232,\n",
       " 'customerid=0013-mhzwf': -0.009492991856445806,\n",
       " 'customerid=0013-smeoe': -0.0021882640519176795,\n",
       " 'customerid=0014-bmaqu': -0.0015756838097191438,\n",
       " 'customerid=0015-uocoj': -0.010292575904201394,\n",
       " 'customerid=0017-dinoc': -0.00041914933659520674,\n",
       " 'customerid=0019-efaep': -0.0019733449201688874,\n",
       " 'customerid=0020-inwck': -0.003082690388204935,\n",
       " 'customerid=0020-jdnxp': -0.0018312050272426942,\n",
       " 'customerid=0021-ikxgc': -0.0196767473492024,\n",
       " 'customerid=0023-uyupn': -0.0005019161944720956,\n",
       " 'customerid=0023-xuopt': 0.010352019882535434,\n",
       " 'customerid=0030-fnxpp': -0.005054623077927788,\n",
       " 'customerid=0031-pvlzi': 0.020079360326639036,\n",
       " 'customerid=0036-ihmot': -0.0036484476018296286,\n",
       " 'customerid=0042-rlhyp': -5.258227188366768e-05,\n",
       " 'customerid=0048-lumls': -0.006042676277922453,\n",
       " 'customerid=0048-pihnl': -0.00023819560588054077,\n",
       " 'customerid=0052-dckon': -0.0028711338539102373,\n",
       " 'customerid=0056-epfbg': -0.003145187881812961,\n",
       " 'customerid=0057-qbuqh': -0.000654696933338044,\n",
       " 'customerid=0071-ndafp': -0.0013698393843161317,\n",
       " 'customerid=0078-xzmht': -0.0010944377414688188,\n",
       " 'customerid=0080-emyvy': -0.004764325204093691,\n",
       " 'customerid=0082-oqiqy': -0.010264817669050335,\n",
       " 'customerid=0093-exyql': -0.011577082219162559,\n",
       " 'customerid=0094-oifmo': 0.0075052310861769694,\n",
       " 'customerid=0098-bowso': -0.00214764879605277,\n",
       " 'customerid=0100-duvfc': -0.006353824262160265,\n",
       " 'customerid=0104-ppxdv': -0.0005645389085168953,\n",
       " 'customerid=0106-ghrqr': -0.010702683650042615,\n",
       " 'customerid=0112-qawrz': -0.015302058440355211,\n",
       " 'customerid=0115-tfert': 0.01027472457597711,\n",
       " 'customerid=0117-lfrmw': 0.02334624061261856,\n",
       " 'customerid=0118-jpnoy': -0.009513833867349072,\n",
       " 'customerid=0121-snyrk': -0.0005807750131765106,\n",
       " 'customerid=0122-oahpz': 0.00739651579046646,\n",
       " 'customerid=0123-crbrt': -0.0007654389266385434,\n",
       " 'customerid=0129-qmpdr': -0.0004501071801552886,\n",
       " 'customerid=0130-sxoun': -0.0036264603989391905,\n",
       " 'customerid=0133-bmfzo': 0.013448903352859545,\n",
       " 'customerid=0134-xwxce': -0.0016603928279807485,\n",
       " 'customerid=0136-ifmyd': -0.004835365897992386,\n",
       " 'customerid=0137-ocgab': 0.0077795452352763085,\n",
       " 'customerid=0137-udeuo': 0.020034253495041426,\n",
       " 'customerid=0151-ontov': 0.011283724121129525,\n",
       " 'customerid=0174-qrvvy': -7.548201316608647e-05,\n",
       " 'customerid=0177-pxbat': -0.010596887754732887,\n",
       " 'customerid=0181-ritdd': -0.0014883712175177946,\n",
       " 'customerid=0187-qsxoe': -0.01914875230422881,\n",
       " 'customerid=0188-gwfle': -0.0052562767045153365,\n",
       " 'customerid=0193-eszxp': 0.021584960889120774,\n",
       " 'customerid=0197-pnknk': -0.0011776043732624616,\n",
       " 'customerid=0201-oamxr': 0.02296744237228987,\n",
       " 'customerid=0203-hhyij': 0.02365147382295311,\n",
       " 'customerid=0206-oyvoc': -0.00031919882270346983,\n",
       " 'customerid=0206-tbwlc': -0.004167050853815259,\n",
       " 'customerid=0208-bpqej': -0.003347914354795993,\n",
       " 'customerid=0212-isbbf': -0.011108863323214107,\n",
       " 'customerid=0215-bqkgs': -0.005826458096107585,\n",
       " 'customerid=0219-ytzue': 0.008363015189145347,\n",
       " 'customerid=0220-ebgce': 0.007420696802534848,\n",
       " 'customerid=0221-nauxk': -0.003390373801748752,\n",
       " 'customerid=0222-cnvpt': -0.0025402503769821187,\n",
       " 'customerid=0224-hjapt': 0.013056000292898523,\n",
       " 'customerid=0224-nijlp': -0.0026305478396391794,\n",
       " 'customerid=0224-rlwwd': -0.01466664484632235,\n",
       " 'customerid=0228-mauwc': -0.005559259161613637,\n",
       " 'customerid=0230-ubypq': -0.00027409065754099534,\n",
       " 'customerid=0230-wequw': -0.00039299098171528243,\n",
       " 'customerid=0234-tevtt': -0.0010469702485242328,\n",
       " 'customerid=0235-kgslc': 0.00843506765488192,\n",
       " 'customerid=0237-yfutl': -0.006580338951498255,\n",
       " 'customerid=0239-oxexl': -0.003390700941482174,\n",
       " 'customerid=0244-lgnfy': -0.0005998302760972758,\n",
       " 'customerid=0247-sluji': -0.005784431947269187,\n",
       " 'customerid=0248-ipdfw': -0.015995214714912633,\n",
       " 'customerid=0248-pghbz': -0.001183926689608753,\n",
       " 'customerid=0253-zteob': -0.001993007460672036,\n",
       " 'customerid=0256-lthvj': 0.012866288426985839,\n",
       " 'customerid=0257-kxzgu': -0.004020529059117536,\n",
       " 'customerid=0257-zesqc': 0.01650447416146746,\n",
       " 'customerid=0258-nokbl': -0.014602132303766727,\n",
       " 'customerid=0260-zdlgk': 0.016593228774792423,\n",
       " 'customerid=0263-fjtqo': -0.0011512488990236005,\n",
       " 'customerid=0264-cnitk': -4.5374452357945105e-05,\n",
       " 'customerid=0265-edxbd': 0.012329309282836869,\n",
       " 'customerid=0265-psuae': -0.009807335455774191,\n",
       " 'customerid=0268-qkiwo': 0.0190154309633475,\n",
       " 'customerid=0270-thenm': -0.0002199296210217827,\n",
       " 'customerid=0274-jkujr': -0.009408600616595039,\n",
       " 'customerid=0277-orxqs': -0.0004743196232469458,\n",
       " 'customerid=0278-yxoog': 0.020578214882419225,\n",
       " 'customerid=0280-xjgex': 0.015862298736622482,\n",
       " 'customerid=0281-cntzx': -0.0001226057433644058,\n",
       " 'customerid=0282-nvsjs': -0.009948878163984931,\n",
       " 'customerid=0298-xacet': -0.0005950628304962796,\n",
       " 'customerid=0301-fidrb': -0.0004029689480160366,\n",
       " 'customerid=0301-kobtq': -0.0008084029083461168,\n",
       " 'customerid=0302-joivn': 0.009707932683648248,\n",
       " 'customerid=0303-uncip': -0.002168900534882869,\n",
       " 'customerid=0303-wmmrn': -0.006008464699165941,\n",
       " 'customerid=0306-jaele': 0.009111796998840191,\n",
       " 'customerid=0308-ivgok': -0.006584741992663256,\n",
       " 'customerid=0310-vqxam': -0.0035818042793200064,\n",
       " 'customerid=0314-tkosi': -0.0059736997768015864,\n",
       " 'customerid=0315-lvcrk': -0.013133970373243722,\n",
       " 'customerid=0318-zopws': -0.0003143704750713171,\n",
       " 'customerid=0320-jdnqg': 0.01501663104707322,\n",
       " 'customerid=0322-chqru': 0.013900774433164915,\n",
       " 'customerid=0326-vdyxe': -0.005588530165214719,\n",
       " 'customerid=0327-wfzsy': -0.008305851474679308,\n",
       " 'customerid=0328-grpmv': 0.0076149485250299916,\n",
       " 'customerid=0330-bgyze': -0.004427029853284237,\n",
       " 'customerid=0334-gddso': 0.00626478844804345,\n",
       " 'customerid=0336-kxkfk': -0.000383470133743113,\n",
       " 'customerid=0343-qluzp': -0.00027941464024215017,\n",
       " 'customerid=0348-sdkol': 0.01829870055813071,\n",
       " 'customerid=0356-erhvt': -0.010358300271975145,\n",
       " 'customerid=0357-nvcri': -0.0013656163790455847,\n",
       " 'customerid=0363-qjvfx': 0.01639257489717729,\n",
       " 'customerid=0363-svhyr': -0.0005078173570831243,\n",
       " 'customerid=0365-trtpy': -0.004967426936252304,\n",
       " 'customerid=0369-zgovk': -0.007246078966439885,\n",
       " 'customerid=0373-aivnj': -0.00495151535667295,\n",
       " 'customerid=0374-aacsz': -0.00909381633435575,\n",
       " 'customerid=0374-ioegq': -0.010890424331034411,\n",
       " 'customerid=0375-hvgxo': 0.007734512469850658,\n",
       " 'customerid=0376-ymcjc': 0.01289972266947766,\n",
       " 'customerid=0377-jbkkt': -0.003090149556430986,\n",
       " 'customerid=0378-cjkpv': -0.001748231549339735,\n",
       " 'customerid=0378-nhqxu': 0.011462348684344542,\n",
       " 'customerid=0378-tovms': 0.01153361248855775,\n",
       " 'customerid=0380-neavx': -0.009644151882704736,\n",
       " 'customerid=0386-cwrgm': -0.00022721038842025805,\n",
       " 'customerid=0388-eopex': 0.009480348527467451,\n",
       " 'customerid=0390-dcfdq': 0.007299554572689958,\n",
       " 'customerid=0392-bziuw': -0.0033428369035773562,\n",
       " 'customerid=0394-yondk': -7.933516924722572e-05,\n",
       " 'customerid=0396-ychwo': -0.014652441022035577,\n",
       " 'customerid=0402-cqajn': 0.01404612263944022,\n",
       " 'customerid=0402-oamen': -6.576227231826525e-05,\n",
       " 'customerid=0404-ahasp': -4.697616918554644e-05,\n",
       " 'customerid=0404-swrvg': 0.006541016560641729,\n",
       " 'customerid=0406-bpdvr': 0.016705683239526203,\n",
       " 'customerid=0409-wtmpl': -0.005681859899327122,\n",
       " 'customerid=0411-ezjze': -0.016009588320290414,\n",
       " 'customerid=0412-uccnp': -0.00046461739435005837,\n",
       " 'customerid=0415-mosgf': 0.014967487883305246,\n",
       " 'customerid=0420-bwtpw': 0.015459323128254494,\n",
       " 'customerid=0420-hlgxf': -0.014173954040653261,\n",
       " 'customerid=0422-ohqhq': -0.0019375763773574954,\n",
       " 'customerid=0422-uxfap': -0.00857418209713572,\n",
       " 'customerid=0423-udijq': -0.006330144158866361,\n",
       " 'customerid=0426-tirne': 0.01945979957913529,\n",
       " 'customerid=0428-axxlj': -0.0014613138868334215,\n",
       " 'customerid=0430-ihcdj': -0.01118363840758705,\n",
       " 'customerid=0431-apwvy': 0.014776282832497892,\n",
       " 'customerid=0432-cajzv': -0.01501458343445388,\n",
       " 'customerid=0434-csfon': -0.012116481727536045,\n",
       " 'customerid=0440-ekdcf': -0.0004628262868001371,\n",
       " 'customerid=0440-uedai': -0.00298248047739928,\n",
       " 'customerid=0442-zxkvs': -0.0056532424307582305,\n",
       " 'customerid=0454-okrct': -0.002777872989949549,\n",
       " 'customerid=0455-entcr': -0.0007698677064685359,\n",
       " 'customerid=0458-heuzg': -0.004014762273197811,\n",
       " 'customerid=0463-txoak': -0.0002163037194178597,\n",
       " 'customerid=0463-wzzko': -0.00716577341564179,\n",
       " 'customerid=0464-wjtko': -4.3377065574217045e-05,\n",
       " 'customerid=0471-lvhgk': 0.019703298082090075,\n",
       " 'customerid=0480-kyjva': -6.929715162669438e-05,\n",
       " 'customerid=0484-ffvbj': -0.004400453011068906,\n",
       " 'customerid=0484-jpbru': -0.0011196749942285786,\n",
       " 'customerid=0487-vvuvk': -0.0020315659288380602,\n",
       " 'customerid=0488-gslfr': 0.00763056030855889,\n",
       " 'customerid=0489-wmemg': -0.0034727704564833256,\n",
       " 'customerid=0495-rvcbf': 0.006617674225833846,\n",
       " 'customerid=0496-ahook': -0.002766527543243462,\n",
       " 'customerid=0504-hhapi': 0.013314388733562894,\n",
       " 'customerid=0505-spoow': -5.354057713525145e-05,\n",
       " 'customerid=0506-lvngn': 0.009208335832378256,\n",
       " 'customerid=0506-ylvkj': -0.00032193288967449215,\n",
       " 'customerid=0508-oolto': -0.01755820885426514,\n",
       " 'customerid=0508-sqwpl': -0.00016690651994527916,\n",
       " 'customerid=0512-flfdw': -0.0073906763866037894,\n",
       " 'customerid=0513-rbgpe': -0.0014996880764275265,\n",
       " 'customerid=0516-oohar': -0.007253567520089044,\n",
       " 'customerid=0516-uxrmt': -0.0026882788257438753,\n",
       " 'customerid=0516-vrybw': 0.023596194373220414,\n",
       " 'customerid=0516-wjvxc': 0.019051333068213345,\n",
       " 'customerid=0519-xuzju': 0.011288230206651192,\n",
       " 'customerid=0520-fdvvt': 0.017052472504356306,\n",
       " 'customerid=0524-iavzo': 0.01032608387644905,\n",
       " 'customerid=0526-sxdjp': -0.00016562552326258205,\n",
       " 'customerid=0529-onker': 0.010694049758287204,\n",
       " 'customerid=0530-ijvdb': -0.002517948642671035,\n",
       " 'customerid=0531-xbkmm': -0.00024941229849400904,\n",
       " 'customerid=0531-zzjwq': -0.007028457673412628,\n",
       " 'customerid=0533-ucaau': -0.00225520764767919,\n",
       " 'customerid=0536-acxip': -0.004211110899222121,\n",
       " 'customerid=0541-fitgh': -0.011746011965155345,\n",
       " 'customerid=0547-hurjb': -0.003031170054768887,\n",
       " 'customerid=0550-dcxlh': -0.005989784458588868,\n",
       " 'customerid=0556-fjegu': -0.0004719366651930171,\n",
       " 'customerid=0557-askvu': -0.004112435598299731,\n",
       " 'customerid=0559-ckhus': -0.0010550886029122106,\n",
       " 'customerid=0564-muuqk': -0.012782508697314203,\n",
       " 'customerid=0565-iycgt': 0.024554967723426965,\n",
       " 'customerid=0567-ggcac': -0.006487624575700433,\n",
       " 'customerid=0567-xrhcu': -0.00039434558875240755,\n",
       " 'customerid=0568-onfpc': 0.01667653988166085,\n",
       " 'customerid=0570-bfqht': -0.011682181664902945,\n",
       " 'customerid=0575-cuqov': -0.005592455588075889,\n",
       " 'customerid=0576-wnxxc': 0.009722898389687675,\n",
       " 'customerid=0577-whmev': -0.010489824465639867,\n",
       " 'customerid=0578-skvmf': 0.014241322062644515,\n",
       " 'customerid=0580-piqhm': -0.005746047288711913,\n",
       " 'customerid=0582-avcln': -0.00035910738442408496,\n",
       " 'customerid=0585-egdda': -0.0071844886210241385,\n",
       " 'customerid=0594-uftul': -0.00413030403244292,\n",
       " 'customerid=0599-xnydo': -0.012408001284969411,\n",
       " 'customerid=0602-dduml': -0.00045267812487702466,\n",
       " 'customerid=0604-thjfp': -0.0010952212208506637,\n",
       " 'customerid=0607-daahe': 0.024999653469563808,\n",
       " 'customerid=0608-jdvec': -0.00023500399311553275,\n",
       " 'customerid=0612-rtzza': 0.009600224539730735,\n",
       " 'customerid=0616-atfgb': 0.008865762729083312,\n",
       " 'customerid=0617-fhsgk': 0.02092474909567013,\n",
       " 'customerid=0618-xwmss': 0.018757270090216393,\n",
       " 'customerid=0619-olyur': -0.0027821693669713684,\n",
       " 'customerid=0620-xefwh': -0.004939438119322191,\n",
       " 'customerid=0621-hjwxj': -0.004297628524308083,\n",
       " 'customerid=0621-jfhol': -0.006641597549834143,\n",
       " 'customerid=0621-tssmu': -0.00015613613200426307,\n",
       " 'customerid=0626-qxngv': -0.00011336967038236894,\n",
       " 'customerid=0628-cnqrm': 0.02217129144436029,\n",
       " 'customerid=0634-szpqa': 0.0134391242634648,\n",
       " 'customerid=0635-wkold': -0.0021430323387505884,\n",
       " 'customerid=0639-tsiqw': 0.021251787124465453,\n",
       " 'customerid=0640-yjtpy': -4.3361404764043836e-05,\n",
       " 'customerid=0641-evboj': -0.010373540882541442,\n",
       " 'customerid=0654-hmshn': 0.011120137142972044,\n",
       " 'customerid=0655-ydgfj': -0.0029315904746517163,\n",
       " 'customerid=0657-dogum': -0.0012027310903891001,\n",
       " 'customerid=0661-kbkpa': -0.0018126584916435373,\n",
       " 'customerid=0661-kqhnk': -0.003560052786622755,\n",
       " 'customerid=0665-xhdju': -0.004841979833953913,\n",
       " 'customerid=0670-anmuu': -0.0012464211704852584,\n",
       " 'customerid=0673-iguqo': -0.005556010451744689,\n",
       " 'customerid=0674-eyyzv': -0.01469871184145483,\n",
       " 'customerid=0674-gcdxg': -0.000593508386134044,\n",
       " 'customerid=0679-tdgak': -0.0011629266932407327,\n",
       " 'customerid=0680-dfnny': 0.006750508184263764,\n",
       " 'customerid=0682-usixd': -0.011831855235848558,\n",
       " 'customerid=0685-mlyym': 0.009095572713322389,\n",
       " 'customerid=0687-zvthb': 0.024510997465213513,\n",
       " 'customerid=0689-nkylf': 0.010654926125614844,\n",
       " 'customerid=0691-ifbqw': 0.017516655641918084,\n",
       " 'customerid=0691-jvsya': 0.019621227192334556,\n",
       " 'customerid=0691-nikri': -0.007853238470801873,\n",
       " 'customerid=0696-uktox': -0.003301029822361761,\n",
       " 'customerid=0697-zmsws': 0.005765111807153656,\n",
       " 'customerid=0699-ndkjm': -0.0019778923705910233,\n",
       " 'customerid=0701-rfgfi': -0.010051845505234901,\n",
       " 'customerid=0702-pgibz': 0.006116065468842335,\n",
       " 'customerid=0707-hovvn': -0.0007005596263580482,\n",
       " 'customerid=0708-lgsmf': -0.011996115180292671,\n",
       " 'customerid=0716-bqndx': -0.002554316959007768,\n",
       " 'customerid=0719-syfrb': 0.01918762093168755,\n",
       " 'customerid=0722-svsfk': -0.015148682316941196,\n",
       " 'customerid=0722-troqr': 0.005903948523112842,\n",
       " 'customerid=0723-vsobe': -0.002220211364086469,\n",
       " 'customerid=0725-cxotm': -0.003453174926387189,\n",
       " 'customerid=0727-bnrlg': -0.0020049421080909026,\n",
       " 'customerid=0727-iwkvk': 0.009990171347408547,\n",
       " 'customerid=0730-bgqgf': -0.0005314387720858828,\n",
       " 'customerid=0731-ebjqb': -0.0003330613659492442,\n",
       " 'customerid=0739-uuajr': -0.0005192925396573407,\n",
       " 'customerid=0742-lafqk': -0.002934941788600404,\n",
       " 'customerid=0743-hnpfg': -0.0009210908452855903,\n",
       " 'customerid=0744-bikkf': -0.000441049127051543,\n",
       " 'customerid=0744-gknge': -0.002136198902312325,\n",
       " 'customerid=0749-irgqe': -0.01398183970492726,\n",
       " 'customerid=0750-ebaiu': -0.0023153782206719285,\n",
       " 'customerid=0750-ekngl': -0.004028601976986398,\n",
       " 'customerid=0754-eebdc': -0.0033155380856231616,\n",
       " 'customerid=0754-ukwqp': 0.00683685449888937,\n",
       " 'customerid=0761-aetcs': 0.018391297174168625,\n",
       " 'customerid=0769-murvm': -0.0002668383822382439,\n",
       " 'customerid=0771-chwsk': -0.000737022732542856,\n",
       " 'customerid=0772-gyeqq': 0.012101414456062854,\n",
       " 'customerid=0774-ifuvm': -0.010257927974598704,\n",
       " 'customerid=0778-nella': 0.011587400540981705,\n",
       " 'customerid=0780-xnzfn': -0.00010675726752354873,\n",
       " 'customerid=0784-zqjzx': -3.867536396047648e-05,\n",
       " 'customerid=0786-ivlaw': -0.004587530125812261,\n",
       " 'customerid=0787-lhdyt': -0.0036212541772702497,\n",
       " 'customerid=0793-tweln': -0.01619249679261847,\n",
       " 'customerid=0794-yvsge': -4.169682844754529e-05,\n",
       " 'customerid=0795-lafgp': -0.000712545466987387,\n",
       " 'customerid=0799-ddihe': -0.007322717468063256,\n",
       " 'customerid=0804-xbfbv': -0.010107230671021095,\n",
       " 'customerid=0810-bdhaw': -0.005074732630357806,\n",
       " 'customerid=0810-dhdbd': -0.0008092166419979804,\n",
       " 'customerid=0812-wuptb': 0.009533705519424108,\n",
       " 'customerid=0813-taxxs': -0.0024098712038853986,\n",
       " 'customerid=0815-mfzgm': -0.00524333565721195,\n",
       " 'customerid=0816-tsphq': -0.005287147411353323,\n",
       " 'customerid=0817-hsuse': -0.012641120646485796,\n",
       " 'customerid=0818-ocpzo': 0.01204852210258086,\n",
       " 'customerid=0822-gavap': 0.007591139674974902,\n",
       " 'customerid=0822-qgcxa': -0.00733265987429167,\n",
       " 'customerid=0824-vwdpo': -0.004101877280687779,\n",
       " 'customerid=0825-cppqh': -5.028910392505594e-05,\n",
       " 'customerid=0827-itjph': -0.0006302990158014174,\n",
       " 'customerid=0829-ddvlk': -0.002000281544105236,\n",
       " 'customerid=0831-jnisg': -4.174646164112694e-05,\n",
       " 'customerid=0835-duuiq': -0.001045655810793362,\n",
       " 'customerid=0835-jkadz': -0.0038195925830960867,\n",
       " 'customerid=0836-seylu': 0.01606340900436235,\n",
       " 'customerid=0839-qnxme': -0.0006637818628076114,\n",
       " 'customerid=0842-iwycp': -0.0014108345026096693,\n",
       " 'customerid=0847-hgrml': -7.06843220287478e-05,\n",
       " 'customerid=0851-dfjkb': -0.0037948477306875617,\n",
       " 'customerid=0859-ygkfw': -0.0016720487442256479,\n",
       " 'customerid=0862-prcbs': -0.003340150359074484,\n",
       " 'customerid=0864-fvjnj': -0.0027202992352171234,\n",
       " 'customerid=0866-qlsir': 0.023387203667348675,\n",
       " 'customerid=0867-ldttc': -0.00828622260335911,\n",
       " 'customerid=0868-vjrdr': -0.0020881621827246897,\n",
       " 'customerid=0869-paprp': -0.012057069947149852,\n",
       " 'customerid=0871-uruwo': 0.00701646322774242,\n",
       " 'customerid=0872-caszj': -0.0009210586747072083,\n",
       " 'customerid=0872-jcpib': -0.006723480493530608,\n",
       " 'customerid=0876-wduuz': 0.010616717672187491,\n",
       " 'customerid=0877-sdmbn': 0.019942161848277375,\n",
       " 'customerid=0885-hmgpy': -0.00031490239900873,\n",
       " 'customerid=0886-qgenl': 0.012259767755399885,\n",
       " 'customerid=0895-dqhew': 0.015541910465849572,\n",
       " 'customerid=0895-lmrsf': -0.00637051173743446,\n",
       " 'customerid=0895-lnkrc': -0.0032726229240303438,\n",
       " 'customerid=0897-fegmu': 0.006143794028053529,\n",
       " 'customerid=0898-xcgtf': -0.0059304846413944755,\n",
       " 'customerid=0899-wzrsd': -0.004792476832040983,\n",
       " 'customerid=0902-rfhof': -0.0003997323216391413,\n",
       " 'customerid=0906-qvpms': -0.0019907013696007724,\n",
       " 'customerid=0907-hqnts': -0.0032053979988877768,\n",
       " 'customerid=0909-sdhnu': -0.007681513658248399,\n",
       " 'customerid=0913-xwscn': -0.005313951239741843,\n",
       " 'customerid=0917-ezola': 0.02012814977259575,\n",
       " 'customerid=0925-vydlg': 0.008417768443399275,\n",
       " 'customerid=0928-xutsn': -0.015684532199466934,\n",
       " 'customerid=0929-peclo': -0.005943546724880626,\n",
       " 'customerid=0932-yixyu': -0.00022467562627491246,\n",
       " 'customerid=0939-yapaf': 0.011296224608747752,\n",
       " 'customerid=0946-cljti': 0.014399436698549038,\n",
       " 'customerid=0946-fkytx': -0.0006722239672176724,\n",
       " 'customerid=0947-mugvo': 0.011620456999244886,\n",
       " 'customerid=0953-lgovu': -0.006453767340655895,\n",
       " 'customerid=0956-acvzc': -0.004751197086921192,\n",
       " 'customerid=0959-whokv': -0.00648973494648643,\n",
       " 'customerid=0961-zwlvi': -0.005339669904620629,\n",
       " 'customerid=0963-zbdrn': 0.014714049056303285,\n",
       " 'customerid=0970-qxpxw': -0.005610607337539087,\n",
       " 'customerid=0971-qifjk': -8.737750857123086e-05,\n",
       " 'customerid=0975-uydtx': -0.004589364451307592,\n",
       " 'customerid=0979-phulv': 0.01848678479412404,\n",
       " 'customerid=0980-fexwf': -0.0025402706909527857,\n",
       " 'customerid=0983-tatyj': -0.002231799127722818,\n",
       " 'customerid=0988-jrwwp': -0.013983543106426051,\n",
       " 'customerid=1000-ajsld': 0.017739766192098078,\n",
       " 'customerid=1009-irmna': 0.020797794129410584,\n",
       " 'customerid=1015-owjki': -0.005526195344507639,\n",
       " 'customerid=1017-fbqmm': -0.004900065018417111,\n",
       " 'customerid=1020-jpqow': -0.0036004652931949056,\n",
       " 'customerid=1022-rkxdr': -0.0007137342629525065,\n",
       " 'customerid=1023-bqxze': -0.0010413964731372295,\n",
       " 'customerid=1027-lkkqq': -0.00047963000627318736,\n",
       " 'customerid=1028-ffnjk': -0.014510315556108185,\n",
       " 'customerid=1029-qfben': 0.019560884687481024,\n",
       " 'customerid=1031-iideo': 0.007595461491871148,\n",
       " 'customerid=1035-ipqpu': -0.00949057431739223,\n",
       " 'customerid=1038-zagbi': 0.022648804003077457,\n",
       " 'customerid=1042-hfucw': -0.0025818748154662163,\n",
       " 'customerid=1043-uxovo': -0.0023377609829014125,\n",
       " 'customerid=1045-ltcyt': -0.0043355015709282225,\n",
       " 'customerid=1049-fysyg': -0.00974015048018949,\n",
       " 'customerid=1051-eqpzr': -0.00041131129652861,\n",
       " 'customerid=1053-mxttk': -0.0015407039401969644,\n",
       " 'customerid=1057-foglz': -0.002152297670800432,\n",
       " 'customerid=1061-pnthc': -0.0048961425359570305,\n",
       " 'customerid=1062-lhzod': 0.00874120809025263,\n",
       " 'customerid=1069-qjoee': -0.0012612460342889455,\n",
       " 'customerid=1069-xaiem': 0.00458699890298587,\n",
       " 'customerid=1073-xxczd': -0.0002237799021085198,\n",
       " 'customerid=1074-amioh': -0.006186809444694736,\n",
       " 'customerid=1074-wvevg': -0.00012309940715725794,\n",
       " 'customerid=1075-bgwoh': 0.00626386361827067,\n",
       " 'customerid=1080-bwsye': -0.00015654897570420434,\n",
       " 'customerid=1084-uqchv': 0.01153892381276081,\n",
       " 'customerid=1087-gruyi': -0.0004341596419976324,\n",
       " 'customerid=1087-udsih': 0.01833903901777289,\n",
       " 'customerid=1088-auuzz': -0.0009979374670282639,\n",
       " 'customerid=1088-cnnkb': -0.0006326714887629994,\n",
       " 'customerid=1089-xzwhh': -0.0013782016726946811,\n",
       " 'customerid=1090-eselr': -0.0011500353159920745,\n",
       " 'customerid=1092-ganhu': 0.012413143672373306,\n",
       " 'customerid=1092-wpivq': -0.0019423034141488925,\n",
       " 'customerid=1094-bkosx': -0.0011989789608575982,\n",
       " 'customerid=1095-wgngg': -0.00539830631908826,\n",
       " 'customerid=1096-adrux': -0.002401944699068494,\n",
       " 'customerid=1098-kfqec': -0.0001331785226859543,\n",
       " 'customerid=1098-tdvuq': -0.007782924265799431,\n",
       " 'customerid=1104-fejam': -0.006710546502295229,\n",
       " 'customerid=1104-tnlza': -0.014921199878775411,\n",
       " 'customerid=1106-hrlkz': -0.0003286027871666229,\n",
       " 'customerid=1110-kylgq': -0.003992688497527739,\n",
       " 'customerid=1112-cunao': 0.009433709570252835,\n",
       " 'customerid=1116-dxxdf': -0.005543111231910834,\n",
       " 'customerid=1120-bmwub': 0.01981039415902137,\n",
       " 'customerid=1121-qsivb': -0.003638041948634144,\n",
       " 'customerid=1122-jwtjw': 0.00872035033391531,\n",
       " 'customerid=1125-snvck': -0.0012118720044344787,\n",
       " 'customerid=1131-alzwv': -0.0015514605094641353,\n",
       " 'customerid=1131-qqzeb': -9.153661933808902e-05,\n",
       " 'customerid=1133-kxcge': -0.0015532094872571984,\n",
       " 'customerid=1135-hiori': -0.005401489603197121,\n",
       " 'customerid=1140-ukvzg': -0.0031465439570334437,\n",
       " 'customerid=1150-ftqgn': -0.0023967575805259184,\n",
       " 'customerid=1150-wfarn': 0.022520860624609017,\n",
       " 'customerid=1153-gnolc': -0.004352049393621868,\n",
       " 'customerid=1156-zfydo': -0.006712406274112217,\n",
       " 'customerid=1162-ecvii': -0.003843296125376884,\n",
       " 'customerid=1166-pqlgg': -4.33225931330098e-05,\n",
       " 'customerid=1169-wcvak': -0.009330385753500977,\n",
       " 'customerid=1170-sasml': -0.003546065376315961,\n",
       " 'customerid=1172-viybp': -0.000976507756227348,\n",
       " 'customerid=1173-noeyg': -0.011487342253793376,\n",
       " 'customerid=1173-xzpyf': -0.017113464249661158,\n",
       " 'customerid=1174-fgifn': -0.009980807099851068,\n",
       " 'customerid=1177-xzbjl': -0.0005870292939560896,\n",
       " 'customerid=1179-inlat': -0.005043092186115486,\n",
       " 'customerid=1184-pjvdb': 0.008293272686541054,\n",
       " 'customerid=1193-rtslk': 0.02036006440866322,\n",
       " 'customerid=1194-bhjyc': -0.0007135949437710766,\n",
       " 'customerid=1194-hvaif': -0.013044513030153972,\n",
       " 'customerid=1194-spvsp': -0.0058374547969522956,\n",
       " 'customerid=1195-oiyej': 0.00860885059195616,\n",
       " 'customerid=1196-amora': 0.009632526667899212,\n",
       " 'customerid=1197-bvmvg': -0.01913279719430413,\n",
       " 'customerid=1200-tuzhr': -0.017550207383028357,\n",
       " 'customerid=1202-kkgfu': -0.004431998712272316,\n",
       " 'customerid=1206-ehbdd': -0.0012757873312954297,\n",
       " 'customerid=1208-nbvfh': -0.0073382517698922164,\n",
       " 'customerid=1209-vffoc': -0.00033764545768276736,\n",
       " 'customerid=1215-figmp': -0.00551869541984699,\n",
       " 'customerid=1219-nnddo': -0.01730194935481413,\n",
       " 'customerid=1222-lryko': -0.005231228447526899,\n",
       " 'customerid=1223-unpks': -0.0012342035898577624,\n",
       " 'customerid=1227-udmzr': -0.0008659990358412472,\n",
       " 'customerid=1228-fzfrv': 0.018889612655274928,\n",
       " 'customerid=1229-rcalf': -0.004291666459473674,\n",
       " 'customerid=1231-yndek': -0.00014029795128530989,\n",
       " 'customerid=1236-wfcdv': 0.011014878021982057,\n",
       " 'customerid=1240-hcboh': -0.00012781525949918203,\n",
       " 'customerid=1240-knsez': 0.017739766192098078,\n",
       " 'customerid=1245-harps': -0.0019938496126619206,\n",
       " 'customerid=1247-qbvsh': -0.0015490907935362334,\n",
       " 'customerid=1251-krreg': 0.011664349935950585,\n",
       " 'customerid=1251-stysz': -0.01705069267363514,\n",
       " 'customerid=1260-ttrxi': 0.013378132422253983,\n",
       " 'customerid=1261-fwtte': -0.009741737069644386,\n",
       " 'customerid=1262-opmfy': 0.010455350276193553,\n",
       " 'customerid=1264-fuhcx': -0.0021639221624077344,\n",
       " 'customerid=1265-bcfeo': -0.0010268419864824106,\n",
       " 'customerid=1265-hvpzb': -0.0005304215244972204,\n",
       " 'customerid=1269-foywn': -0.0003049770518908208,\n",
       " 'customerid=1270-xkucc': -0.000647979742462647,\n",
       " 'customerid=1271-uodno': -0.0019196479029055743,\n",
       " 'customerid=1272-ilhfg': -0.0019284887107908332,\n",
       " 'customerid=1285-okipp': 0.00875170719946455,\n",
       " 'customerid=1291-cuocy': -0.0034742144963183287,\n",
       " 'customerid=1293-hhshj': -0.0005125565110302835,\n",
       " 'customerid=1297-vqdrp': -0.00479639731097878,\n",
       " 'customerid=1298-phbti': -0.0017147875304267166,\n",
       " 'customerid=1301-lopvr': -0.0028007759853095468,\n",
       " 'customerid=1302-uhbdd': -0.013179294274792946,\n",
       " 'customerid=1303-srdok': -0.0023153267821388553,\n",
       " 'customerid=1304-necvq': 0.0060504925983890095,\n",
       " 'customerid=1304-segfy': -0.004236079962419755,\n",
       " 'customerid=1306-rpwxz': -0.00017719463427990004,\n",
       " 'customerid=1307-atkgb': -0.012075883986353304,\n",
       " 'customerid=1309-xgfsn': -0.003849698153138927,\n",
       " 'customerid=1310-qritu': -0.010361989571441858,\n",
       " 'customerid=1320-gvnht': -0.0029394485478313782,\n",
       " 'customerid=1323-ooepc': 0.015575460121309687,\n",
       " 'customerid=1324-nltje': 0.018266558281505224,\n",
       " 'customerid=1325-usmec': -0.0022769694001278573,\n",
       " 'customerid=1329-vhwnp': -0.011071084465762784,\n",
       " 'customerid=1333-pbmxb': -0.0003666319951969296,\n",
       " 'customerid=1334-fjsvr': 0.008416171125279407,\n",
       " 'customerid=1335-mxcse': -0.0006144575063232933,\n",
       " 'customerid=1336-ezfzy': -0.004805186398275518,\n",
       " 'customerid=1343-ehpyb': 0.01635196182449406,\n",
       " 'customerid=1345-gkdzz': -0.003961418833064511,\n",
       " 'customerid=1345-zukid': -0.001961363533264172,\n",
       " 'customerid=1346-pjwtk': -0.002480696543556659,\n",
       " 'customerid=1346-ufhax': -0.012927931313886308,\n",
       " 'customerid=1352-hnsaw': -0.0024721746261718467,\n",
       " 'customerid=1352-vhkaj': -0.005569332006720571,\n",
       " 'customerid=1354-yzfnb': -0.0035543958069076476,\n",
       " 'customerid=1355-kusbg': -0.01192636325068027,\n",
       " 'customerid=1357-mvdoz': -0.010139907240455283,\n",
       " 'customerid=1360-rcyrt': -0.0057713050675970426,\n",
       " 'customerid=1360-xfjmr': -0.0043664739566016495,\n",
       " 'customerid=1363-txlsl': 0.0061990012875588075,\n",
       " 'customerid=1371-dwpaz': -0.006141082682727073,\n",
       " 'customerid=1371-ojcek': -0.0003326229969147606,\n",
       " 'customerid=1373-orviz': 0.012882858225112188,\n",
       " 'customerid=1376-hhbdv': -0.0030037808132955964,\n",
       " 'customerid=1383-ezrwl': 0.020996777671236925,\n",
       " 'customerid=1389-cxmlu': 0.007562621764532153,\n",
       " 'customerid=1391-ubdar': -0.011678969322815648,\n",
       " 'customerid=1393-imkzg': -0.016936683604383388,\n",
       " 'customerid=1394-suiuh': -0.0043258742964803224,\n",
       " 'customerid=1395-ofuwc': -0.00184456485437777,\n",
       " 'customerid=1395-wswxr': -0.000909176891865069,\n",
       " 'customerid=1399-oupjn': -0.00012135358315747041,\n",
       " 'customerid=1400-wivll': -0.004129673237574085,\n",
       " 'customerid=1401-fthfq': -0.0017655623362434235,\n",
       " 'customerid=1403-gyafu': -4.8527576293077195e-05,\n",
       " 'customerid=1403-lklik': -0.0005852601836022333,\n",
       " 'customerid=1406-puqvy': -0.012711869323864958,\n",
       " 'customerid=1409-phxtf': -0.00705311493575805,\n",
       " 'customerid=1421-hcerk': -0.008905298211473473,\n",
       " 'customerid=1422-dgubx': -0.007793268719743297,\n",
       " 'customerid=1423-bmpbq': -0.0077132738026017365,\n",
       " 'customerid=1428-gtbjj': 0.010924633717019419,\n",
       " 'customerid=1428-iedpr': -0.0044421672206040935,\n",
       " 'customerid=1431-cywmh': -0.0018707989335074548,\n",
       " 'customerid=1436-zmjan': -0.012474396627058673,\n",
       " 'customerid=1442-bqpvu': -0.009147836475806309,\n",
       " 'customerid=1444-vvsgw': 0.022866824134993545,\n",
       " 'customerid=1447-giqmr': 0.006981469913899124,\n",
       " 'customerid=1448-cywkc': -0.006685862457222119,\n",
       " 'customerid=1448-pwkye': 0.008425025871600423,\n",
       " 'customerid=1452-kiovk': -0.012996158648689162,\n",
       " 'customerid=1452-uzosf': -0.0016278941927783872,\n",
       " 'customerid=1452-xrsjv': -0.0016071642095634962,\n",
       " 'customerid=1453-rzfon': -0.007320862757873029,\n",
       " 'customerid=1455-esiqh': 0.006206616642791564,\n",
       " 'customerid=1455-hfbxa': -0.002343447241233201,\n",
       " 'customerid=1455-ugqvh': 0.005934369706040536,\n",
       " 'customerid=1456-twcgb': -0.008467996545862281,\n",
       " 'customerid=1459-qnfqt': -0.00028224391927437825,\n",
       " 'customerid=1460-uzprj': -9.704665991852803e-05,\n",
       " 'customerid=1465-vindh': 0.007509901760131911,\n",
       " 'customerid=1469-lbjqj': -0.008381480738424164,\n",
       " 'customerid=1470-psxnm': -0.006288861311119065,\n",
       " 'customerid=1472-tncwl': -0.01061975272608124,\n",
       " 'customerid=1474-juwsm': -0.001204923992110544,\n",
       " 'customerid=1475-vwvdo': -0.015173088273125492,\n",
       " 'customerid=1478-vpoad': -0.01159258694516007,\n",
       " 'customerid=1480-ivevr': -0.008645024000873096,\n",
       " 'customerid=1481-zuwza': 0.014618953773303198,\n",
       " 'customerid=1482-oxzsy': -0.01143960747261249,\n",
       " 'customerid=1485-ydhmm': -0.005473401042018947,\n",
       " 'customerid=1488-sysfc': -0.0018518620146949175,\n",
       " 'customerid=1492-kgeth': -0.0003957351245046358,\n",
       " 'customerid=1492-qgclu': -0.0019841812070443355,\n",
       " 'customerid=1496-ggsuk': 0.008763227710245293,\n",
       " 'customerid=1498-dqnrx': -0.0012231102290598183,\n",
       " 'customerid=1498-nhtlt': -0.001008156243639941,\n",
       " 'customerid=1506-yjtyt': -0.0010285731462369733,\n",
       " 'customerid=1508-dfxcu': -0.01526585280453762,\n",
       " 'customerid=1522-vvdmg': 0.011171590387802691,\n",
       " 'customerid=1525-lnloj': -0.0009131175078080621,\n",
       " 'customerid=1535-vtjoq': -0.0013754497520099072,\n",
       " 'customerid=1536-yhdoe': -0.0042890042360767275,\n",
       " 'customerid=1541-etjzo': 0.016105450833967257,\n",
       " 'customerid=1544-jjmyl': -0.0017421211952660819,\n",
       " 'customerid=1545-jfuml': -0.0024785601676311233,\n",
       " 'customerid=1548-aragg': -0.010651778261485166,\n",
       " 'customerid=1548-fehvl': -0.007337702919191844,\n",
       " 'customerid=1550-loaha': 0.017316317696953517,\n",
       " 'customerid=1552-czcll': -0.00022870304034753634,\n",
       " 'customerid=1552-tkmxs': -0.000591909259141906,\n",
       " 'customerid=1555-djeqw': 0.0227719110575054,\n",
       " 'customerid=1557-emyvt': -0.0036166598531064496,\n",
       " 'customerid=1559-dtodc': -0.008680284856011597,\n",
       " 'customerid=1564-ntyxf': 0.006696843140466855,\n",
       " 'customerid=1568-bekzm': -0.0007207683771893799,\n",
       " 'customerid=1569-ttnyj': 0.006755093640563911,\n",
       " 'customerid=1571-savhk': 0.010165337238334713,\n",
       " 'customerid=1574-dycwe': -0.00016068881767692877,\n",
       " 'customerid=1580-bmcmr': -0.01279034576674535,\n",
       " 'customerid=1585-mqssu': 0.02103239132835915,\n",
       " 'customerid=1587-fklzb': 0.016879850474095005,\n",
       " 'customerid=1589-agtlk': 0.011808009148103702,\n",
       " 'customerid=1591-nfnlq': 0.020733686691951855,\n",
       " 'customerid=1596-oqsps': -0.007784719709622763,\n",
       " 'customerid=1597-fzreh': 0.014940621959495897,\n",
       " 'customerid=1599-eahxy': -0.00016989286310732071,\n",
       " 'customerid=1599-mmyrq': -0.0014947724494806243,\n",
       " 'customerid=1608-gmewb': -0.011318579923220128,\n",
       " 'customerid=1612-eohdh': 0.013449247502991065,\n",
       " 'customerid=1614-jbebi': -0.005227946703919672,\n",
       " 'customerid=1621-yncjh': -0.005384315090440134,\n",
       " 'customerid=1623-nldot': 0.024120111962843267,\n",
       " 'customerid=1624-naloj': 0.0056117910705598215,\n",
       " 'customerid=1624-woiwj': 0.013202457531158594,\n",
       " 'customerid=1625-jaiiy': 0.0215087349829273,\n",
       " 'customerid=1635-fjfcc': -0.011612342543068092,\n",
       " 'customerid=1635-hdgft': -0.00119082278508623,\n",
       " 'customerid=1635-nzatj': -9.555732790729221e-05,\n",
       " 'customerid=1640-plfmp': -0.017478566262761615,\n",
       " 'customerid=1641-bybtk': -0.005341969405543894,\n",
       " 'customerid=1644-irksf': 0.015388053253808149,\n",
       " 'customerid=1656-drsmg': -0.005973461265732787,\n",
       " 'customerid=1658-tjvoa': -0.014639377647635118,\n",
       " 'customerid=1658-xuhbx': -0.007379025349824013,\n",
       " 'customerid=1660-hsooq': 0.01334452971278058,\n",
       " 'customerid=1661-czbau': -0.0016030467473028501,\n",
       " 'customerid=1666-jxlku': -0.01356540273031895,\n",
       " 'customerid=1666-jzpzt': -0.004473058187125531,\n",
       " 'customerid=1670-svowz': 0.0131856788058419,\n",
       " 'customerid=1676-mqaoa': -0.00027078823548499364,\n",
       " 'customerid=1679-jrfbr': -0.00402232261624834,\n",
       " 'customerid=1684-flbgs': -0.0070207664986490234,\n",
       " 'customerid=1685-bqula': -0.00907242892385084,\n",
       " 'customerid=1685-vayjf': -0.007370715352425511,\n",
       " 'customerid=1697-bcshv': -0.002484193860437369,\n",
       " 'customerid=1697-lyyyx': -0.00010075850624623593,\n",
       " 'customerid=1697-nvvgy': -0.005400186064651407,\n",
       " 'customerid=1698-xfzci': -0.004662126256318412,\n",
       " 'customerid=1699-hpsbg': 0.018314549100838746,\n",
       " 'customerid=1699-tldlz': -0.0016060667735377507,\n",
       " 'customerid=1703-mgiab': -0.0074273444544463215,\n",
       " 'customerid=1704-nrwye': 0.007932679392030734,\n",
       " 'customerid=1705-guhpv': -0.00010817421896590721,\n",
       " 'customerid=1707-habpf': -0.004982723632133237,\n",
       " 'customerid=1716-lsamb': -0.00053703554207645,\n",
       " 'customerid=1723-hkxjq': 0.012738893018381617,\n",
       " 'customerid=1724-bquha': 0.006134615886284394,\n",
       " 'customerid=1725-mimxw': 0.018198842532498073,\n",
       " 'customerid=1728-bqdma': -0.011246120138142801,\n",
       " 'customerid=1729-vlazj': -0.003564642940896671,\n",
       " 'customerid=1730-vfmwo': -0.0022266760138429805,\n",
       " 'customerid=1730-zmame': -0.012057049022954998,\n",
       " 'customerid=1732-vhubq': 0.020974772064049487,\n",
       " 'customerid=1735-xmjvh': -0.005398244183870074,\n",
       " 'customerid=1740-csdjp': 0.00824984428970503,\n",
       " 'customerid=1744-jhkys': -0.0015962474293491824,\n",
       " 'customerid=1746-tgtwv': -0.014483507501742262,\n",
       " 'customerid=1754-gkypy': -0.015172376179360212,\n",
       " 'customerid=1755-fzqec': -0.00038001710747099485,\n",
       " 'customerid=1755-rmcxh': -0.005507871485012064,\n",
       " 'customerid=1760-cazht': -0.001232153316989787,\n",
       " 'customerid=1761-aezzr': 0.007164210577469032,\n",
       " 'customerid=1763-kuaaw': -0.0018749171219485038,\n",
       " 'customerid=1763-wqfuk': -0.00928460797464675,\n",
       " 'customerid=1767-tgtko': -0.012093538809689643,\n",
       " 'customerid=1768-hnvgj': -0.0030282970241206205,\n",
       " 'customerid=1768-zaifu': 0.007460565607303124,\n",
       " 'customerid=1771-oadnz': 0.010034838017472764,\n",
       " 'customerid=1775-kwjkq': -0.0005517339394588733,\n",
       " 'customerid=1776-spbwv': -0.0008798109329650742,\n",
       " 'customerid=1785-bphtp': -0.008660787448418304,\n",
       " 'customerid=1790-nesio': -0.0025963835683975416,\n",
       " 'customerid=1791-pqhbb': -0.010879116576074668,\n",
       " 'customerid=1792-uxafy': 0.010981376728048529,\n",
       " 'customerid=1794-hbqtj': 0.014660171652270822,\n",
       " 'customerid=1813-jywto': -0.0009683634820529878,\n",
       " 'customerid=1814-wfgvs': -0.00014421476222234715,\n",
       " 'customerid=1816-flzdk': -0.010333965480970118,\n",
       " 'customerid=1820-tqvev': 0.007719858332663114,\n",
       " 'customerid=1830-ggfnm': -0.0009749326625666711,\n",
       " 'customerid=1830-ipxvj': -9.373212360800704e-05,\n",
       " 'customerid=1837-yquce': -0.0004070236736043634,\n",
       " 'customerid=1839-fbnfr': -0.0005715079433747058,\n",
       " 'customerid=1840-biuog': -0.006216476992140892,\n",
       " 'customerid=1842-ezjmk': 0.018657154351814673,\n",
       " 'customerid=1843-tlsgd': -0.001974510426999171,\n",
       " 'customerid=1848-lbzhy': -0.009275595765451483,\n",
       " 'customerid=1850-akqep': -0.003560073821607422,\n",
       " 'customerid=1852-xemdw': -0.003808222904841339,\n",
       " 'customerid=1855-cfulu': -0.005445367581123678,\n",
       " 'customerid=1866-dioqz': -0.0003755870457769989,\n",
       " 'customerid=1866-obpnr': -0.013904530744343504,\n",
       " 'customerid=1866-zsljm': -0.0018854105571859381,\n",
       " 'customerid=1867-tjhts': -0.003272048729060778,\n",
       " 'customerid=1871-mowrm': 0.017976024609364063,\n",
       " 'customerid=1872-ebwsc': -0.0007581632689387438,\n",
       " 'customerid=1875-qivme': 0.006429459218294124,\n",
       " 'customerid=1877-hkbqx': -0.00397611771442834,\n",
       " 'customerid=1895-qtkdo': -0.010661073252074046,\n",
       " 'customerid=1897-okvmw': -0.0009713209693893468,\n",
       " 'customerid=1897-rcfum': -0.0008544345604666561,\n",
       " 'customerid=1899-vxwxm': 0.017304996310583767,\n",
       " 'customerid=1902-xbtfb': 0.013682143907946904,\n",
       " 'customerid=1904-wajaa': -0.0030348820682979815,\n",
       " 'customerid=1907-ylnyw': -0.00998076940130659,\n",
       " 'customerid=1915-iofgu': 0.009800327514188608,\n",
       " 'customerid=1919-rtpqd': -0.009845122188617904,\n",
       " 'customerid=1925-lfczz': -0.0020587549223127833,\n",
       " 'customerid=1925-tible': 0.006005443348156951,\n",
       " 'customerid=1926-quznn': -0.00011404241567809018,\n",
       " 'customerid=1927-qewmy': -4.947749277621556e-05,\n",
       " 'customerid=1934-sjvjk': 0.0195480616171917,\n",
       " 'customerid=1936-czakf': -0.001655393313625879,\n",
       " 'customerid=1936-uafeh': -0.0017483645784359548,\n",
       " 'customerid=1937-otuky': -0.0015456079637153166,\n",
       " 'customerid=1945-xisks': -6.072517259962225e-05,\n",
       " 'customerid=1950-ksvvj': -0.003800365161484099,\n",
       " 'customerid=1952-dvvsw': -0.0028161785090986156,\n",
       " 'customerid=1955-ibmmb': -0.00013937410101949274,\n",
       " 'customerid=1956-yifge': -0.009910111677249195,\n",
       " 'customerid=1958-rnrks': -0.0054065227646019195,\n",
       " 'customerid=1960-uotym': -0.0010505292165983134,\n",
       " 'customerid=1964-svlea': -0.0018772436789264175,\n",
       " 'customerid=1965-aktsx': 0.008677317658090971,\n",
       " 'customerid=1965-ddbwu': 0.011298936263844721,\n",
       " 'customerid=1972-xmuwv': -0.0005240788729049358,\n",
       " 'customerid=1976-azzpj': -0.008360239724336834,\n",
       " 'customerid=1976-cfocs': 0.011516116862413283,\n",
       " 'customerid=1980-kxvpm': 0.006366445830373955,\n",
       " 'customerid=1984-fcowb': 0.020513884916370927,\n",
       " 'customerid=1985-mbryp': -0.00039028198725126097,\n",
       " 'customerid=1986-phgzf': -0.00730284692108204,\n",
       " 'customerid=1991-vopll': -0.003594983356035165,\n",
       " 'customerid=2000-dhjuy': -0.00108516332893868,\n",
       " 'customerid=2000-mpkca': -0.005319092362750569,\n",
       " 'customerid=2001-ewbqu': -0.004396419734072072,\n",
       " 'customerid=2001-mcuuw': -0.004586751033213303,\n",
       " 'customerid=2002-mzhwp': 0.019468439266935356,\n",
       " 'customerid=2011-trqye': 0.016878169568119845,\n",
       " 'customerid=2013-sgdxk': 0.009855019306153063,\n",
       " 'customerid=2014-mkgmh': -0.009281023893849499,\n",
       " 'customerid=2023-vqfdl': -0.0025846372716682425,\n",
       " 'customerid=2024-baskd': 0.009609084583882155,\n",
       " 'customerid=2025-jkfwi': 0.010229924936010102,\n",
       " 'customerid=2027-cwdnu': -0.012592551431500702,\n",
       " 'customerid=2027-dnkiv': -0.0011315861368196508,\n",
       " 'customerid=2027-feczv': 0.007386581475011617,\n",
       " 'customerid=2030-btzro': -0.004323018753784365,\n",
       " 'customerid=2034-gdrcn': 0.006300209524690594,\n",
       " 'customerid=2037-sgxhh': 0.014110464370879908,\n",
       " 'customerid=2038-llmlm': -0.008810776630405777,\n",
       " 'customerid=2038-yseze': -0.002191099762506215,\n",
       " 'customerid=2040-vzike': -0.008193251689024971,\n",
       " 'customerid=2043-wvtqj': -0.007895421867710667,\n",
       " 'customerid=2049-bafnw': -0.009846103023875093,\n",
       " 'customerid=2055-bfocc': -0.0009327875332745823,\n",
       " 'customerid=2055-sifss': -0.00178832718151045,\n",
       " 'customerid=2057-zblpd': 0.008323974417228552,\n",
       " 'customerid=2058-dcjbe': 0.008795761544012728,\n",
       " 'customerid=2061-vvfst': -0.0008061449563833251,\n",
       " 'customerid=2065-mmkgr': -0.007085580134601699,\n",
       " 'customerid=2067-qytcf': -0.006991749453834687,\n",
       " 'customerid=2068-wwxqz': -0.00022108161023081185,\n",
       " 'customerid=2070-fnexe': 0.014210030964711453,\n",
       " 'customerid=2070-xymfh': -0.012699748055365147,\n",
       " 'customerid=2072-zvjjx': -9.603228686276247e-05,\n",
       " 'customerid=2073-qbvbi': -0.0010618421446511382,\n",
       " 'customerid=2074-gkowz': 0.006930978882129269,\n",
       " 'customerid=2074-guhpq': -0.010656805629242863,\n",
       " 'customerid=2075-rmjik': -0.008918805055458438,\n",
       " 'customerid=2077-mpjqo': -0.019136558121350546,\n",
       " 'customerid=2081-veyeh': -0.015268040143330329,\n",
       " 'customerid=2082-ceflt': 0.011114878788938704,\n",
       " 'customerid=2085-jvgad': -0.0007626663380753778,\n",
       " 'customerid=2088-iebau': -0.0009690710788049806,\n",
       " 'customerid=2091-mjtfx': 0.020228191469546387,\n",
       " 'customerid=2091-rffba': 0.012913268843795378,\n",
       " 'customerid=2097-yvpkn': -9.370884827050826e-05,\n",
       " 'customerid=2100-bdnsn': 0.015340019929096557,\n",
       " 'customerid=2107-fbptk': -0.015308652579539405,\n",
       " 'customerid=2108-glpqb': -0.005820095469707272,\n",
       " 'customerid=2111-dwyhn': -0.005569892484431026,\n",
       " 'customerid=2114-mgina': 0.010427393499351342,\n",
       " 'customerid=2120-smpex': -0.001973851570523319,\n",
       " 'customerid=2122-szzzd': -0.0002910751194957066,\n",
       " 'customerid=2122-ywvya': -0.01045890556719571,\n",
       " 'customerid=2123-ageen': -0.017032748027153363,\n",
       " 'customerid=2123-vscot': -0.001059044068873434,\n",
       " 'customerid=2126-gsegl': -0.0010969755580740998,\n",
       " 'customerid=2129-alkbs': -0.0015897965804593205,\n",
       " 'customerid=2133-tsrrm': -0.007879177336376726,\n",
       " 'customerid=2138-vfapz': -0.0025411614591158063,\n",
       " 'customerid=2141-rrygo': 0.011837279817911904,\n",
       " 'customerid=2143-ljult': -0.00016116734500267024,\n",
       " 'customerid=2144-bfdso': -0.006967425472343443,\n",
       " 'customerid=2146-egvdt': -0.00010168235320255117,\n",
       " 'customerid=2150-wlkuw': -0.002718879916450803,\n",
       " 'customerid=2153-mrefk': 0.01850764466379898,\n",
       " 'customerid=2154-kvjff': 0.00998397122732191,\n",
       " 'customerid=2155-amqrx': -0.004864056552587836,\n",
       " 'customerid=2159-turxx': -0.004816940285935183,\n",
       " 'customerid=2164-soqxl': -0.0019895343858656665,\n",
       " 'customerid=2167-fqstq': -0.0010810112034493487,\n",
       " 'customerid=2169-rrlfw': -8.564990978286477e-05,\n",
       " 'customerid=2172-ejxvf': -0.005819375879125668,\n",
       " 'customerid=2176-osjuv': -0.00023658997682119524,\n",
       " 'customerid=2178-pmgcj': -0.00992501783679816,\n",
       " 'customerid=2186-qzeya': -0.004919686033234739,\n",
       " 'customerid=2187-lzgpl': 0.010673782242442035,\n",
       " 'customerid=2188-sxwvt': -0.0012213096747228118,\n",
       " 'customerid=2190-bcxec': -0.007038990496356689,\n",
       " 'customerid=2192-ckrlv': -0.00046254049472989496,\n",
       " 'customerid=2193-sfwqw': -0.0012620742559492479,\n",
       " 'customerid=2194-iiqof': -0.0006040860923483759,\n",
       " 'customerid=2195-vvrjf': -0.008120456210579698,\n",
       " 'customerid=2205-lpvgl': -0.0021669632253009355,\n",
       " 'customerid=2207-ryyrl': -0.0002268596084166899,\n",
       " 'customerid=2208-mpxio': -0.0003725325818311705,\n",
       " 'customerid=2219-mvuso': 0.014904363261544292,\n",
       " 'customerid=2220-iahls': -0.006003407774675623,\n",
       " 'customerid=2223-kagmx': 0.022411090238710015,\n",
       " 'customerid=2232-dmlxu': 0.013401086173144942,\n",
       " 'customerid=2233-txsiu': -0.004634533921981562,\n",
       " 'customerid=2234-eofpt': -0.00048120517772059487,\n",
       " 'customerid=2235-zgkpt': 0.013507979062454715,\n",
       " 'customerid=2236-hilpa': -8.277158267780574e-05,\n",
       " 'customerid=2240-hsjqd': -0.007678463172283141,\n",
       " 'customerid=2243-fnmmi': -0.0018597966576080589,\n",
       " 'customerid=2249-yprng': 0.009049112766124641,\n",
       " 'customerid=2252-jhjge': -0.0035305672039938093,\n",
       " 'customerid=2252-nknsi': -0.0012937171866466777,\n",
       " 'customerid=2253-kpmnb': -0.00013649454268684116,\n",
       " 'customerid=2254-dlxri': -0.017281754377386972,\n",
       " 'customerid=2259-ouusz': -0.008250764760829336,\n",
       " 'customerid=2262-slnvk': -0.015272276081352185,\n",
       " 'customerid=2265-cywiv': 0.0057777446062938055,\n",
       " 'customerid=2267-wtpyd': -0.006196721115390028,\n",
       " 'customerid=2272-jkmsi': -0.005294256970871876,\n",
       " 'customerid=2273-qckxa': -0.007739517651141479,\n",
       " 'customerid=2276-ydavz': 0.007104085297639041,\n",
       " 'customerid=2277-axsdc': -0.0006488088288546471,\n",
       " 'customerid=2277-bkjkn': -0.0040668839918023714,\n",
       " 'customerid=2279-axjjk': -0.006887537295661013,\n",
       " 'customerid=2293-ijwps': -0.0076157468559672654,\n",
       " 'customerid=2294-dmmus': -0.002903874723408622,\n",
       " 'customerid=2294-salne': -0.004174171423141404,\n",
       " 'customerid=2296-dkzfp': -0.000394993166365756,\n",
       " 'customerid=2300-rqgoi': -0.00035846340300667203,\n",
       " 'customerid=2303-pjyhn': -0.006287279827320487,\n",
       " 'customerid=2307-fynnl': -0.003551523270504387,\n",
       " 'customerid=2311-qymuq': 0.012255919361501395,\n",
       " 'customerid=2320-slkmb': -0.005543689286320332,\n",
       " 'customerid=2320-tzrrh': -0.001339448070193599,\n",
       " 'customerid=2320-ykqbo': -0.004067588026569394,\n",
       " 'customerid=2325-nbpzg': -0.014507727063629853,\n",
       " 'customerid=2330-pqgdq': -0.0023057937619850467,\n",
       " 'customerid=2332-efbjy': 0.021756481862010194,\n",
       " 'customerid=2335-gsoda': -0.0015340937037516941,\n",
       " 'customerid=2346-djqtb': -0.003330669810393753,\n",
       " 'customerid=2347-wkkae': -0.009296730627197393,\n",
       " 'customerid=2351-rrbue': -0.0031466071963330497,\n",
       " 'customerid=2357-coqek': 0.011270834534556332,\n",
       " 'customerid=2359-kmgli': 0.012338324948746406,\n",
       " 'customerid=2359-qwqul': 0.020072912667707714,\n",
       " 'customerid=2371-jungc': -0.0031832353171459414,\n",
       " 'customerid=2373-ntkod': -0.013851100628688584,\n",
       " 'customerid=2378-htwfw': -0.008007538383072946,\n",
       " 'customerid=2382-bckqj': 0.01889809698826437,\n",
       " 'customerid=2386-lahrk': 0.012040800294566554,\n",
       " 'customerid=2386-owury': -0.00576659877488985,\n",
       " 'customerid=2388-laesq': -0.003129483556746561,\n",
       " 'customerid=2391-iplop': -0.0019438160107878928,\n",
       " 'customerid=2393-divai': -0.0067658455952907025,\n",
       " 'customerid=2397-brlom': 0.0085181915678489,\n",
       " 'customerid=2405-lbmuw': -0.0005543989745233623,\n",
       " 'customerid=2408-tzmjl': 0.019301619931145913,\n",
       " 'customerid=2408-witxk': 0.009435589860613354,\n",
       " 'customerid=2410-ciyfz': -0.004936244419438549,\n",
       " 'customerid=2424-wvhpl': -0.01361759013186427,\n",
       " 'customerid=2428-hyunx': -0.0005073993973044619,\n",
       " 'customerid=2429-aykko': -3.9827772379403806e-05,\n",
       " 'customerid=2430-usgxp': 0.008391568350542552,\n",
       " 'customerid=2434-eevdb': -0.0026579332932271807,\n",
       " 'customerid=2439-lypmq': -0.014606350997768013,\n",
       " 'customerid=2439-qkjul': -0.004504149938740035,\n",
       " 'customerid=2446-beggb': 0.005356682087436914,\n",
       " 'customerid=2446-plqvo': 0.007700231872039697,\n",
       " 'customerid=2446-zkvaf': -0.007754072174385898,\n",
       " 'customerid=2450-zkeed': -0.00400304260343405,\n",
       " 'customerid=2452-snhfz': -0.002583195655747907,\n",
       " 'customerid=2454-rpbrz': 0.007122580317879323,\n",
       " 'customerid=2458-eomre': -0.006183730404319729,\n",
       " 'customerid=2466-fccpt': -0.0014984769162829073,\n",
       " 'customerid=2472-ovkup': 0.008042359907542904,\n",
       " 'customerid=2474-lcnue': -0.009127260079725568,\n",
       " 'customerid=2475-mrozf': -0.006214707509192167,\n",
       " 'customerid=2478-eewwm': -0.0028987726452936865,\n",
       " 'customerid=2479-bramr': 0.018173017579168987,\n",
       " 'customerid=2480-ejwyp': -0.006806350045286362,\n",
       " 'customerid=2481-sboyw': -0.0001783011587484742,\n",
       " 'customerid=2483-xssmz': -0.0016393617341802758,\n",
       " 'customerid=2484-dgxpz': 0.02365435211190266,\n",
       " 'customerid=2486-wyvve': -0.004944014798070499,\n",
       " 'customerid=2495-inzwq': 0.007695928790635813,\n",
       " 'customerid=2495-kznfb': -0.010755813248787768,\n",
       " 'customerid=2501-xwwtz': -0.012281979020648197,\n",
       " 'customerid=2509-tfpju': -7.753261443415949e-05,\n",
       " 'customerid=2511-allcs': -0.000706629387087118,\n",
       " 'customerid=2511-morqy': -0.0011131230808871927,\n",
       " 'customerid=2514-ginmm': 0.007165466859547737,\n",
       " 'customerid=2516-vqrrv': 0.006627246411456457,\n",
       " 'customerid=2516-xsjkx': -0.0012954678282743753,\n",
       " 'customerid=2519-erqoj': -0.006597502690818639,\n",
       " 'customerid=2519-fakod': 0.01382883016677688,\n",
       " 'customerid=2519-lbnql': -0.00814385813364784,\n",
       " 'customerid=2521-npuzr': -0.000986276427261051,\n",
       " 'customerid=2522-ahjxr': -0.00526609524964339,\n",
       " 'customerid=2525-gvkqu': -8.008440333231376e-05,\n",
       " 'customerid=2530-endwq': 0.021170470934547384,\n",
       " 'customerid=2535-pbcgc': -0.00032652752566994915,\n",
       " 'customerid=2538-oimxf': -0.012443585024421404,\n",
       " 'customerid=2545-ebupk': -0.02036867324558717,\n",
       " 'customerid=2545-lxyvj': -4.7378116131196225e-05,\n",
       " 'customerid=2546-kzaat': -0.0015113659155646518,\n",
       " 'customerid=2550-aevru': -0.00046264411861159197,\n",
       " 'customerid=2560-ppche': -0.00385387365537017,\n",
       " 'customerid=2560-wbwxf': -0.0001120049705867163,\n",
       " 'customerid=2565-jslry': 0.016008847658524276,\n",
       " 'customerid=2568-brgyx': 0.00855964764623131,\n",
       " 'customerid=2573-gyruu': -0.01018780143271812,\n",
       " 'customerid=2575-gfsoe': 0.008824458672037088,\n",
       " 'customerid=2578-jqphz': -0.003201918190132933,\n",
       " 'customerid=2580-asvvy': -0.001394677177136109,\n",
       " 'customerid=2581-vkirt': -0.0004042268392547079,\n",
       " 'customerid=2582-fffzr': -0.011064066152579367,\n",
       " 'customerid=2585-ktfre': -0.007988887354881747,\n",
       " 'customerid=2586-cwxvv': -0.0012802795033201653,\n",
       " 'customerid=2587-ekxts': -0.009683661066022805,\n",
       " 'customerid=2589-aycrp': -0.00019751987764831048,\n",
       " 'customerid=2592-hodov': -0.0022208843047508116,\n",
       " 'customerid=2592-ykdif': -0.00562564937560159,\n",
       " 'customerid=2599-czabp': -0.006171589069431211,\n",
       " 'customerid=2603-hvkcg': -0.011915979003709885,\n",
       " 'customerid=2604-ijpdu': -0.009229873425033666,\n",
       " 'customerid=2604-xvdam': -0.0070319820005416735,\n",
       " 'customerid=2606-pkwjb': -0.0006474802812271509,\n",
       " 'customerid=2606-rmdhz': 0.01172246148471548,\n",
       " 'customerid=2609-iaicy': 0.005991206958899021,\n",
       " 'customerid=2612-phgox': -0.0009061940791734908,\n",
       " 'customerid=2612-rridn': 0.007749737956716829,\n",
       " 'customerid=2615-yvmyx': -0.006483669096407251,\n",
       " 'customerid=2616-flvqc': -6.187732990011014e-05,\n",
       " 'customerid=2619-wfqwu': 0.008964385380658515,\n",
       " 'customerid=2621-udnlu': -0.005694606020249688,\n",
       " 'customerid=2623-dryam': -0.005815914674915108,\n",
       " 'customerid=2625-trczq': -0.004184652753373571,\n",
       " 'customerid=2626-urjfx': 0.009730286512484322,\n",
       " 'customerid=2632-ivxvf': -0.002017332255883895,\n",
       " 'customerid=2632-ucgvd': 0.017927067404013872,\n",
       " 'customerid=2634-hczgt': 0.023884084940634615,\n",
       " 'customerid=2636-alxxz': 0.006821519299469986,\n",
       " 'customerid=2640-lymov': -0.006998583070366749,\n",
       " 'customerid=2642-dtvco': 0.00602655262513584,\n",
       " 'customerid=2645-qtlmb': 0.007829611309005138,\n",
       " 'customerid=2651-zcbxv': -0.0034791925047045424,\n",
       " 'customerid=2656-fmokz': 0.009764629135872506,\n",
       " 'customerid=2656-tabeh': 0.005057502389786102,\n",
       " 'customerid=2657-almwy': 0.013694195860038826,\n",
       " 'customerid=2657-vpxta': -0.01759087263265859,\n",
       " 'customerid=2659-vxmwz': 0.020391735222845493,\n",
       " 'customerid=2661-gkbtk': -0.0006927169005431692,\n",
       " 'customerid=2665-nptgl': -0.016055824762546134,\n",
       " 'customerid=2668-tzsps': -0.005556010451744689,\n",
       " 'customerid=2672-huyvi': 0.007183620177967288,\n",
       " 'customerid=2673-cxqeu': -0.004747927658283217,\n",
       " 'customerid=2674-miaht': -0.016622534174004725,\n",
       " 'customerid=2674-mlxmn': -0.006380959889180507,\n",
       " 'customerid=2675-dhutr': -0.010601993443750133,\n",
       " 'customerid=2675-ijrgj': -0.00013486624847344476,\n",
       " 'customerid=2676-ishsf': -0.0055528104415124456,\n",
       " 'customerid=2676-oxppq': -0.008145745167238745,\n",
       " 'customerid=2676-sslto': -0.0015151957200894906,\n",
       " 'customerid=2683-bpjso': 0.014915453720691127,\n",
       " 'customerid=2683-jxwqq': -0.00045804410675522527,\n",
       " 'customerid=2684-eiweo': 0.01809100043705241,\n",
       " 'customerid=2688-bhgog': -0.017451192940067806,\n",
       " 'customerid=2690-dvrvk': -0.004239428536203989,\n",
       " 'customerid=2692-aqcpf': -0.004552693915266488,\n",
       " 'customerid=2692-bucfv': -0.01226173626155279,\n",
       " 'customerid=2692-pfytj': -0.009223858798915756,\n",
       " 'customerid=2694-ciumo': -0.013312292244535515,\n",
       " 'customerid=2696-ecxkc': -0.003607463437470953,\n",
       " 'customerid=2696-nartr': 0.012561186555514955,\n",
       " 'customerid=2696-rzvzw': -9.442688538391485e-05,\n",
       " 'customerid=2700-lueva': -0.005958008637709782,\n",
       " 'customerid=2703-amtul': -0.0011054458807086475,\n",
       " 'customerid=2709-uqgnp': -0.007193633889968625,\n",
       " 'customerid=2718-yskcs': -6.608508347123752e-05,\n",
       " ...}"
      ]
     },
     "execution_count": 756,
     "metadata": {},
     "output_type": "execute_result"
    }
   ],
   "source": [
    "# Weighs generated by different features\n",
    "dict(zip(dv.get_feature_names_out(), model.coef_[0]))"
   ]
  },
  {
   "cell_type": "code",
   "execution_count": 757,
   "metadata": {},
   "outputs": [],
   "source": [
    "small_set = list(df_train[['contract', 'tenure', 'totalcharges']].columns)"
   ]
  },
  {
   "cell_type": "code",
   "execution_count": 758,
   "metadata": {},
   "outputs": [],
   "source": [
    "dv_small = DictVectorizer(sparse=False)"
   ]
  },
  {
   "cell_type": "code",
   "execution_count": 759,
   "metadata": {},
   "outputs": [],
   "source": [
    "train_dict_small = df_train[small_set].to_dict(orient='records')"
   ]
  },
  {
   "cell_type": "code",
   "execution_count": 760,
   "metadata": {},
   "outputs": [
    {
     "data": {
      "text/html": [
       "<style>#sk-container-id-28 {color: black;}#sk-container-id-28 pre{padding: 0;}#sk-container-id-28 div.sk-toggleable {background-color: white;}#sk-container-id-28 label.sk-toggleable__label {cursor: pointer;display: block;width: 100%;margin-bottom: 0;padding: 0.3em;box-sizing: border-box;text-align: center;}#sk-container-id-28 label.sk-toggleable__label-arrow:before {content: \"▸\";float: left;margin-right: 0.25em;color: #696969;}#sk-container-id-28 label.sk-toggleable__label-arrow:hover:before {color: black;}#sk-container-id-28 div.sk-estimator:hover label.sk-toggleable__label-arrow:before {color: black;}#sk-container-id-28 div.sk-toggleable__content {max-height: 0;max-width: 0;overflow: hidden;text-align: left;background-color: #f0f8ff;}#sk-container-id-28 div.sk-toggleable__content pre {margin: 0.2em;color: black;border-radius: 0.25em;background-color: #f0f8ff;}#sk-container-id-28 input.sk-toggleable__control:checked~div.sk-toggleable__content {max-height: 200px;max-width: 100%;overflow: auto;}#sk-container-id-28 input.sk-toggleable__control:checked~label.sk-toggleable__label-arrow:before {content: \"▾\";}#sk-container-id-28 div.sk-estimator input.sk-toggleable__control:checked~label.sk-toggleable__label {background-color: #d4ebff;}#sk-container-id-28 div.sk-label input.sk-toggleable__control:checked~label.sk-toggleable__label {background-color: #d4ebff;}#sk-container-id-28 input.sk-hidden--visually {border: 0;clip: rect(1px 1px 1px 1px);clip: rect(1px, 1px, 1px, 1px);height: 1px;margin: -1px;overflow: hidden;padding: 0;position: absolute;width: 1px;}#sk-container-id-28 div.sk-estimator {font-family: monospace;background-color: #f0f8ff;border: 1px dotted black;border-radius: 0.25em;box-sizing: border-box;margin-bottom: 0.5em;}#sk-container-id-28 div.sk-estimator:hover {background-color: #d4ebff;}#sk-container-id-28 div.sk-parallel-item::after {content: \"\";width: 100%;border-bottom: 1px solid gray;flex-grow: 1;}#sk-container-id-28 div.sk-label:hover label.sk-toggleable__label {background-color: #d4ebff;}#sk-container-id-28 div.sk-serial::before {content: \"\";position: absolute;border-left: 1px solid gray;box-sizing: border-box;top: 0;bottom: 0;left: 50%;z-index: 0;}#sk-container-id-28 div.sk-serial {display: flex;flex-direction: column;align-items: center;background-color: white;padding-right: 0.2em;padding-left: 0.2em;position: relative;}#sk-container-id-28 div.sk-item {position: relative;z-index: 1;}#sk-container-id-28 div.sk-parallel {display: flex;align-items: stretch;justify-content: center;background-color: white;position: relative;}#sk-container-id-28 div.sk-item::before, #sk-container-id-28 div.sk-parallel-item::before {content: \"\";position: absolute;border-left: 1px solid gray;box-sizing: border-box;top: 0;bottom: 0;left: 50%;z-index: -1;}#sk-container-id-28 div.sk-parallel-item {display: flex;flex-direction: column;z-index: 1;position: relative;background-color: white;}#sk-container-id-28 div.sk-parallel-item:first-child::after {align-self: flex-end;width: 50%;}#sk-container-id-28 div.sk-parallel-item:last-child::after {align-self: flex-start;width: 50%;}#sk-container-id-28 div.sk-parallel-item:only-child::after {width: 0;}#sk-container-id-28 div.sk-dashed-wrapped {border: 1px dashed gray;margin: 0 0.4em 0.5em 0.4em;box-sizing: border-box;padding-bottom: 0.4em;background-color: white;}#sk-container-id-28 div.sk-label label {font-family: monospace;font-weight: bold;display: inline-block;line-height: 1.2em;}#sk-container-id-28 div.sk-label-container {text-align: center;}#sk-container-id-28 div.sk-container {/* jupyter's `normalize.less` sets `[hidden] { display: none; }` but bootstrap.min.css set `[hidden] { display: none !important; }` so we also need the `!important` here to be able to override the default hidden behavior on the sphinx rendered scikit-learn.org. See: https://github.com/scikit-learn/scikit-learn/issues/21755 */display: inline-block !important;position: relative;}#sk-container-id-28 div.sk-text-repr-fallback {display: none;}</style><div id=\"sk-container-id-28\" class=\"sk-top-container\"><div class=\"sk-text-repr-fallback\"><pre>DictVectorizer(sparse=False)</pre><b>In a Jupyter environment, please rerun this cell to show the HTML representation or trust the notebook. <br />On GitHub, the HTML representation is unable to render, please try loading this page with nbviewer.org.</b></div><div class=\"sk-container\" hidden><div class=\"sk-item\"><div class=\"sk-estimator sk-toggleable\"><input class=\"sk-toggleable__control sk-hidden--visually\" id=\"sk-estimator-id-28\" type=\"checkbox\" checked><label for=\"sk-estimator-id-28\" class=\"sk-toggleable__label sk-toggleable__label-arrow\">DictVectorizer</label><div class=\"sk-toggleable__content\"><pre>DictVectorizer(sparse=False)</pre></div></div></div></div></div>"
      ],
      "text/plain": [
       "DictVectorizer(sparse=False)"
      ]
     },
     "execution_count": 760,
     "metadata": {},
     "output_type": "execute_result"
    }
   ],
   "source": [
    "dv_small.fit(train_dict_small)"
   ]
  },
  {
   "cell_type": "code",
   "execution_count": 761,
   "metadata": {},
   "outputs": [
    {
     "data": {
      "text/plain": [
       "array(['contract=month-to-month', 'contract=one_year',\n",
       "       'contract=two_year', 'tenure', 'totalcharges'], dtype=object)"
      ]
     },
     "execution_count": 761,
     "metadata": {},
     "output_type": "execute_result"
    }
   ],
   "source": [
    "dv_small.get_feature_names_out()"
   ]
  },
  {
   "cell_type": "code",
   "execution_count": 762,
   "metadata": {},
   "outputs": [],
   "source": [
    "model_small = LogisticRegression(solver='liblinear', random_state=1)"
   ]
  },
  {
   "cell_type": "code",
   "execution_count": 763,
   "metadata": {},
   "outputs": [],
   "source": [
    "X_train_small = dv.transform(train_dict_small)"
   ]
  },
  {
   "cell_type": "code",
   "execution_count": 764,
   "metadata": {},
   "outputs": [
    {
     "data": {
      "text/html": [
       "<style>#sk-container-id-29 {color: black;}#sk-container-id-29 pre{padding: 0;}#sk-container-id-29 div.sk-toggleable {background-color: white;}#sk-container-id-29 label.sk-toggleable__label {cursor: pointer;display: block;width: 100%;margin-bottom: 0;padding: 0.3em;box-sizing: border-box;text-align: center;}#sk-container-id-29 label.sk-toggleable__label-arrow:before {content: \"▸\";float: left;margin-right: 0.25em;color: #696969;}#sk-container-id-29 label.sk-toggleable__label-arrow:hover:before {color: black;}#sk-container-id-29 div.sk-estimator:hover label.sk-toggleable__label-arrow:before {color: black;}#sk-container-id-29 div.sk-toggleable__content {max-height: 0;max-width: 0;overflow: hidden;text-align: left;background-color: #f0f8ff;}#sk-container-id-29 div.sk-toggleable__content pre {margin: 0.2em;color: black;border-radius: 0.25em;background-color: #f0f8ff;}#sk-container-id-29 input.sk-toggleable__control:checked~div.sk-toggleable__content {max-height: 200px;max-width: 100%;overflow: auto;}#sk-container-id-29 input.sk-toggleable__control:checked~label.sk-toggleable__label-arrow:before {content: \"▾\";}#sk-container-id-29 div.sk-estimator input.sk-toggleable__control:checked~label.sk-toggleable__label {background-color: #d4ebff;}#sk-container-id-29 div.sk-label input.sk-toggleable__control:checked~label.sk-toggleable__label {background-color: #d4ebff;}#sk-container-id-29 input.sk-hidden--visually {border: 0;clip: rect(1px 1px 1px 1px);clip: rect(1px, 1px, 1px, 1px);height: 1px;margin: -1px;overflow: hidden;padding: 0;position: absolute;width: 1px;}#sk-container-id-29 div.sk-estimator {font-family: monospace;background-color: #f0f8ff;border: 1px dotted black;border-radius: 0.25em;box-sizing: border-box;margin-bottom: 0.5em;}#sk-container-id-29 div.sk-estimator:hover {background-color: #d4ebff;}#sk-container-id-29 div.sk-parallel-item::after {content: \"\";width: 100%;border-bottom: 1px solid gray;flex-grow: 1;}#sk-container-id-29 div.sk-label:hover label.sk-toggleable__label {background-color: #d4ebff;}#sk-container-id-29 div.sk-serial::before {content: \"\";position: absolute;border-left: 1px solid gray;box-sizing: border-box;top: 0;bottom: 0;left: 50%;z-index: 0;}#sk-container-id-29 div.sk-serial {display: flex;flex-direction: column;align-items: center;background-color: white;padding-right: 0.2em;padding-left: 0.2em;position: relative;}#sk-container-id-29 div.sk-item {position: relative;z-index: 1;}#sk-container-id-29 div.sk-parallel {display: flex;align-items: stretch;justify-content: center;background-color: white;position: relative;}#sk-container-id-29 div.sk-item::before, #sk-container-id-29 div.sk-parallel-item::before {content: \"\";position: absolute;border-left: 1px solid gray;box-sizing: border-box;top: 0;bottom: 0;left: 50%;z-index: -1;}#sk-container-id-29 div.sk-parallel-item {display: flex;flex-direction: column;z-index: 1;position: relative;background-color: white;}#sk-container-id-29 div.sk-parallel-item:first-child::after {align-self: flex-end;width: 50%;}#sk-container-id-29 div.sk-parallel-item:last-child::after {align-self: flex-start;width: 50%;}#sk-container-id-29 div.sk-parallel-item:only-child::after {width: 0;}#sk-container-id-29 div.sk-dashed-wrapped {border: 1px dashed gray;margin: 0 0.4em 0.5em 0.4em;box-sizing: border-box;padding-bottom: 0.4em;background-color: white;}#sk-container-id-29 div.sk-label label {font-family: monospace;font-weight: bold;display: inline-block;line-height: 1.2em;}#sk-container-id-29 div.sk-label-container {text-align: center;}#sk-container-id-29 div.sk-container {/* jupyter's `normalize.less` sets `[hidden] { display: none; }` but bootstrap.min.css set `[hidden] { display: none !important; }` so we also need the `!important` here to be able to override the default hidden behavior on the sphinx rendered scikit-learn.org. See: https://github.com/scikit-learn/scikit-learn/issues/21755 */display: inline-block !important;position: relative;}#sk-container-id-29 div.sk-text-repr-fallback {display: none;}</style><div id=\"sk-container-id-29\" class=\"sk-top-container\"><div class=\"sk-text-repr-fallback\"><pre>LogisticRegression(random_state=1, solver=&#x27;liblinear&#x27;)</pre><b>In a Jupyter environment, please rerun this cell to show the HTML representation or trust the notebook. <br />On GitHub, the HTML representation is unable to render, please try loading this page with nbviewer.org.</b></div><div class=\"sk-container\" hidden><div class=\"sk-item\"><div class=\"sk-estimator sk-toggleable\"><input class=\"sk-toggleable__control sk-hidden--visually\" id=\"sk-estimator-id-29\" type=\"checkbox\" checked><label for=\"sk-estimator-id-29\" class=\"sk-toggleable__label sk-toggleable__label-arrow\">LogisticRegression</label><div class=\"sk-toggleable__content\"><pre>LogisticRegression(random_state=1, solver=&#x27;liblinear&#x27;)</pre></div></div></div></div></div>"
      ],
      "text/plain": [
       "LogisticRegression(random_state=1, solver='liblinear')"
      ]
     },
     "execution_count": 764,
     "metadata": {},
     "output_type": "execute_result"
    }
   ],
   "source": [
    "model_small.fit(X_train_small, y_train)"
   ]
  },
  {
   "cell_type": "code",
   "execution_count": 765,
   "metadata": {},
   "outputs": [
    {
     "data": {
      "text/plain": [
       "-0.4169872674883036"
      ]
     },
     "execution_count": 765,
     "metadata": {},
     "output_type": "execute_result"
    }
   ],
   "source": [
    "model_small.intercept_[0]"
   ]
  },
  {
   "cell_type": "code",
   "execution_count": 766,
   "metadata": {},
   "outputs": [
    {
     "data": {
      "text/plain": [
       "{'contract=month-to-month': 0.624,\n",
       " 'contract=one_year': -0.283,\n",
       " 'contract=two_year': -0.758,\n",
       " 'tenure': 0.0,\n",
       " 'totalcharges': 0.0}"
      ]
     },
     "execution_count": 766,
     "metadata": {},
     "output_type": "execute_result"
    }
   ],
   "source": [
    "dict(zip(dv_small.get_feature_names_out(), model_small.coef_[0].round(3)))"
   ]
  },
  {
   "cell_type": "markdown",
   "metadata": {},
   "source": [
    "Using the model"
   ]
  },
  {
   "cell_type": "code",
   "execution_count": 767,
   "metadata": {},
   "outputs": [],
   "source": [
    "customer = {\n",
    "'customerid': '8879-zkjof',\n",
    "'gender': 'female',\n",
    "'seniorcitizen': 0,\n",
    "'partner': 'no',\n",
    "'dependents': 'no',\n",
    "'tenure': 41,\n",
    "'phoneservice': 'yes',\n",
    "'multiplelines': 'no',\n",
    "'internetservice': 'dsl',\n",
    "'onlinesecurity': 'yes',\n",
    "'onlinebackup': 'no',\n",
    "'deviceprotection': 'yes',\n",
    "'techsupport': 'yes',\n",
    "'streamingtv': 'yes',\n",
    "'streamingmovies': 'yes',\n",
    "'contract': 'one_year',\n",
    "'paperlessbilling': 'yes',\n",
    "'paymentmethod': 'bank_transfer_(automatic)',\n",
    "'monthlycharges': 79.85,\n",
    "'totalcharges': 3320.75,\n",
    "}"
   ]
  },
  {
   "cell_type": "code",
   "execution_count": 768,
   "metadata": {},
   "outputs": [],
   "source": [
    "df_train_copy = df_train.copy()"
   ]
  },
  {
   "cell_type": "code",
   "execution_count": 769,
   "metadata": {},
   "outputs": [],
   "source": [
    "del df_train_copy['customerid']"
   ]
  },
  {
   "cell_type": "code",
   "execution_count": 770,
   "metadata": {},
   "outputs": [],
   "source": [
    "customer_one = df_train_copy.head(1).to_dict(orient='records')"
   ]
  },
  {
   "cell_type": "code",
   "execution_count": 771,
   "metadata": {},
   "outputs": [],
   "source": [
    "X_customer_one = dv.transform(customer_one)"
   ]
  },
  {
   "cell_type": "code",
   "execution_count": 772,
   "metadata": {},
   "outputs": [
    {
     "data": {
      "text/plain": [
       "array([[  1. ,   0. ,   0. , ...,   0. ,   5. , 408.5]])"
      ]
     },
     "execution_count": 772,
     "metadata": {},
     "output_type": "execute_result"
    }
   ],
   "source": [
    "X_customer_one"
   ]
  },
  {
   "cell_type": "code",
   "execution_count": 775,
   "metadata": {},
   "outputs": [],
   "source": [
    "score = model.predict_proba(X_customer_one)[0, 1]"
   ]
  },
  {
   "cell_type": "code",
   "execution_count": 776,
   "metadata": {},
   "outputs": [
    {
     "name": "stdout",
     "output_type": "stream",
     "text": [
      "This customer will churn, send promotional email\n"
     ]
    }
   ],
   "source": [
    "if score >= 0.5:\n",
    "    print(\"This customer will churn, send promotional email\")\n",
    "else:\n",
    "    print(\"This is a loyal customer\")"
   ]
  },
  {
   "cell_type": "markdown",
   "metadata": {},
   "source": [
    "#### Model Evaluation"
   ]
  },
  {
   "cell_type": "code",
   "execution_count": 792,
   "metadata": {},
   "outputs": [],
   "source": [
    "y_pred = model.predict_proba(X_val)[:, 1]"
   ]
  },
  {
   "cell_type": "code",
   "execution_count": 801,
   "metadata": {},
   "outputs": [],
   "source": [
    "churn = (y_pred >= 0.5)"
   ]
  },
  {
   "cell_type": "code",
   "execution_count": 786,
   "metadata": {},
   "outputs": [
    {
     "name": "stdout",
     "output_type": "stream",
     "text": [
      "Accuracy Score: 0.7311827956989247\n"
     ]
    }
   ],
   "source": [
    "accuracy_score = (y_val == churn).mean()\n",
    "print(f\"Accuracy Score:\", accuracy_score)"
   ]
  },
  {
   "cell_type": "code",
   "execution_count": 790,
   "metadata": {},
   "outputs": [],
   "source": [
    "threshold = np.linspace(0, 1, 11)"
   ]
  },
  {
   "cell_type": "code",
   "execution_count": 811,
   "metadata": {},
   "outputs": [
    {
     "name": "stdout",
     "output_type": "stream",
     "text": [
      "Threshold Score\n",
      "0.00 0.269\n",
      "0.10 0.574\n",
      "0.20 0.687\n",
      "0.30 0.746\n",
      "0.40 0.776\n",
      "0.50 0.806\n",
      "0.60 0.800\n",
      "0.70 0.763\n",
      "0.80 0.734\n",
      "0.90 0.731\n",
      "1.00 0.731\n"
     ]
    }
   ],
   "source": [
    "tiles = ['Threshold', 'Score']\n",
    "print('%s %s' % (tiles[0], tiles[1]))\n",
    "for t in threshold:\n",
    "    churn = y_pred >= t\n",
    "    acc = accuracy_score(y_val, churn)\n",
    "    print('%0.2f %0.3f' % (t, acc))\n",
    "\n",
    "tiles = ['Threshold', 'Score']\n",
    "\n"
   ]
  },
  {
   "cell_type": "code",
   "execution_count": 815,
   "metadata": {},
   "outputs": [],
   "source": [
    "accuracies = []\n",
    "for t in threshold:\n",
    "    churn = y_pred>=t\n",
    "    acc = accuracy_score(y_val, churn)\n",
    "    accuracies.append(acc)\n"
   ]
  },
  {
   "cell_type": "code",
   "execution_count": 817,
   "metadata": {},
   "outputs": [
    {
     "data": {
      "text/plain": [
       "Text(0.5, 1.0, 'Threshold vs Accuracy')"
      ]
     },
     "execution_count": 817,
     "metadata": {},
     "output_type": "execute_result"
    },
    {
     "data": {
      "image/png": "[encoded data removed]",
      "text/plain": [
       "<Figure size 640x480 with 1 Axes>"
      ]
     },
     "metadata": {},
     "output_type": "display_data"
    }
   ],
   "source": [
    "plt.plot(threshold, accuracies)\n",
    "plt.title(\"Threshold vs Accuracy\")"
   ]
  },
  {
   "cell_type": "code",
   "execution_count": 825,
   "metadata": {},
   "outputs": [],
   "source": [
    "val_dict_small = df_val[small_set].to_dict(orient='records')"
   ]
  },
  {
   "cell_type": "code",
   "execution_count": 828,
   "metadata": {},
   "outputs": [],
   "source": [
    "X_val_dict_small = dv.transform(val_dict_small)"
   ]
  },
  {
   "cell_type": "code",
   "execution_count": 843,
   "metadata": {},
   "outputs": [],
   "source": [
    "val_dict_predict = model_small.predict_proba(X_val_dict_small)[:, 1]"
   ]
  },
  {
   "cell_type": "code",
   "execution_count": 844,
   "metadata": {},
   "outputs": [],
   "source": [
    "val_pred = val_dict_predict >= 0.5"
   ]
  },
  {
   "cell_type": "code",
   "execution_count": 845,
   "metadata": {},
   "outputs": [
    {
     "data": {
      "text/plain": [
       "0.774731182795699"
      ]
     },
     "execution_count": 845,
     "metadata": {},
     "output_type": "execute_result"
    }
   ],
   "source": [
    "# Prediction score for small model\n",
    "accuracy_score(y_val, val_pred)"
   ]
  },
  {
   "cell_type": "markdown",
   "metadata": {},
   "source": [
    "Dummy baseline model "
   ]
  }
 ],
 "metadata": {
  "kernelspec": {
   "display_name": "churn-prediction-E4ndOxZw-py3.11",
   "language": "python",
   "name": "python3"
  },
  "language_info": {
   "codemirror_mode": {
    "name": "ipython",
    "version": 3
   },
   "file_extension": ".py",
   "mimetype": "text/x-python",
   "name": "python",
   "nbconvert_exporter": "python",
   "pygments_lexer": "ipython3",
   "version": "3.11.4"
  },
  "orig_nbformat": 4
 },
 "nbformat": 4,
 "nbformat_minor": 2
}
